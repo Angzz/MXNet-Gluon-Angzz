{
 "cells": [
  {
   "cell_type": "markdown",
   "metadata": {},
   "source": [
    "# Multiclass Logistic Regression From Scratch\n",
    "\n",
    "给定输入向量$z$，softmax做两件事情：\n",
    "* 按元素级别(element-wise)将向量$z$指数化为$e^z$，强制性地让所有的值变为严格正数。\n",
    "* 正则化其和为1，公式为：\n",
    "$$softmax(z) = \\frac{e^z}{\\sum^k_{i=1}e^{z_i}}$$\n",
    "\n",
    "对于$k$个输出，我们的神经网络变化如下：\n",
    "\n",
    "![](https://github.com/zackchase/mxnet-the-straight-dope/blob/master/img/simple-softmax-net.png?raw=true)\n",
    "\n",
    "我们最终的输出结果变化如下，其中$W$为参数矩阵：\n",
    "\n",
    "$$\\hat{y} = \\text{softmax}(\\boldsymbol{x} W + \\boldsymbol{b})$$"
   ]
  },
  {
   "cell_type": "markdown",
   "metadata": {},
   "source": [
    "## batch training\n",
    "\n",
    "假设我们有d个输入和k个输出，我们写出上面表达式的维度信息：\n",
    "\n",
    "$$\\underset{1 \\times k}{\\boldsymbol z} = \\underset{1 \\times d}{\\boldsymbol{x}} \\underset{d \\times k}{W} + \\underset{1 \\times k}{\\boldsymbol{b}}$$\n",
    "\n",
    "通常我们使用one-hot编码来对输出结果进行编码，例如$\\hat y = 5$的one-hot编码为$\\boldsymbol {\\hat y}_{one-hot} = [0, 0, 0, 0, 1, 0, 0, 0, 0, 0]$(当我们的问题时10分类问题的时候)，所以$\\hat{y} = \\text{softmax}(\\boldsymbol z)$变成\n",
    "$$\\underset{1 \\times k}{\\boldsymbol{\\hat{y}}_{one-hot}} = \\text{softmax}_{one-hot}(\\underset{1 \\times k}{\\boldsymbol z})$$\n",
    "\n",
    "假若我们有m个batch的训练样本，由于选择使用了行向量，我们可以得到矩阵 $\\underset{m \\times d}{\\boldsymbol X}$，这是每个训练样本$x_i$的垂直叠加，\n",
    "\n",
    "$$\n",
    "X=\n",
    "\\begin{bmatrix}\n",
    "    \\boldsymbol x_1 \\\\\n",
    "    \\boldsymbol x_2 \\\\\n",
    "    \\vdots \\\\\n",
    "    \\boldsymbol x_m\n",
    "\\end{bmatrix}\n",
    "=\n",
    "\\begin{bmatrix}\n",
    "    x_{11} & x_{12} & x_{13} & \\dots  & x_{1d} \\\\\n",
    "    x_{21} & x_{22} & x_{23} & \\dots  & x_{2d} \\\\\n",
    "    \\vdots & \\vdots & \\vdots & \\ddots & \\vdots \\\\\n",
    "    x_{m1} & x_{m2} & x_{m3} & \\dots  & x_{md}\n",
    "\\end{bmatrix}\n",
    "$$\n",
    "\n",
    "在批训练的情形下，${\\boldsymbol{\\hat{y}}_{one-hot}} = \\text{softmax}({\\boldsymbol z})$变成\n",
    "$$Y = \\text{softmax}(Z) = \\text{softmax}(XW + B)$$\n",
    "\n",
    "偏置此时产生了变化，因为有$m$的训练样本，每个训练样本为$k$维，则每个训练样本的偏置为$k$维，那么$m$个训练样本的偏置为$\\underset{m \\times k}{B}$，其中\n",
    "\n",
    "$$ B = \n",
    "\\begin{bmatrix}\n",
    "    \\boldsymbol b \\\\\n",
    "    \\boldsymbol b \\\\\n",
    "    \\vdots \\\\\n",
    "    \\boldsymbol b\n",
    "\\end{bmatrix}\n",
    "=\n",
    "\\begin{bmatrix}\n",
    "    b_{1} & b_{2} & b_{3} & \\dots  & b_{k} \\\\\n",
    "    b_{1} & b_{2} & b_{3} & \\dots  & b_{k} \\\\\n",
    "    \\vdots & \\vdots & \\vdots & \\ddots & \\vdots \\\\\n",
    "    b_{1} & b_{2} & b_{3} & \\dots  & b_{k}\n",
    "\\end{bmatrix}$$\n",
    "\n",
    "行矩阵$\\underset{m \\times k}{\\boldsymbol{Z}}$的每一行代表一个$k$维的训练样本，softmax函数作用于矩阵$Z$的每一行然后返回一个$\\underset{m \\times k}{\\boldsymbol{Y}}$的矩阵，每一行代表一个训练样本的$one-hot$编码预测值。"
   ]
  },
  {
   "cell_type": "markdown",
   "metadata": {},
   "source": [
    "## 导入库函数"
   ]
  },
  {
   "cell_type": "code",
   "execution_count": 1,
   "metadata": {
    "ExecuteTime": {
     "end_time": "2018-01-12T08:12:53.014699Z",
     "start_time": "2018-01-12T08:12:52.241780Z"
    }
   },
   "outputs": [],
   "source": [
    "import numpy as np\n",
    "import mxnet as mx\n",
    "from mxnet import nd\n",
    "from mxnet import autograd\n",
    "from mxnet import gluon\n",
    "mx.random.seed(1)\n",
    "\n",
    "import matplotlib.pyplot as plt"
   ]
  },
  {
   "cell_type": "markdown",
   "metadata": {},
   "source": [
    "## 设置context"
   ]
  },
  {
   "cell_type": "code",
   "execution_count": 2,
   "metadata": {
    "ExecuteTime": {
     "end_time": "2018-01-12T08:12:53.025041Z",
     "start_time": "2018-01-12T08:12:53.020189Z"
    }
   },
   "outputs": [],
   "source": [
    "data_ctx = mx.cpu()\n",
    "model_ctx = mx.cpu()\n",
    "# model_ctx = mx.gpu()"
   ]
  },
  {
   "cell_type": "markdown",
   "metadata": {},
   "source": [
    "## 通过``gluon``读取MNIST数据集"
   ]
  },
  {
   "cell_type": "code",
   "execution_count": 3,
   "metadata": {
    "ExecuteTime": {
     "end_time": "2018-01-12T08:12:53.544869Z",
     "start_time": "2018-01-12T08:12:53.031143Z"
    }
   },
   "outputs": [],
   "source": [
    "# 定义transform函数，将data和label变为浮点数，并且将pixel正则化至[0,1]区间\n",
    "def transform(data, label):\n",
    "    return data.astype(np.float32) / 255, label.astype(np.float32)\n",
    "\n",
    "mnist_train = gluon.data.vision.MNIST(train=True, transform=transform)\n",
    "mnist_test = gluon.data.vision.MNIST(train=False, transform=transform)"
   ]
  },
  {
   "cell_type": "code",
   "execution_count": 4,
   "metadata": {
    "ExecuteTime": {
     "end_time": "2018-01-12T08:12:53.560128Z",
     "start_time": "2018-01-12T08:12:53.550569Z"
    }
   },
   "outputs": [
    {
     "name": "stdout",
     "output_type": "stream",
     "text": [
      "(28, 28, 1)\n",
      "0.0\n"
     ]
    }
   ],
   "source": [
    "# test\n",
    "data, label = mnist_train[1]\n",
    "print(data.shape)\n",
    "print(label)"
   ]
  },
  {
   "cell_type": "code",
   "execution_count": 5,
   "metadata": {
    "ExecuteTime": {
     "end_time": "2018-01-12T08:12:54.080548Z",
     "start_time": "2018-01-12T08:12:53.565726Z"
    },
    "scrolled": true
   },
   "outputs": [
    {
     "data": {
      "image/png": "[encoded data removed]",
      "text/plain": [
       "<matplotlib.figure.Figure at 0x7fb491166390>"
      ]
     },
     "metadata": {},
     "output_type": "display_data"
    },
    {
     "data": {
      "text/plain": [
       "['五', '零', '四', '一', '九', '二', '一', '三', '一']"
      ]
     },
     "execution_count": 5,
     "metadata": {},
     "output_type": "execute_result"
    }
   ],
   "source": [
    "def show_images(images):\n",
    "    n = images.shape[0]\n",
    "    f, figs = plt.subplots(1, n, figsize=(15, 15))\n",
    "    for i in range(n):\n",
    "        figs[i].imshow(images[i].reshape((28,28)).asnumpy())\n",
    "        figs[i].axes.get_xaxis().set_visible(False)\n",
    "        figs[i].axes.get_yaxis().set_visible(False)\n",
    "    plt.show()\n",
    "\n",
    "def get_image_text(img_label):\n",
    "    n = img_label.shape[0]\n",
    "    text_labels = ['零','一','二','三','四','五','六','七','八','九']\n",
    "    return [text_labels[int(img_label[i])] for i in range(n)]\n",
    "    \n",
    "data, label = mnist_train[0:9]\n",
    "show_images(data)\n",
    "get_image_text(label)"
   ]
  },
  {
   "cell_type": "markdown",
   "metadata": {},
   "source": [
    "##  记录数据和标签的shape\n",
    "\n",
    "一般来说，我们不希望我们的模型代码太在意输入数据的确切形状。这样我们就可以在不改变后面的代码的情况下切换不同的数据集。所以我们习惯于定义变量来保存输入和输出的数量。"
   ]
  },
  {
   "cell_type": "code",
   "execution_count": 6,
   "metadata": {
    "ExecuteTime": {
     "end_time": "2018-01-12T08:12:54.103843Z",
     "start_time": "2018-01-12T08:12:54.086252Z"
    }
   },
   "outputs": [
    {
     "name": "stdout",
     "output_type": "stream",
     "text": [
      "(60000, 28, 28, 1)\n",
      "(60000,)\n",
      "(10000, 28, 28, 1)\n",
      "(10000,)\n"
     ]
    }
   ],
   "source": [
    "data_train, label_train = mnist_train[:]\n",
    "data_test, label_test = mnist_test[:]\n",
    "print(data_train.shape)\n",
    "print(label_train.shape)\n",
    "print(data_test.shape)\n",
    "print(label_test.shape)"
   ]
  },
  {
   "cell_type": "code",
   "execution_count": 7,
   "metadata": {
    "ExecuteTime": {
     "end_time": "2018-01-12T08:12:54.117529Z",
     "start_time": "2018-01-12T08:12:54.109769Z"
    }
   },
   "outputs": [],
   "source": [
    "num_inputs = 784\n",
    "num_outputs = 10\n",
    "num_examples = 60000"
   ]
  },
  {
   "cell_type": "markdown",
   "metadata": {},
   "source": [
    "机器学习库通常期望以（batch，channel，height，width）格式查找图像。但是，大多数可视化的库以（height，width，channel）格式村存储。所以我们把我们的图像转换成预期的形状。在这种情况下，matplotlib需要使用RGB通道的（height, width）或（height, width, channel），所以让我们把我们的单通道广播到三通道。"
   ]
  },
  {
   "cell_type": "code",
   "execution_count": 8,
   "metadata": {
    "ExecuteTime": {
     "end_time": "2018-01-12T08:12:54.138929Z",
     "start_time": "2018-01-12T08:12:54.123703Z"
    }
   },
   "outputs": [
    {
     "data": {
      "text/plain": [
       "(28, 28, 3)"
      ]
     },
     "execution_count": 8,
     "metadata": {},
     "output_type": "execute_result"
    }
   ],
   "source": [
    "image, label = mnist_train[0]\n",
    "im = nd.tile(image, (1,1,3)) # 可以这样理解 第1 2通道不变，第三通道扩展三倍\n",
    "im.shape"
   ]
  },
  {
   "cell_type": "code",
   "execution_count": 9,
   "metadata": {
    "ExecuteTime": {
     "end_time": "2018-01-12T08:12:54.479667Z",
     "start_time": "2018-01-12T08:12:54.141492Z"
    }
   },
   "outputs": [
    {
     "data": {
      "image/png": "[encoded data removed]",
      "text/plain": [
       "<matplotlib.figure.Figure at 0x7fb49113b9e8>"
      ]
     },
     "metadata": {},
     "output_type": "display_data"
    }
   ],
   "source": [
    "plt.imshow(im.asnumpy())\n",
    "plt.show()"
   ]
  },
  {
   "cell_type": "code",
   "execution_count": 10,
   "metadata": {
    "ExecuteTime": {
     "end_time": "2018-01-12T08:12:54.604234Z",
     "start_time": "2018-01-12T08:12:54.485068Z"
    }
   },
   "outputs": [
    {
     "data": {
      "image/png": "[encoded data removed]",
      "text/plain": [
       "<matplotlib.figure.Figure at 0x7fb49113bef0>"
      ]
     },
     "metadata": {},
     "output_type": "display_data"
    }
   ],
   "source": [
    "plt.imshow(image.reshape((28,28)).asnumpy())\n",
    "plt.show()"
   ]
  },
  {
   "cell_type": "markdown",
   "metadata": {},
   "source": [
    "## 关于``nd.tile``的用法\n",
    "\n",
    "可以这样理解，如果复试为reps=(2,3)，就是将第一维度乘以2倍，第二维度乘以3倍；"
   ]
  },
  {
   "cell_type": "code",
   "execution_count": 11,
   "metadata": {
    "ExecuteTime": {
     "end_time": "2018-01-12T08:12:54.617877Z",
     "start_time": "2018-01-12T08:12:54.609706Z"
    }
   },
   "outputs": [
    {
     "data": {
      "text/plain": [
       "\n",
       "[[ 1.  2.]\n",
       " [ 3.  4.]]\n",
       "<NDArray 2x2 @cpu(0)>"
      ]
     },
     "execution_count": 11,
     "metadata": {},
     "output_type": "execute_result"
    }
   ],
   "source": [
    "x = nd.array([[1,2],[3,4]])\n",
    "x"
   ]
  },
  {
   "cell_type": "code",
   "execution_count": 12,
   "metadata": {
    "ExecuteTime": {
     "end_time": "2018-01-12T08:12:54.631109Z",
     "start_time": "2018-01-12T08:12:54.623405Z"
    }
   },
   "outputs": [
    {
     "data": {
      "text/plain": [
       "\n",
       "[[ 1.  2.  1.  2.  1.  2.]\n",
       " [ 3.  4.  3.  4.  3.  4.]\n",
       " [ 1.  2.  1.  2.  1.  2.]\n",
       " [ 3.  4.  3.  4.  3.  4.]]\n",
       "<NDArray 4x6 @cpu(0)>"
      ]
     },
     "execution_count": 12,
     "metadata": {},
     "output_type": "execute_result"
    }
   ],
   "source": [
    "nd.tile(x, reps=(2,3))"
   ]
  },
  {
   "cell_type": "code",
   "execution_count": 13,
   "metadata": {
    "ExecuteTime": {
     "end_time": "2018-01-12T08:12:54.643926Z",
     "start_time": "2018-01-12T08:12:54.636640Z"
    }
   },
   "outputs": [
    {
     "data": {
      "text/plain": [
       "\n",
       "[[ 1.  2.  1.  2.]\n",
       " [ 3.  4.  3.  4.]]\n",
       "<NDArray 2x4 @cpu(0)>"
      ]
     },
     "execution_count": 13,
     "metadata": {},
     "output_type": "execute_result"
    }
   ],
   "source": [
    "nd.tile(x, reps=(2,))"
   ]
  },
  {
   "cell_type": "code",
   "execution_count": 14,
   "metadata": {
    "ExecuteTime": {
     "end_time": "2018-01-12T08:12:54.656256Z",
     "start_time": "2018-01-12T08:12:54.648542Z"
    }
   },
   "outputs": [
    {
     "data": {
      "text/plain": [
       "\n",
       "[[[ 1.  2.  1.  2.  1.  2.]\n",
       "  [ 3.  4.  3.  4.  3.  4.]]]\n",
       "<NDArray 1x2x6 @cpu(0)>"
      ]
     },
     "execution_count": 14,
     "metadata": {},
     "output_type": "execute_result"
    }
   ],
   "source": [
    "nd.tile(x, reps=(1,1,3))"
   ]
  },
  {
   "cell_type": "markdown",
   "metadata": {},
   "source": [
    "## 使用``gluon``加载数据"
   ]
  },
  {
   "cell_type": "code",
   "execution_count": 15,
   "metadata": {
    "ExecuteTime": {
     "end_time": "2018-01-12T08:12:54.666538Z",
     "start_time": "2018-01-12T08:12:54.661102Z"
    }
   },
   "outputs": [],
   "source": [
    "batch_size = 64    \n",
    "train_data = mx.gluon.data.DataLoader(mnist_train, batch_size, shuffle=True)\n",
    "test_data = mx.gluon.data.DataLoader(mnist_test, batch_size, shuffle=False) # 测试集一般不需要shuffle"
   ]
  },
  {
   "cell_type": "markdown",
   "metadata": {},
   "source": [
    "## 定义模型参数\n",
    "\n",
    "输入784，输出10，共60000个训练样本"
   ]
  },
  {
   "cell_type": "code",
   "execution_count": 16,
   "metadata": {
    "ExecuteTime": {
     "end_time": "2018-01-12T08:12:54.677830Z",
     "start_time": "2018-01-12T08:12:54.671597Z"
    }
   },
   "outputs": [],
   "source": [
    "W = nd.random.normal(shape=(num_inputs, num_outputs))\n",
    "b = nd.random.normal(shape=num_outputs)\n",
    "params = [W, b]"
   ]
  },
  {
   "cell_type": "code",
   "execution_count": 17,
   "metadata": {
    "ExecuteTime": {
     "end_time": "2018-01-12T08:12:54.687853Z",
     "start_time": "2018-01-12T08:12:54.683521Z"
    }
   },
   "outputs": [],
   "source": [
    "for param in params:\n",
    "    param.attach_grad()"
   ]
  },
  {
   "cell_type": "markdown",
   "metadata": {},
   "source": [
    "## 定义模型\n",
    "\n",
    "这里在定义softmax函数时减去每行最大值的原因是：在某些涉及指数计算，可能最后算得值为INF(比如不做其他处理的softmax中分类分母需要计算exp(x))，值过大，最后可能为INF，得到NAN，此时你要确认你使用的softmax中计算exp(x)做了相关处理(比如减去最大值等)，即减去最大值避免出现NAN的情况。\n",
    "\n",
    "更详细的请参考这篇文章：\n",
    "\n",
    "[Softmax vs. Softmax-Loss: Numerical Stability](http://freemind.pluskid.org/machine-learning/softmax-vs-softmax-loss-numerical-stability/)"
   ]
  },
  {
   "cell_type": "code",
   "execution_count": 18,
   "metadata": {
    "ExecuteTime": {
     "end_time": "2018-01-12T08:12:54.699923Z",
     "start_time": "2018-01-12T08:12:54.693666Z"
    }
   },
   "outputs": [],
   "source": [
    "def softmax(y_linear): # m*k\n",
    "    expy = nd.exp(y_linear - nd.max(y_linear, axis=1).reshape((-1,1))) # 减去最大值保持一致中心化\n",
    "    norms = nd.sum(expy, axis=1).reshape((-1,1))\n",
    "    return expy / norms"
   ]
  },
  {
   "cell_type": "code",
   "execution_count": 19,
   "metadata": {
    "ExecuteTime": {
     "end_time": "2018-01-12T08:12:54.710978Z",
     "start_time": "2018-01-12T08:12:54.705814Z"
    }
   },
   "outputs": [],
   "source": [
    "def net(X):\n",
    "    y_linear = nd.dot(X, W) + b # (m,k) = (m,d) * (d,k) + (m,k) k为输出类别个数\n",
    "    yhat = softmax(y_linear)\n",
    "    return yhat"
   ]
  },
  {
   "cell_type": "code",
   "execution_count": 20,
   "metadata": {
    "ExecuteTime": {
     "end_time": "2018-01-12T08:12:54.726657Z",
     "start_time": "2018-01-12T08:12:54.716651Z"
    }
   },
   "outputs": [
    {
     "data": {
      "text/plain": [
       "(20, 10)"
      ]
     },
     "execution_count": 20,
     "metadata": {},
     "output_type": "execute_result"
    }
   ],
   "source": [
    "# test\n",
    "a = nd.random.normal(shape=(20, 784))\n",
    "o = net(a)\n",
    "o.shape"
   ]
  },
  {
   "cell_type": "markdown",
   "metadata": {},
   "source": [
    "## 模型初始化"
   ]
  },
  {
   "cell_type": "markdown",
   "metadata": {},
   "source": [
    "## 交叉熵损失函数\n",
    "\n",
    "## The  cross-entropy loss function\n",
    "\n",
    "在我们开始训练之前，我们需要定义一个损失函数，当我们的预测是一个概率分布时，这是有意义的。\n",
    "\n",
    "这里相关的损失函数被称为交叉熵，它可能是你在所有深度学习中最常见的损失函数。这是因为目前分类问题往往比回归问题要复杂得多。\n",
    "\n",
    "基本思想是我们将要把一个已经被格式化为一个one-hot向量的目标Y，其对应于正确标签的一个值被设置为1，而其他值被设置为0。例如 ``[0, 1, 0, 0, 0, 0, 0, 0, 0, 0]``。\n",
    "\n",
    "交叉熵损失的基本思想是我们只关心分配给正确标签的预测有多少概率。换句话说，对于真实的标签2，我们只关心对应于2的yhat的分量。交叉熵试图最大化赋予正确标签的对数似然。\n",
    "<hr>\n",
    "**中文版本的解释**\n",
    "\n",
    "我们需要定义一个针对预测为概率值的损失函数。其中最常见的是交叉熵损失函数，它将两个概率分布的负交叉熵作为目标值，最小化这个值等价于最大化这两个概率的相似度。\n",
    "\n",
    "具体来说，我们先将真实标号表示成一个概率分布，例如如果y=1，那么其对应的分布就是一个除了第二个元素为1其他全为0的长为10的向量，也就是 yvec=[0, 1, 0, 0, 0, 0, 0, 0, 0, 0]。那么交叉熵就是\n",
    "\n",
    "$$yvec[0]*log(yhat[0])+yvec[1]*log(yhat[1])...+yvec[n]*log(yhat[n])$$\n",
    "\n",
    "注意到yvec里面只有一个1，那么前面等价于log(yhat[y])。所以我们可以定义这个损失函数了\n",
    "\n",
    "<hr>\n",
    "\n",
    "<font color=\"red\">**其实可以这样理解**</font>\n",
    "\n",
    "二元交叉熵损失函数为：\n",
    "\n",
    "$$ \\ell (\\boldsymbol{y}, \\boldsymbol{\\hat{y}}) =  - \\sum_{i=1}^n y_i \\log \\hat{y}_i + (1-y_i) \\log (1-\\hat{y}_i).$$\n",
    "\n",
    "这里可以理解为多元交叉熵损失函数，因为二维的情况是只有一个0一个1，因此多元情况是有n-1个0，一个1。"
   ]
  },
  {
   "cell_type": "code",
   "execution_count": 21,
   "metadata": {
    "ExecuteTime": {
     "end_time": "2018-01-12T08:12:54.736294Z",
     "start_time": "2018-01-12T08:12:54.732088Z"
    }
   },
   "outputs": [],
   "source": [
    "def cross_entropy(yhat, y):\n",
    "    return -nd.sum(y * nd.log(yhat + 1e-6))"
   ]
  },
  {
   "cell_type": "markdown",
   "metadata": {},
   "source": [
    "## 定义优化器"
   ]
  },
  {
   "cell_type": "code",
   "execution_count": 22,
   "metadata": {
    "ExecuteTime": {
     "end_time": "2018-01-12T08:12:54.747258Z",
     "start_time": "2018-01-12T08:12:54.741503Z"
    }
   },
   "outputs": [],
   "source": [
    "def SGD(params, lr):\n",
    "    for param in params:\n",
    "        param[:] = param - lr * param.grad"
   ]
  },
  {
   "cell_type": "markdown",
   "metadata": {},
   "source": [
    "## 定义评估函数(accuracy)\n",
    "\n",
    "模型在整个数据集上的准确率"
   ]
  },
  {
   "cell_type": "code",
   "execution_count": 23,
   "metadata": {
    "ExecuteTime": {
     "end_time": "2018-01-12T08:12:54.764972Z",
     "start_time": "2018-01-12T08:12:54.754135Z"
    }
   },
   "outputs": [],
   "source": [
    "def evaluate_accuracy(data_iter, net):\n",
    "    numerator = 0.0\n",
    "    denominator = 0.0\n",
    "    for i, (data, label) in enumerate(data_iter):\n",
    "        data = data.reshape((-1, 784))\n",
    "        output = net(data)\n",
    "        prediction = nd.argmax(output, axis=1) # output:(batch_size*k) prediction是长度为batch_size的一维向量\n",
    "        numerator += nd.sum(prediction == label) #label也是长度为batch_size的一维向量\n",
    "        denominator += data.shape[0]\n",
    "    return (numerator / denominator).asscalar()"
   ]
  },
  {
   "cell_type": "markdown",
   "metadata": {},
   "source": [
    "因为我们随机初始化了这个模型，所以也就是说大约有训练集的十分之一的样本属于这十个类别中的某一个，因此我们的结果一定是大约1/10"
   ]
  },
  {
   "cell_type": "code",
   "execution_count": 24,
   "metadata": {
    "ExecuteTime": {
     "end_time": "2018-01-12T08:12:56.449682Z",
     "start_time": "2018-01-12T08:12:54.770820Z"
    }
   },
   "outputs": [
    {
     "data": {
      "text/plain": [
       "0.095399998"
      ]
     },
     "execution_count": 24,
     "metadata": {},
     "output_type": "execute_result"
    }
   ],
   "source": [
    "evaluate_accuracy(test_data, net)"
   ]
  },
  {
   "cell_type": "markdown",
   "metadata": {},
   "source": [
    "## 训练\n",
    "\n",
    "在训练过程中出现了损失一直没有改变的情况，这是因为少加入了SGD函数，导致根本就没有反向传，一定要学会细致检查代码"
   ]
  },
  {
   "cell_type": "code",
   "execution_count": 25,
   "metadata": {
    "ExecuteTime": {
     "end_time": "2018-01-12T08:14:54.284954Z",
     "start_time": "2018-01-12T08:12:56.454545Z"
    }
   },
   "outputs": [
    {
     "name": "stdout",
     "output_type": "stream",
     "text": [
      "Epoch 0, Avg loss 1.59716451541, train acc 0.85055, test acc 0.8611.\n",
      "Epoch 1, Avg loss 0.622724584977, train acc 0.880033, test acc 0.8868.\n",
      "Epoch 2, Avg loss 0.520621419255, train acc 0.891083, test acc 0.8931.\n",
      "Epoch 3, Avg loss 0.468707410328, train acc 0.897583, test acc 0.8974.\n",
      "Epoch 4, Avg loss 0.434070764601, train acc 0.89875, test acc 0.895.\n"
     ]
    }
   ],
   "source": [
    "epochs = 5\n",
    "learning_rate = 0.005\n",
    "\n",
    "for epoch in range(epochs):\n",
    "    cumulative_loss = 0.0\n",
    "    for i, (data, label) in enumerate(train_data):\n",
    "        data = data.reshape((-1, 784)) # 注意这里的维度变化\n",
    "        one_hot_label = nd.one_hot(label, 10) # (batch_size,k)\n",
    "        with autograd.record():\n",
    "            output = net(data)\n",
    "            loss = cross_entropy(output, one_hot_label)\n",
    "        loss.backward()\n",
    "        SGD(params, learning_rate)\n",
    "        cumulative_loss += nd.sum(loss).asscalar()\n",
    "        \n",
    "    train_acc = evaluate_accuracy(train_data, net)\n",
    "    test_acc = evaluate_accuracy(test_data, net)\n",
    "    print(\"Epoch %s, Avg loss %s, train acc %s, test acc %s.\" % \n",
    "          (epoch, cumulative_loss / num_examples, train_acc, test_acc))"
   ]
  },
  {
   "cell_type": "markdown",
   "metadata": {},
   "source": [
    "## 预测"
   ]
  },
  {
   "cell_type": "code",
   "execution_count": 26,
   "metadata": {
    "ExecuteTime": {
     "end_time": "2018-01-12T08:14:55.405659Z",
     "start_time": "2018-01-12T08:14:54.289857Z"
    }
   },
   "outputs": [
    {
     "data": {
      "image/png": "[encoded data removed]",
      "text/plain": [
       "<matplotlib.figure.Figure at 0x7fb48c03c400>"
      ]
     },
     "metadata": {},
     "output_type": "display_data"
    },
    {
     "name": "stdout",
     "output_type": "stream",
     "text": [
      "true label: \n",
      "[ 3.  1.  8.  2.  2.  1.  1.  0.  7.  6.]\n",
      "<NDArray 10 @cpu(0)>\n",
      "pred label: \n",
      "[ 3.  1.  8.  2.  2.  1.  1.  0.  3.  6.]\n",
      "<NDArray 10 @cpu(0)>\n"
     ]
    },
    {
     "data": {
      "image/png": "[encoded data removed]",
      "text/plain": [
       "<matplotlib.figure.Figure at 0x7fb4861f3160>"
      ]
     },
     "metadata": {},
     "output_type": "display_data"
    },
    {
     "name": "stdout",
     "output_type": "stream",
     "text": [
      "true label: \n",
      "[ 0.  6.  2.  2.  2.  7.  2.  6.  8.  6.]\n",
      "<NDArray 10 @cpu(0)>\n",
      "pred label: \n",
      "[ 6.  6.  2.  2.  2.  7.  2.  0.  3.  6.]\n",
      "<NDArray 10 @cpu(0)>\n"
     ]
    },
    {
     "data": {
      "image/png": "[encoded data removed]",
      "text/plain": [
       "<matplotlib.figure.Figure at 0x7fb4861f3780>"
      ]
     },
     "metadata": {},
     "output_type": "display_data"
    },
    {
     "name": "stdout",
     "output_type": "stream",
     "text": [
      "true label: \n",
      "[ 1.  6.  6.  3.  4.  5.  1.  7.  1.  1.]\n",
      "<NDArray 10 @cpu(0)>\n",
      "pred label: \n",
      "[ 1.  6.  6.  3.  4.  5.  1.  7.  1.  1.]\n",
      "<NDArray 10 @cpu(0)>\n"
     ]
    },
    {
     "data": {
      "image/png": "[encoded data removed]",
      "text/plain": [
       "<matplotlib.figure.Figure at 0x7fb4c37315c0>"
      ]
     },
     "metadata": {},
     "output_type": "display_data"
    },
    {
     "name": "stdout",
     "output_type": "stream",
     "text": [
      "true label: \n",
      "[ 6.  0.  4.  4.  5.  2.  2.  0.  2.  4.]\n",
      "<NDArray 10 @cpu(0)>\n",
      "pred label: \n",
      "[ 6.  0.  4.  4.  5.  2.  2.  0.  2.  4.]\n",
      "<NDArray 10 @cpu(0)>\n"
     ]
    },
    {
     "data": {
      "image/png": "[encoded data removed]",
      "text/plain": [
       "<matplotlib.figure.Figure at 0x7fb491172a20>"
      ]
     },
     "metadata": {},
     "output_type": "display_data"
    },
    {
     "name": "stdout",
     "output_type": "stream",
     "text": [
      "true label: \n",
      "[ 5.  5.  6.  9.  3.  9.  3.  5.  4.  2.]\n",
      "<NDArray 10 @cpu(0)>\n",
      "pred label: \n",
      "[ 5.  5.  6.  9.  3.  4.  3.  5.  4.  2.]\n",
      "<NDArray 10 @cpu(0)>\n"
     ]
    },
    {
     "data": {
      "image/png": "[encoded data removed]",
      "text/plain": [
       "<matplotlib.figure.Figure at 0x7fb48c0c6710>"
      ]
     },
     "metadata": {},
     "output_type": "display_data"
    },
    {
     "name": "stdout",
     "output_type": "stream",
     "text": [
      "true label: \n",
      "[ 2.  5.  5.  0.  7.  2.  4.  4.  4.  5.]\n",
      "<NDArray 10 @cpu(0)>\n",
      "pred label: \n",
      "[ 2.  5.  5.  0.  7.  2.  4.  4.  4.  5.]\n",
      "<NDArray 10 @cpu(0)>\n"
     ]
    },
    {
     "data": {
      "image/png": "[encoded data removed]",
      "text/plain": [
       "<matplotlib.figure.Figure at 0x7fb48c0c67b8>"
      ]
     },
     "metadata": {},
     "output_type": "display_data"
    },
    {
     "name": "stdout",
     "output_type": "stream",
     "text": [
      "true label: \n",
      "[ 3.  1.  0.  7.  0.  8.  0.  1.  1.  2.]\n",
      "<NDArray 10 @cpu(0)>\n",
      "pred label: \n",
      "[ 3.  1.  0.  7.  0.  8.  0.  1.  1.  2.]\n",
      "<NDArray 10 @cpu(0)>\n"
     ]
    },
    {
     "data": {
      "image/png": "[encoded data removed]",
      "text/plain": [
       "<matplotlib.figure.Figure at 0x7fb48c0c6828>"
      ]
     },
     "metadata": {},
     "output_type": "display_data"
    },
    {
     "name": "stdout",
     "output_type": "stream",
     "text": [
      "true label: \n",
      "[ 7.  6.  2.  6.  9.  2.  6.  3.  1.  9.]\n",
      "<NDArray 10 @cpu(0)>\n",
      "pred label: \n",
      "[ 7.  6.  2.  6.  9.  2.  6.  3.  1.  4.]\n",
      "<NDArray 10 @cpu(0)>\n"
     ]
    },
    {
     "data": {
      "image/png": "[encoded data removed]",
      "text/plain": [
       "<matplotlib.figure.Figure at 0x7fb48c0c6518>"
      ]
     },
     "metadata": {},
     "output_type": "display_data"
    },
    {
     "name": "stdout",
     "output_type": "stream",
     "text": [
      "true label: \n",
      "[ 2.  4.  7.  8.  0.  4.  4.  9.  0.  0.]\n",
      "<NDArray 10 @cpu(0)>\n",
      "pred label: \n",
      "[ 8.  4.  7.  8.  0.  4.  4.  9.  0.  0.]\n",
      "<NDArray 10 @cpu(0)>\n"
     ]
    },
    {
     "data": {
      "image/png": "[encoded data removed]",
      "text/plain": [
       "<matplotlib.figure.Figure at 0x7fb48c0c59e8>"
      ]
     },
     "metadata": {},
     "output_type": "display_data"
    },
    {
     "name": "stdout",
     "output_type": "stream",
     "text": [
      "true label: \n",
      "[ 9.  6.  3.  6.  2.  0.  3.  4.  0.  4.]\n",
      "<NDArray 10 @cpu(0)>\n",
      "pred label: \n",
      "[ 9.  6.  3.  6.  2.  0.  3.  4.  0.  4.]\n",
      "<NDArray 10 @cpu(0)>\n"
     ]
    }
   ],
   "source": [
    "def model_prediction(net, data):\n",
    "    output = net(data)\n",
    "    return nd.argmax(output, axis=1)\n",
    "\n",
    "# 随机采样十个测试集中的样本点画出并观察预测结果\n",
    "niter = 0\n",
    "sample_data = gluon.data.DataLoader(mnist_test, 10, shuffle=True)\n",
    "for i , (data, label) in enumerate(sample_data):\n",
    "    im = nd.transpose(data, (1,0,2,3))\n",
    "    im_concat = nd.reshape(im, (28, 10*28, 1))\n",
    "    im_tile = nd.tile(im_concat, (1,1,3))\n",
    "    plt.imshow(im_tile.asnumpy())\n",
    "    plt.show()\n",
    "    pred = model_prediction(net, data.reshape((data.shape[0], -1)))\n",
    "    print(\"true label:\", label)\n",
    "    print(\"pred label:\", pred)\n",
    "    niter += 1\n",
    "    if niter == 10:\n",
    "        break"
   ]
  },
  {
   "cell_type": "markdown",
   "metadata": {
    "ExecuteTime": {
     "end_time": "2018-01-12T08:06:09.821776Z",
     "start_time": "2018-01-12T08:06:09.808159Z"
    }
   },
   "source": [
    "## ``nd.pick``的用法"
   ]
  },
  {
   "cell_type": "code",
   "execution_count": 29,
   "metadata": {
    "ExecuteTime": {
     "end_time": "2018-01-12T08:21:21.560403Z",
     "start_time": "2018-01-12T08:21:21.550225Z"
    }
   },
   "outputs": [
    {
     "name": "stdout",
     "output_type": "stream",
     "text": [
      "\n",
      "[[ 0.  1.]\n",
      " [ 2.  3.]\n",
      " [ 4.  5.]]\n",
      "<NDArray 3x2 @cpu(0)>\n"
     ]
    }
   ],
   "source": [
    "x = nd.arange(6).reshape((3,2))\n",
    "y = nd.array([0,1,1])\n",
    "print(x)"
   ]
  },
  {
   "cell_type": "code",
   "execution_count": 30,
   "metadata": {
    "ExecuteTime": {
     "end_time": "2018-01-12T08:21:29.381604Z",
     "start_time": "2018-01-12T08:21:29.371512Z"
    }
   },
   "outputs": [
    {
     "data": {
      "text/plain": [
       "\n",
       "[[ 0.]\n",
       " [ 3.]\n",
       " [ 5.]]\n",
       "<NDArray 3x1 @cpu(0)>"
      ]
     },
     "execution_count": 30,
     "metadata": {},
     "output_type": "execute_result"
    }
   ],
   "source": [
    "nd.pick(x, y, 1, keepdims=True)"
   ]
  },
  {
   "cell_type": "code",
   "execution_count": null,
   "metadata": {},
   "outputs": [],
   "source": []
  }
 ],
 "metadata": {
  "kernelspec": {
   "display_name": "Python 3",
   "language": "python",
   "name": "python3"
  },
  "language_info": {
   "codemirror_mode": {
    "name": "ipython",
    "version": 3
   },
   "file_extension": ".py",
   "mimetype": "text/x-python",
   "name": "python",
   "nbconvert_exporter": "python",
   "pygments_lexer": "ipython3",
   "version": "3.5.2"
  },
  "latex_envs": {
   "LaTeX_envs_menu_present": true,
   "autocomplete": true,
   "bibliofile": "biblio.bib",
   "cite_by": "apalike",
   "current_citInitial": 1,
   "eqLabelWithNumbers": true,
   "eqNumInitial": 1,
   "hotkeys": {
    "equation": "Ctrl-E",
    "itemize": "Ctrl-I"
   },
   "labels_anchors": false,
   "latex_user_defs": false,
   "report_style_numbering": false,
   "user_envs_cfg": false
  }
 },
 "nbformat": 4,
 "nbformat_minor": 2
}
