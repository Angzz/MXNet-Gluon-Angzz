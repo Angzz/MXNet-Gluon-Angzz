{
 "cells": [
  {
   "cell_type": "markdown",
   "metadata": {},
   "source": [
    "# 从0开始梯度下降\n",
    "\n",
    "我们要拟合的式子为：\n",
    "\n",
    "$$Y = 2 \\times X_1 - 3.4 \\times X_2 + 4.2$$\n",
    "\n",
    "下面我们用线性回归的例子来进行梯度下降。"
   ]
  },
  {
   "cell_type": "code",
   "execution_count": 1,
   "metadata": {
    "ExecuteTime": {
     "end_time": "2018-01-27T05:51:39.098617Z",
     "start_time": "2018-01-27T05:51:38.183931Z"
    }
   },
   "outputs": [],
   "source": [
    "import random\n",
    "import mxnet as mx\n",
    "import numpy as np\n",
    "\n",
    "from mxnet import nd\n",
    "from mxnet import gluon\n",
    "from mxnet import autograd\n",
    "\n",
    "import matplotlib\n",
    "import matplotlib.pyplot as plt\n",
    "%matplotlib inline\n",
    "matplotlib.rcParams['figure.dpi'] = 120\n",
    "\n",
    "\n",
    "ctx = mx.cpu()\n",
    "\n",
    "mx.random.seed(1)\n",
    "random.seed(1)"
   ]
  },
  {
   "cell_type": "code",
   "execution_count": 2,
   "metadata": {
    "ExecuteTime": {
     "end_time": "2018-01-27T05:51:39.109657Z",
     "start_time": "2018-01-27T05:51:39.104160Z"
    }
   },
   "outputs": [],
   "source": [
    "def SGD(params, lr, batch_size):\n",
    "    for param in params:\n",
    "        param[:] = param - lr * param.grad / batch_size "
   ]
  },
  {
   "cell_type": "code",
   "execution_count": 3,
   "metadata": {
    "ExecuteTime": {
     "end_time": "2018-01-27T05:51:39.173901Z",
     "start_time": "2018-01-27T05:51:39.115700Z"
    }
   },
   "outputs": [],
   "source": [
    "true_w = [2, -3.4]\n",
    "true_b = 4.2\n",
    "\n",
    "num_examples = 1000\n",
    "num_inputs = 2\n",
    "num_outputs = 1\n",
    "\n",
    "X = nd.random.normal(scale=1, shape=(num_examples, num_inputs), ctx=ctx)\n",
    "Y = true_w[0] * X[:, 0] + true_w[1] * X[:, 1] + true_b\n",
    "Y += 0.01 * nd.random.normal(shape=(num_examples))\n",
    "dataset = gluon.data.ArrayDataset(X, Y)\n",
    "\n",
    "def data_iter(batch_size):\n",
    "    idx = list(range(X.shape[0]))\n",
    "    random.shuffle(idx)\n",
    "    for i in range(0, len(idx), batch_size):\n",
    "        j = nd.array(idx[i:min(i+batch_size, num_examples)])\n",
    "        yield i, X.take(j), Y.take(j)\n",
    "        \n",
    "def init_params():\n",
    "    W = nd.random.normal(shape=(num_inputs, num_outputs))\n",
    "    b = nd.random.normal(shape=num_outputs)\n",
    "    params = [W, b]\n",
    "    for param in params:\n",
    "        param.attach_grad()\n",
    "    return W, b\n",
    "        \n",
    "def net(X, W, b):\n",
    "    return nd.dot(X, W) + b\n",
    "\n",
    "def square_loss(yhat, y):\n",
    "    return (yhat - y.reshape(yhat.shape))**2 / 2"
   ]
  },
  {
   "cell_type": "code",
   "execution_count": 4,
   "metadata": {
    "ExecuteTime": {
     "end_time": "2018-01-27T05:51:39.233983Z",
     "start_time": "2018-01-27T05:51:39.180176Z"
    }
   },
   "outputs": [],
   "source": [
    "'''\n",
    "batch_size : 批量的大小\n",
    "lr : 学习率\n",
    "epochs : 迭代几次\n",
    "period : 在一次epoch中每迭代period次就往total_loss中添加一次损失值\n",
    "'''\n",
    "def train(batch_size, lr, epochs, period):\n",
    "    assert period >= batch_size and period % batch_size == 0\n",
    "    W, b = init_params()\n",
    "\n",
    "    total_loss = [nd.mean(square_loss(net(X, W, b), Y)).asnumpy()]\n",
    "    for epoch in range(epochs):\n",
    "        if epoch > 2:\n",
    "            lr *= .1\n",
    "        for batch_i, data, label in data_iter(batch_size):\n",
    "            with autograd.record():\n",
    "                output = net(data, W, b)\n",
    "                loss = square_loss(output, label)\n",
    "            loss.backward()\n",
    "            SGD([W, b], lr, batch_size)\n",
    "            \n",
    "            # 在一次epoch中每迭代period次就往total_loss中添加一次\n",
    "            if not batch_i * batch_size % period:\n",
    "                total_loss.append(nd.mean(square_loss(net(X, W, b), Y)).asnumpy())\n",
    "        print(\"Epoch %d, lr : %d, Train Loss %.5f\" % (epoch, lr, total_loss[-1]))\n",
    "        print(\"W : %s, b : %s\" % (W.reshape((2,)).asnumpy(), b.asnumpy()[0]))\n",
    "        \n",
    "    plt.figure(figsize=(6, 5))\n",
    "    xlabel = np.linspace(0, epochs, len(total_loss))\n",
    "    # semilogy的作用就是将y取对数，这样使得结果看起来更加明显 否则图像过于平滑\n",
    "    plt.semilogy(xlabel, total_loss, color=\"b\")\n",
    "    plt.xlabel(\"Epoch\")\n",
    "    plt.ylabel(\"Loss\")\n",
    "    plt.show()"
   ]
  },
  {
   "cell_type": "code",
   "execution_count": 5,
   "metadata": {
    "ExecuteTime": {
     "end_time": "2018-01-27T05:51:44.324468Z",
     "start_time": "2018-01-27T05:51:39.241204Z"
    }
   },
   "outputs": [
    {
     "name": "stdout",
     "output_type": "stream",
     "text": [
      "Epoch 0, lr : 0, Train Loss 0.00005\n",
      "W : [ 2.00074172 -3.40199208], b : 4.19687\n",
      "Epoch 1, lr : 0, Train Loss 0.00006\n",
      "W : [ 2.00165653 -3.39972091], b : 4.1985\n",
      "Epoch 2, lr : 0, Train Loss 0.00006\n",
      "W : [ 2.00266576 -3.40139079], b : 4.19913\n"
     ]
    },
    {
     "data": {
      "image/png": "[encoded data removed]",
      "text/plain": [
       "<matplotlib.figure.Figure at 0x7f50707c6668>"
      ]
     },
     "metadata": {},
     "output_type": "display_data"
    }
   ],
   "source": [
    "# 随机梯度下降\n",
    "train(batch_size=1, lr=0.1, epochs=3, period=10)"
   ]
  },
  {
   "cell_type": "code",
   "execution_count": 6,
   "metadata": {
    "ExecuteTime": {
     "end_time": "2018-01-27T05:51:44.769631Z",
     "start_time": "2018-01-27T05:51:44.330466Z"
    }
   },
   "outputs": [
    {
     "name": "stdout",
     "output_type": "stream",
     "text": [
      "Epoch 0, lr : 0, Train Loss 0.15286\n",
      "W : [ 2.53748322 -3.25920725], b : 4.18508\n",
      "Epoch 1, lr : 0, Train Loss 0.00143\n",
      "W : [ 1.99469638 -3.36049438], b : 4.16367\n",
      "Epoch 2, lr : 0, Train Loss 0.00006\n",
      "W : [ 2.00522447 -3.39686561], b : 4.1986\n"
     ]
    },
    {
     "data": {
      "image/png": "[encoded data removed]",
      "text/plain": [
       "<matplotlib.figure.Figure at 0x7f503cc0e9b0>"
      ]
     },
     "metadata": {},
     "output_type": "display_data"
    }
   ],
   "source": [
    "# 梯度下降\n",
    "train(batch_size=1000, lr=0.999, epochs=3, period=1000)"
   ]
  },
  {
   "cell_type": "code",
   "execution_count": 10,
   "metadata": {
    "ExecuteTime": {
     "end_time": "2018-01-27T05:52:43.776759Z",
     "start_time": "2018-01-27T05:52:42.775734Z"
    }
   },
   "outputs": [
    {
     "name": "stdout",
     "output_type": "stream",
     "text": [
      "Epoch 0, lr : 0, Train Loss 0.00005\n",
      "W : [ 2.00080633 -3.40046406], b : 4.20079\n",
      "Epoch 1, lr : 0, Train Loss 0.00005\n",
      "W : [ 1.9999212  -3.39929795], b : 4.19979\n",
      "Epoch 2, lr : 0, Train Loss 0.00005\n",
      "W : [ 2.00159383 -3.39939809], b : 4.19956\n"
     ]
    },
    {
     "data": {
      "image/png": "[encoded data removed]",
      "text/plain": [
       "<matplotlib.figure.Figure at 0x7f5031e5e438>"
      ]
     },
     "metadata": {},
     "output_type": "display_data"
    }
   ],
   "source": [
    "# mini-batch 随机梯度下降\n",
    "train(batch_size=10, lr=0.1, epochs=3, period=10)"
   ]
  },
  {
   "cell_type": "code",
   "execution_count": 12,
   "metadata": {
    "ExecuteTime": {
     "end_time": "2018-01-27T05:53:42.904272Z",
     "start_time": "2018-01-27T05:53:42.038890Z"
    }
   },
   "outputs": [
    {
     "name": "stdout",
     "output_type": "stream",
     "text": [
      "Epoch 0, lr : 5, Train Loss nan\n",
      "W : [ nan  nan], b : nan\n",
      "Epoch 1, lr : 5, Train Loss nan\n",
      "W : [ nan  nan], b : nan\n",
      "Epoch 2, lr : 5, Train Loss nan\n",
      "W : [ nan  nan], b : nan\n"
     ]
    },
    {
     "name": "stderr",
     "output_type": "stream",
     "text": [
      "/home/liang/.virtualenvs/liang-jupyter/lib/python3.5/site-packages/matplotlib/scale.py:111: RuntimeWarning: invalid value encountered in less_equal\n",
      "  out[a <= 0] = -1000\n"
     ]
    },
    {
     "data": {
      "image/png": "[encoded data removed]",
      "text/plain": [
       "<matplotlib.figure.Figure at 0x7f5031e98860>"
      ]
     },
     "metadata": {},
     "output_type": "display_data"
    }
   ],
   "source": [
    "# 发散的情况\n",
    "train(batch_size=10, lr=5, epochs=3, period=10)"
   ]
  },
  {
   "cell_type": "markdown",
   "metadata": {},
   "source": [
    "#### 可以看到，小批量随机梯度下降的效果确实是最好的，我们在实际的使用中也是使用这种方法最多。"
   ]
  }
 ],
 "metadata": {
  "kernelspec": {
   "display_name": "Python 3",
   "language": "python",
   "name": "python3"
  },
  "language_info": {
   "codemirror_mode": {
    "name": "ipython",
    "version": 3
   },
   "file_extension": ".py",
   "mimetype": "text/x-python",
   "name": "python",
   "nbconvert_exporter": "python",
   "pygments_lexer": "ipython3",
   "version": "3.5.2"
  },
  "latex_envs": {
   "LaTeX_envs_menu_present": true,
   "autocomplete": true,
   "bibliofile": "biblio.bib",
   "cite_by": "apalike",
   "current_citInitial": 1,
   "eqLabelWithNumbers": true,
   "eqNumInitial": 1,
   "hotkeys": {
    "equation": "Ctrl-E",
    "itemize": "Ctrl-I"
   },
   "labels_anchors": false,
   "latex_user_defs": false,
   "report_style_numbering": false,
   "user_envs_cfg": false
  }
 },
 "nbformat": 4,
 "nbformat_minor": 2
}
