{
 "cells": [
  {
   "cell_type": "markdown",
   "metadata": {},
   "source": [
    "# 使用``gluon``手写softmax多类逻辑回归"
   ]
  },
  {
   "cell_type": "code",
   "execution_count": 1,
   "metadata": {
    "ExecuteTime": {
     "end_time": "2018-01-12T12:21:54.510980Z",
     "start_time": "2018-01-12T12:21:53.764448Z"
    }
   },
   "outputs": [],
   "source": [
    "import mxnet as mx\n",
    "import numpy as np\n",
    "from mxnet import nd\n",
    "from mxnet import autograd\n",
    "from mxnet import gluon\n",
    "\n",
    "%matplotlib inline\n",
    "import matplotlib.pyplot as plt"
   ]
  },
  {
   "cell_type": "markdown",
   "metadata": {},
   "source": [
    "## 设置context"
   ]
  },
  {
   "cell_type": "code",
   "execution_count": 2,
   "metadata": {
    "ExecuteTime": {
     "end_time": "2018-01-12T12:21:54.520811Z",
     "start_time": "2018-01-12T12:21:54.516372Z"
    }
   },
   "outputs": [],
   "source": [
    "data_ctx = mx.cpu()\n",
    "model_ctx = mx.cpu()"
   ]
  },
  {
   "cell_type": "markdown",
   "metadata": {},
   "source": [
    "## 加载数据集"
   ]
  },
  {
   "cell_type": "code",
   "execution_count": 16,
   "metadata": {
    "ExecuteTime": {
     "end_time": "2018-01-13T02:27:22.333032Z",
     "start_time": "2018-01-13T02:27:21.745424Z"
    }
   },
   "outputs": [],
   "source": [
    "def transform(data, label):\n",
    "    return data.astype(np.float32) / 255, label.astype(np.float32)\n",
    "\n",
    "mnist_train = gluon.data.vision.MNIST(train=True, transform=transform)\n",
    "mnist_test = gluon.data.vision.MNIST(train=False, transform=transform)"
   ]
  },
  {
   "cell_type": "code",
   "execution_count": 4,
   "metadata": {
    "ExecuteTime": {
     "end_time": "2018-01-12T12:21:55.057551Z",
     "start_time": "2018-01-12T12:21:55.046578Z"
    }
   },
   "outputs": [
    {
     "name": "stdout",
     "output_type": "stream",
     "text": [
      "60000\n",
      "10000\n",
      "(28, 28, 1)\n",
      "5.0\n"
     ]
    }
   ],
   "source": [
    "# test\n",
    "print(len(mnist_train))\n",
    "print(len(mnist_test))\n",
    "for data, label in mnist_train:\n",
    "    print(data.shape)\n",
    "    print(label)\n",
    "    break"
   ]
  },
  {
   "cell_type": "code",
   "execution_count": 5,
   "metadata": {
    "ExecuteTime": {
     "end_time": "2018-01-12T12:21:55.069808Z",
     "start_time": "2018-01-12T12:21:55.063174Z"
    }
   },
   "outputs": [],
   "source": [
    "num_inputs = 784\n",
    "num_outputs = 10\n",
    "num_examples = len(mnist_train)\n",
    "batch_size = 64\n",
    "\n",
    "train_data = gluon.data.DataLoader(mnist_train, batch_size=batch_size, shuffle=True)\n",
    "test_data = gluon.data.DataLoader(mnist_test, batch_size=batch_size, shuffle=False)"
   ]
  },
  {
   "cell_type": "markdown",
   "metadata": {},
   "source": [
    "## 定义模型"
   ]
  },
  {
   "cell_type": "code",
   "execution_count": 6,
   "metadata": {
    "ExecuteTime": {
     "end_time": "2018-01-12T12:21:55.082209Z",
     "start_time": "2018-01-12T12:21:55.075849Z"
    }
   },
   "outputs": [],
   "source": [
    "net = gluon.nn.Sequential()\n",
    "net.add(gluon.nn.Dense(num_outputs))\n",
    "net.initialize(mx.init.Normal(sigma=1.))"
   ]
  },
  {
   "cell_type": "markdown",
   "metadata": {},
   "source": [
    "## 定义损失函数"
   ]
  },
  {
   "cell_type": "code",
   "execution_count": 7,
   "metadata": {
    "ExecuteTime": {
     "end_time": "2018-01-12T12:21:55.092074Z",
     "start_time": "2018-01-12T12:21:55.088035Z"
    }
   },
   "outputs": [],
   "source": [
    "softmax_cross_entropy = gluon.loss.SoftmaxCrossEntropyLoss()"
   ]
  },
  {
   "cell_type": "markdown",
   "metadata": {},
   "source": [
    "## 定义优化器及参数初始化"
   ]
  },
  {
   "cell_type": "code",
   "execution_count": 8,
   "metadata": {
    "ExecuteTime": {
     "end_time": "2018-01-12T12:21:55.101979Z",
     "start_time": "2018-01-12T12:21:55.096583Z"
    }
   },
   "outputs": [],
   "source": [
    "learning_rate = 0.1\n",
    "trainer = gluon.Trainer(net.collect_params(), 'Adam')"
   ]
  },
  {
   "cell_type": "markdown",
   "metadata": {},
   "source": [
    "## 使用``mx.metric``定义评估函数"
   ]
  },
  {
   "cell_type": "code",
   "execution_count": 9,
   "metadata": {
    "ExecuteTime": {
     "end_time": "2018-01-12T12:21:55.118046Z",
     "start_time": "2018-01-12T12:21:55.106471Z"
    }
   },
   "outputs": [],
   "source": [
    "# 自己定义评估函数\n",
    "def evaluate_accuracy(img_iter, net):\n",
    "    numerator = .0\n",
    "    denominator = .0\n",
    "    for i, (data, label) in enumerate(img_iter):\n",
    "        output = net(data)\n",
    "        prediction = nd.argmax(output, axis=1)\n",
    "        numerator += nd.sum(prediction == label)\n",
    "        denominator += data.shape[0]\n",
    "    return (numerator / denominator).asscalar()"
   ]
  },
  {
   "cell_type": "code",
   "execution_count": 10,
   "metadata": {
    "ExecuteTime": {
     "end_time": "2018-01-12T12:22:04.456604Z",
     "start_time": "2018-01-12T12:21:55.124160Z"
    }
   },
   "outputs": [
    {
     "data": {
      "text/plain": [
       "0.067466669"
      ]
     },
     "execution_count": 10,
     "metadata": {},
     "output_type": "execute_result"
    }
   ],
   "source": [
    "evaluate_accuracy(train_data, net)"
   ]
  },
  {
   "cell_type": "markdown",
   "metadata": {},
   "source": [
    "## 训练"
   ]
  },
  {
   "cell_type": "code",
   "execution_count": 11,
   "metadata": {
    "ExecuteTime": {
     "end_time": "2018-01-12T12:58:13.665712Z",
     "start_time": "2018-01-12T12:22:04.461346Z"
    },
    "run_control": {
     "marked": false
    }
   },
   "outputs": [
    {
     "name": "stdout",
     "output_type": "stream",
     "text": [
      "Epoch 0, Avg loss 4.79390592492, Train acc 0.659033, Test acc 0.6632.\n",
      "Epoch 1, Avg loss 1.29547568957, Train acc 0.789917, Test acc 0.7931.\n",
      "Epoch 2, Avg loss 0.882322940119, Train acc 0.832983, Test acc 0.8363.\n",
      "Epoch 3, Avg loss 0.717502476382, Train acc 0.854983, Test acc 0.8573.\n",
      "Epoch 4, Avg loss 0.623217672014, Train acc 0.869667, Test acc 0.869.\n",
      "Epoch 5, Avg loss 0.560353216267, Train acc 0.877883, Test acc 0.8763.\n",
      "Epoch 6, Avg loss 0.51620293136, Train acc 0.88465, Test acc 0.8811.\n",
      "Epoch 7, Avg loss 0.482066542399, Train acc 0.88875, Test acc 0.8858.\n",
      "Epoch 8, Avg loss 0.456311707481, Train acc 0.8943, Test acc 0.8903.\n",
      "Epoch 9, Avg loss 0.435312823049, Train acc 0.897333, Test acc 0.8915.\n",
      "Epoch 10, Avg loss 0.417298830032, Train acc 0.9001, Test acc 0.8932.\n",
      "Epoch 11, Avg loss 0.402165150301, Train acc 0.901983, Test acc 0.8949.\n",
      "Epoch 12, Avg loss 0.389419847916, Train acc 0.90455, Test acc 0.8976.\n",
      "Epoch 13, Avg loss 0.377993762835, Train acc 0.905383, Test acc 0.8976.\n",
      "Epoch 14, Avg loss 0.367899021339, Train acc 0.9075, Test acc 0.9.\n",
      "Epoch 15, Avg loss 0.35944231983, Train acc 0.909067, Test acc 0.9018.\n",
      "Epoch 16, Avg loss 0.351254632795, Train acc 0.910633, Test acc 0.903.\n",
      "Epoch 17, Avg loss 0.343353062677, Train acc 0.912, Test acc 0.9036.\n",
      "Epoch 18, Avg loss 0.33686959943, Train acc 0.912767, Test acc 0.9048.\n",
      "Epoch 19, Avg loss 0.330757915529, Train acc 0.9135, Test acc 0.9047.\n",
      "Epoch 20, Avg loss 0.324890073033, Train acc 0.915317, Test acc 0.9052.\n",
      "Epoch 21, Avg loss 0.320241743044, Train acc 0.91585, Test acc 0.9078.\n",
      "Epoch 22, Avg loss 0.315280567086, Train acc 0.916017, Test acc 0.9072.\n",
      "Epoch 23, Avg loss 0.310437741458, Train acc 0.9179, Test acc 0.9069.\n",
      "Epoch 24, Avg loss 0.306260164404, Train acc 0.918933, Test acc 0.9076.\n",
      "Epoch 25, Avg loss 0.302825538657, Train acc 0.91985, Test acc 0.9085.\n",
      "Epoch 26, Avg loss 0.299221080538, Train acc 0.920117, Test acc 0.9105.\n",
      "Epoch 27, Avg loss 0.295961377851, Train acc 0.920883, Test acc 0.9104.\n",
      "Epoch 28, Avg loss 0.292739665775, Train acc 0.922367, Test acc 0.9113.\n",
      "Epoch 29, Avg loss 0.289756674401, Train acc 0.92225, Test acc 0.9119.\n",
      "Epoch 30, Avg loss 0.286776655988, Train acc 0.92335, Test acc 0.9117.\n",
      "Epoch 31, Avg loss 0.284565419861, Train acc 0.923933, Test acc 0.9135.\n",
      "Epoch 32, Avg loss 0.281883690409, Train acc 0.924433, Test acc 0.9143.\n",
      "Epoch 33, Avg loss 0.279739401786, Train acc 0.924667, Test acc 0.914.\n",
      "Epoch 34, Avg loss 0.277564368904, Train acc 0.925517, Test acc 0.9153.\n",
      "Epoch 35, Avg loss 0.275713883424, Train acc 0.925633, Test acc 0.9133.\n",
      "Epoch 36, Avg loss 0.273616598082, Train acc 0.926783, Test acc 0.9163.\n",
      "Epoch 37, Avg loss 0.271845872204, Train acc 0.92605, Test acc 0.9149.\n",
      "Epoch 38, Avg loss 0.269934690028, Train acc 0.9277, Test acc 0.9157.\n",
      "Epoch 39, Avg loss 0.268184343537, Train acc 0.927533, Test acc 0.9163.\n",
      "Epoch 40, Avg loss 0.267088674474, Train acc 0.927783, Test acc 0.916.\n",
      "Epoch 41, Avg loss 0.264996555829, Train acc 0.927117, Test acc 0.9165.\n",
      "Epoch 42, Avg loss 0.264115968343, Train acc 0.928917, Test acc 0.9173.\n",
      "Epoch 43, Avg loss 0.262251221045, Train acc 0.928083, Test acc 0.9181.\n",
      "Epoch 44, Avg loss 0.261327863971, Train acc 0.927383, Test acc 0.9177.\n",
      "Epoch 45, Avg loss 0.260099331226, Train acc 0.930033, Test acc 0.9194.\n",
      "Epoch 46, Avg loss 0.258923172545, Train acc 0.929833, Test acc 0.9179.\n",
      "Epoch 47, Avg loss 0.257652036536, Train acc 0.930367, Test acc 0.9179.\n",
      "Epoch 48, Avg loss 0.2566408578, Train acc 0.930367, Test acc 0.9177.\n",
      "Epoch 49, Avg loss 0.255520588342, Train acc 0.93035, Test acc 0.9175.\n",
      "Epoch 50, Avg loss 0.254549023058, Train acc 0.93045, Test acc 0.9188.\n",
      "Epoch 51, Avg loss 0.253496012048, Train acc 0.930917, Test acc 0.9195.\n",
      "Epoch 52, Avg loss 0.252596396359, Train acc 0.931267, Test acc 0.9177.\n",
      "Epoch 53, Avg loss 0.251652741102, Train acc 0.93045, Test acc 0.9184.\n",
      "Epoch 54, Avg loss 0.250706764177, Train acc 0.931333, Test acc 0.9185.\n",
      "Epoch 55, Avg loss 0.250000237215, Train acc 0.931117, Test acc 0.9215.\n",
      "Epoch 56, Avg loss 0.249158751825, Train acc 0.932617, Test acc 0.9214.\n",
      "Epoch 57, Avg loss 0.24844582093, Train acc 0.931817, Test acc 0.9208.\n",
      "Epoch 58, Avg loss 0.24755381883, Train acc 0.932367, Test acc 0.9201.\n",
      "Epoch 59, Avg loss 0.246936165925, Train acc 0.9331, Test acc 0.9222.\n",
      "Epoch 60, Avg loss 0.24580090601, Train acc 0.9331, Test acc 0.9193.\n",
      "Epoch 61, Avg loss 0.245705793524, Train acc 0.9329, Test acc 0.9221.\n",
      "Epoch 62, Avg loss 0.244794122112, Train acc 0.93335, Test acc 0.9207.\n",
      "Epoch 63, Avg loss 0.244322874534, Train acc 0.932967, Test acc 0.9223.\n",
      "Epoch 64, Avg loss 0.243490314853, Train acc 0.932133, Test acc 0.921.\n",
      "Epoch 65, Avg loss 0.243099648321, Train acc 0.933833, Test acc 0.9222.\n",
      "Epoch 66, Avg loss 0.242447408926, Train acc 0.933933, Test acc 0.9224.\n",
      "Epoch 67, Avg loss 0.241978554531, Train acc 0.93385, Test acc 0.9228.\n",
      "Epoch 68, Avg loss 0.241376198641, Train acc 0.933367, Test acc 0.922.\n",
      "Epoch 69, Avg loss 0.241035368739, Train acc 0.934733, Test acc 0.921.\n",
      "Epoch 70, Avg loss 0.240129710897, Train acc 0.934617, Test acc 0.9197.\n",
      "Epoch 71, Avg loss 0.239197909757, Train acc 0.9344, Test acc 0.922.\n",
      "Epoch 72, Avg loss 0.238886913967, Train acc 0.932817, Test acc 0.9221.\n",
      "Epoch 73, Avg loss 0.238690248438, Train acc 0.935183, Test acc 0.9218.\n",
      "Epoch 74, Avg loss 0.238290723387, Train acc 0.934783, Test acc 0.9224.\n",
      "Epoch 75, Avg loss 0.237741026584, Train acc 0.93475, Test acc 0.9223.\n",
      "Epoch 76, Avg loss 0.237168767496, Train acc 0.9358, Test acc 0.9229.\n",
      "Epoch 77, Avg loss 0.236875294336, Train acc 0.9346, Test acc 0.9224.\n",
      "Epoch 78, Avg loss 0.236495635895, Train acc 0.934733, Test acc 0.9221.\n",
      "Epoch 79, Avg loss 0.235764519171, Train acc 0.935117, Test acc 0.9238.\n",
      "Epoch 80, Avg loss 0.235643936106, Train acc 0.935367, Test acc 0.9235.\n",
      "Epoch 81, Avg loss 0.235062640738, Train acc 0.93525, Test acc 0.9238.\n",
      "Epoch 82, Avg loss 0.234947047071, Train acc 0.93545, Test acc 0.923.\n",
      "Epoch 83, Avg loss 0.234534422553, Train acc 0.935767, Test acc 0.9244.\n",
      "Epoch 84, Avg loss 0.234190031439, Train acc 0.9356, Test acc 0.9236.\n",
      "Epoch 85, Avg loss 0.233453248743, Train acc 0.935333, Test acc 0.9224.\n",
      "Epoch 86, Avg loss 0.233626737461, Train acc 0.9361, Test acc 0.9243.\n",
      "Epoch 87, Avg loss 0.233261947451, Train acc 0.935733, Test acc 0.9238.\n",
      "Epoch 88, Avg loss 0.232788627211, Train acc 0.93525, Test acc 0.9233.\n",
      "Epoch 89, Avg loss 0.232363823469, Train acc 0.935933, Test acc 0.9247.\n",
      "Epoch 90, Avg loss 0.232307882643, Train acc 0.936517, Test acc 0.9224.\n",
      "Epoch 91, Avg loss 0.231819832102, Train acc 0.936533, Test acc 0.9241.\n",
      "Epoch 92, Avg loss 0.231742146317, Train acc 0.937133, Test acc 0.9243.\n",
      "Epoch 93, Avg loss 0.231234302092, Train acc 0.936767, Test acc 0.923.\n",
      "Epoch 94, Avg loss 0.230690627106, Train acc 0.936367, Test acc 0.9238.\n",
      "Epoch 95, Avg loss 0.230846313349, Train acc 0.936517, Test acc 0.9233.\n",
      "Epoch 96, Avg loss 0.230390770932, Train acc 0.936733, Test acc 0.9229.\n",
      "Epoch 97, Avg loss 0.230555678507, Train acc 0.936767, Test acc 0.9243.\n",
      "Epoch 98, Avg loss 0.229864639755, Train acc 0.9361, Test acc 0.9216.\n",
      "Epoch 99, Avg loss 0.230088186761, Train acc 0.936917, Test acc 0.923.\n"
     ]
    }
   ],
   "source": [
    "epochs = 100\n",
    "loss_sequences = []\n",
    "\n",
    "for epoch in range(epochs):\n",
    "    cumulative_loss = 0.0\n",
    "    for i, (data, label) in enumerate(train_data):\n",
    "        with autograd.record():\n",
    "            output = net(data)\n",
    "            loss = softmax_cross_entropy(output, label)\n",
    "        loss.backward()\n",
    "        trainer.step(batch_size)\n",
    "        cumulative_loss += nd.sum(loss).asscalar()\n",
    "        \n",
    "    train_acc = evaluate_accuracy(train_data, net)\n",
    "    test_acc = evaluate_accuracy(test_data, net)\n",
    "    loss_sequences.append(cumulative_loss / num_examples)\n",
    "    print(\"Epoch %s, Avg loss %s, Train acc %s, Test acc %s.\" \n",
    "          % (epoch, cumulative_loss / num_examples, train_acc, test_acc))"
   ]
  },
  {
   "cell_type": "markdown",
   "metadata": {},
   "source": [
    "## 绘制损失曲线"
   ]
  },
  {
   "cell_type": "code",
   "execution_count": 12,
   "metadata": {
    "ExecuteTime": {
     "end_time": "2018-01-12T12:58:13.843255Z",
     "start_time": "2018-01-12T12:58:13.670977Z"
    }
   },
   "outputs": [
    {
     "data": {
      "image/png": "[encoded data removed]",
      "text/plain": [
       "<matplotlib.figure.Figure at 0x7fd0b8837f98>"
      ]
     },
     "metadata": {},
     "output_type": "display_data"
    }
   ],
   "source": [
    "plt.figure(figsize=(10, 8))\n",
    "plt.plot(list(range(len(loss_sequences))), loss_sequences)\n",
    "plt.xlabel(\"epoch\", fontsize=15)\n",
    "plt.ylabel(\"Training Avg Loss\", fontsize=15)\n",
    "plt.grid(True, which=\"both\")\n",
    "plt.show()"
   ]
  },
  {
   "cell_type": "markdown",
   "metadata": {},
   "source": [
    "## 预测"
   ]
  },
  {
   "cell_type": "code",
   "execution_count": 13,
   "metadata": {
    "ExecuteTime": {
     "end_time": "2018-01-12T12:58:15.170387Z",
     "start_time": "2018-01-12T12:58:13.849342Z"
    }
   },
   "outputs": [
    {
     "data": {
      "image/png": "[encoded data removed]",
      "text/plain": [
       "<matplotlib.figure.Figure at 0x7fd0b892fb70>"
      ]
     },
     "metadata": {},
     "output_type": "display_data"
    },
    {
     "name": "stdout",
     "output_type": "stream",
     "text": [
      "true label: \n",
      "[ 9.  8.  4.  9.  8.  5.  2.  8.  6.  9.]\n",
      "<NDArray 10 @cpu(0)>\n",
      "predic label: \n",
      "[ 9.  8.  4.  9.  8.  5.  2.  8.  3.  9.]\n",
      "<NDArray 10 @cpu(0)>\n"
     ]
    },
    {
     "data": {
      "image/png": "[encoded data removed]",
      "text/plain": [
       "<matplotlib.figure.Figure at 0x7fd0b8830eb8>"
      ]
     },
     "metadata": {},
     "output_type": "display_data"
    },
    {
     "name": "stdout",
     "output_type": "stream",
     "text": [
      "true label: \n",
      "[ 6.  8.  0.  3.  1.  2.  0.  2.  2.  3.]\n",
      "<NDArray 10 @cpu(0)>\n",
      "predic label: \n",
      "[ 6.  8.  0.  3.  1.  2.  0.  2.  5.  3.]\n",
      "<NDArray 10 @cpu(0)>\n"
     ]
    },
    {
     "data": {
      "image/png": "[encoded data removed]",
      "text/plain": [
       "<matplotlib.figure.Figure at 0x7fd0b8830c18>"
      ]
     },
     "metadata": {},
     "output_type": "display_data"
    },
    {
     "name": "stdout",
     "output_type": "stream",
     "text": [
      "true label: \n",
      "[ 1.  0.  4.  3.  7.  8.  6.  1.  6.  9.]\n",
      "<NDArray 10 @cpu(0)>\n",
      "predic label: \n",
      "[ 1.  0.  4.  3.  7.  8.  6.  1.  6.  9.]\n",
      "<NDArray 10 @cpu(0)>\n"
     ]
    },
    {
     "data": {
      "image/png": "[encoded data removed]",
      "text/plain": [
       "<matplotlib.figure.Figure at 0x7fd0b87b5940>"
      ]
     },
     "metadata": {},
     "output_type": "display_data"
    },
    {
     "name": "stdout",
     "output_type": "stream",
     "text": [
      "true label: \n",
      "[ 3.  5.  2.  5.  8.  2.  1.  8.  7.  0.]\n",
      "<NDArray 10 @cpu(0)>\n",
      "predic label: \n",
      "[ 3.  5.  2.  5.  8.  2.  1.  8.  7.  8.]\n",
      "<NDArray 10 @cpu(0)>\n"
     ]
    },
    {
     "data": {
      "image/png": "[encoded data removed]",
      "text/plain": [
       "<matplotlib.figure.Figure at 0x7fd0b884f978>"
      ]
     },
     "metadata": {},
     "output_type": "display_data"
    },
    {
     "name": "stdout",
     "output_type": "stream",
     "text": [
      "true label: \n",
      "[ 2.  3.  2.  8.  2.  2.  2.  5.  9.  7.]\n",
      "<NDArray 10 @cpu(0)>\n",
      "predic label: \n",
      "[ 2.  3.  2.  8.  2.  2.  2.  5.  9.  7.]\n",
      "<NDArray 10 @cpu(0)>\n"
     ]
    },
    {
     "data": {
      "image/png": "[encoded data removed]",
      "text/plain": [
       "<matplotlib.figure.Figure at 0x7fd0b8848be0>"
      ]
     },
     "metadata": {},
     "output_type": "display_data"
    },
    {
     "name": "stdout",
     "output_type": "stream",
     "text": [
      "true label: \n",
      "[ 6.  9.  5.  7.  2.  4.  6.  8.  4.  7.]\n",
      "<NDArray 10 @cpu(0)>\n",
      "predic label: \n",
      "[ 6.  9.  6.  7.  2.  4.  6.  8.  4.  7.]\n",
      "<NDArray 10 @cpu(0)>\n"
     ]
    },
    {
     "data": {
      "image/png": "[encoded data removed]",
      "text/plain": [
       "<matplotlib.figure.Figure at 0x7fd0b8939d68>"
      ]
     },
     "metadata": {},
     "output_type": "display_data"
    },
    {
     "name": "stdout",
     "output_type": "stream",
     "text": [
      "true label: \n",
      "[ 9.  6.  0.  5.  7.  9.  3.  6.  9.  7.]\n",
      "<NDArray 10 @cpu(0)>\n",
      "predic label: \n",
      "[ 9.  6.  0.  5.  7.  9.  3.  6.  9.  7.]\n",
      "<NDArray 10 @cpu(0)>\n"
     ]
    },
    {
     "data": {
      "image/png": "[encoded data removed]",
      "text/plain": [
       "<matplotlib.figure.Figure at 0x7fd0b8939a58>"
      ]
     },
     "metadata": {},
     "output_type": "display_data"
    },
    {
     "name": "stdout",
     "output_type": "stream",
     "text": [
      "true label: \n",
      "[ 8.  0.  7.  9.  9.  3.  6.  1.  2.  7.]\n",
      "<NDArray 10 @cpu(0)>\n",
      "predic label: \n",
      "[ 8.  7.  7.  9.  9.  3.  6.  1.  2.  7.]\n",
      "<NDArray 10 @cpu(0)>\n"
     ]
    },
    {
     "data": {
      "image/png": "[encoded data removed]",
      "text/plain": [
       "<matplotlib.figure.Figure at 0x7fd0b87c39e8>"
      ]
     },
     "metadata": {},
     "output_type": "display_data"
    },
    {
     "name": "stdout",
     "output_type": "stream",
     "text": [
      "true label: \n",
      "[ 1.  8.  0.  7.  4.  0.  0.  3.  2.  4.]\n",
      "<NDArray 10 @cpu(0)>\n",
      "predic label: \n",
      "[ 1.  8.  0.  7.  4.  0.  0.  3.  2.  4.]\n",
      "<NDArray 10 @cpu(0)>\n"
     ]
    },
    {
     "data": {
      "image/png": "[encoded data removed]",
      "text/plain": [
       "<matplotlib.figure.Figure at 0x7fd0bde7cf28>"
      ]
     },
     "metadata": {},
     "output_type": "display_data"
    },
    {
     "name": "stdout",
     "output_type": "stream",
     "text": [
      "true label: \n",
      "[ 4.  3.  1.  6.  1.  9.  8.  6.  1.  8.]\n",
      "<NDArray 10 @cpu(0)>\n",
      "predic label: \n",
      "[ 4.  3.  1.  6.  1.  9.  4.  6.  1.  8.]\n",
      "<NDArray 10 @cpu(0)>\n"
     ]
    },
    {
     "data": {
      "image/png": "[encoded data removed]",
      "text/plain": [
       "<matplotlib.figure.Figure at 0x7fd0b887e208>"
      ]
     },
     "metadata": {},
     "output_type": "display_data"
    },
    {
     "name": "stdout",
     "output_type": "stream",
     "text": [
      "true label: \n",
      "[ 8.  9.  3.  2.  4.  7.  9.  1.  6.  8.]\n",
      "<NDArray 10 @cpu(0)>\n",
      "predic label: \n",
      "[ 7.  7.  3.  2.  4.  7.  9.  1.  6.  8.]\n",
      "<NDArray 10 @cpu(0)>\n"
     ]
    },
    {
     "data": {
      "image/png": "[encoded data removed]",
      "text/plain": [
       "<matplotlib.figure.Figure at 0x7fd0b889def0>"
      ]
     },
     "metadata": {},
     "output_type": "display_data"
    },
    {
     "name": "stdout",
     "output_type": "stream",
     "text": [
      "true label: \n",
      "[ 0.  1.  9.  2.  7.  9.  5.  2.  5.  9.]\n",
      "<NDArray 10 @cpu(0)>\n",
      "predic label: \n",
      "[ 0.  1.  9.  2.  7.  9.  5.  8.  5.  9.]\n",
      "<NDArray 10 @cpu(0)>\n"
     ]
    }
   ],
   "source": [
    "def model_predictions(data, net):\n",
    "    output = net(data)\n",
    "    return nd.argmax(output, axis=1)\n",
    "\n",
    "sample_data = gluon.data.DataLoader(mnist_test, 10, shuffle=True)\n",
    "for i, (data, label) in enumerate(sample_data):\n",
    "    img_trans = nd.transpose(data, (1,0,2,3))\n",
    "    img_concat = img_trans.reshape((img_trans.shape[0], -1, 1))\n",
    "    img_tile = nd.tile(img_concat, (1,1,3))\n",
    "    plt.imshow(img_tile.asnumpy())\n",
    "    plt.show()\n",
    "    print(\"true label:\", label)\n",
    "    prediction = model_predictions(data, net)\n",
    "    print(\"predic label:\", prediction)\n",
    "    if i > 10:\n",
    "        break"
   ]
  },
  {
   "cell_type": "markdown",
   "metadata": {},
   "source": [
    "## 保存模型到本地"
   ]
  },
  {
   "cell_type": "code",
   "execution_count": 14,
   "metadata": {
    "ExecuteTime": {
     "end_time": "2018-01-12T13:02:36.702901Z",
     "start_time": "2018-01-12T13:02:36.695637Z"
    }
   },
   "outputs": [],
   "source": [
    "net.collect_params().save(\"mnist-softmaxlr-20180112.params\")"
   ]
  }
 ],
 "metadata": {
  "kernelspec": {
   "display_name": "Python 3",
   "language": "python",
   "name": "python3"
  },
  "language_info": {
   "codemirror_mode": {
    "name": "ipython",
    "version": 3
   },
   "file_extension": ".py",
   "mimetype": "text/x-python",
   "name": "python",
   "nbconvert_exporter": "python",
   "pygments_lexer": "ipython3",
   "version": "3.5.2"
  },
  "latex_envs": {
   "LaTeX_envs_menu_present": true,
   "autocomplete": true,
   "bibliofile": "biblio.bib",
   "cite_by": "apalike",
   "current_citInitial": 1,
   "eqLabelWithNumbers": true,
   "eqNumInitial": 1,
   "hotkeys": {
    "equation": "Ctrl-E",
    "itemize": "Ctrl-I"
   },
   "labels_anchors": false,
   "latex_user_defs": false,
   "report_style_numbering": false,
   "user_envs_cfg": false
  }
 },
 "nbformat": 4,
 "nbformat_minor": 2
}
