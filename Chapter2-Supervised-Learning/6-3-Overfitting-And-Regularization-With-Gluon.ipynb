{
 "cells": [
  {
   "cell_type": "markdown",
   "metadata": {},
   "source": [
    "# 使用``gluon``从高维线性回归看过拟合与正则化"
   ]
  },
  {
   "cell_type": "code",
   "execution_count": 1,
   "metadata": {
    "ExecuteTime": {
     "end_time": "2018-01-16T08:58:22.734708Z",
     "start_time": "2018-01-16T08:58:21.998851Z"
    }
   },
   "outputs": [],
   "source": [
    "import mxnet as mx\n",
    "import numpy as np\n",
    "\n",
    "from mxnet import nd\n",
    "from mxnet import gluon\n",
    "from mxnet import autograd\n",
    "\n",
    "%matplotlib inline \n",
    "import matplotlib.pyplot as plt"
   ]
  },
  {
   "cell_type": "code",
   "execution_count": 2,
   "metadata": {
    "ExecuteTime": {
     "end_time": "2018-01-16T08:58:22.760564Z",
     "start_time": "2018-01-16T08:58:22.739979Z"
    }
   },
   "outputs": [],
   "source": [
    "num_train = 20\n",
    "num_test = 100\n",
    "num_inputs = 200\n",
    "num_outputs = 1\n",
    "\n",
    "X_data = nd.random.normal(shape=(num_train + num_test, num_inputs))\n",
    "X_train = train_data = X_data[:num_train, :]\n",
    "X_test = test_data = X_data[num_train:, :]\n",
    "\n",
    "true_w = 0.01 * nd.ones(shape=(num_inputs, num_outputs))\n",
    "true_b = 0.05 * nd.ones(shape=(num_outputs))\n",
    "\n",
    "y_data = nd.dot(X_data, true_w) + true_b\n",
    "noise = 0.01 * nd.random.normal(shape=y_data.shape)\n",
    "y_data += noise\n",
    "\n",
    "y_train = y_data[:num_train, :]\n",
    "y_test = y_data[num_train:, :]"
   ]
  },
  {
   "cell_type": "code",
   "execution_count": 3,
   "metadata": {
    "ExecuteTime": {
     "end_time": "2018-01-16T08:58:22.772894Z",
     "start_time": "2018-01-16T08:58:22.766485Z"
    }
   },
   "outputs": [],
   "source": [
    "batch_size = 1\n",
    "train_data_iter = gluon.data.DataLoader(gluon.data.ArrayDataset(X_train, y_train), \n",
    "                                        batch_size=batch_size, shuffle=True)\n",
    "test_data_iter = gluon.data.DataLoader(gluon.data.ArrayDataset(X_test, y_test),\n",
    "                                      batch_size=batch_size, shuffle=False)"
   ]
  },
  {
   "cell_type": "code",
   "execution_count": 4,
   "metadata": {
    "ExecuteTime": {
     "end_time": "2018-01-16T08:58:22.845094Z",
     "start_time": "2018-01-16T08:58:22.778667Z"
    }
   },
   "outputs": [],
   "source": [
    "square_loss = gluon.loss.L2Loss()\n",
    "\n",
    "def evaluate_loss(net, X, y):\n",
    "        return square_loss(net(X), y).mean().asscalar()\n",
    "\n",
    "def train(weight_decay): \n",
    "    net = gluon.nn.Sequential()\n",
    "    with net.name_scope():\n",
    "        net.add(gluon.nn.Dense(1))\n",
    "    # 写在里面的好处就是，每次运行都自动重新初始化参数\n",
    "    net.collect_params().initialize(mx.init.Normal(sigma=1))\n",
    "    \n",
    "    learning_rate = 0.005\n",
    "    trainer = gluon.Trainer(net.collect_params(), 'sgd', {'learning_rate': learning_rate, 'wd': weight_decay})\n",
    "     \n",
    "    train_loss = []\n",
    "    test_loss = []\n",
    "    \n",
    "    # train    \n",
    "    epochs = 10\n",
    "    for epoch in range(epochs):\n",
    "        for i, (x, y) in enumerate(train_data_iter):\n",
    "            with autograd.record():\n",
    "                output = net(x)\n",
    "                loss = square_loss(output, y)\n",
    "            loss.backward()\n",
    "            trainer.step(batch_size)\n",
    "        \n",
    "        train_loss.append(evaluate_loss(net, X_train, y_train))\n",
    "        test_loss.append(evaluate_loss(net, X_test, y_test))\n",
    "\n",
    "    plt.figure(figsize=(8, 8))\n",
    "    plt.plot(list(range(epochs)), train_loss, color=\"r\")\n",
    "    plt.plot(list(range(epochs)), test_loss, color=\"b\")\n",
    "    plt.legend(['train_loss', 'test_loss'])\n",
    "    plt.grid(True, which=\"both\")\n",
    "    plt.show()\n",
    "    \n",
    "    print(\"W[:10], \", net[0].weight.data()[:, :10], \"\\n b:\", net[0].bias.data())"
   ]
  },
  {
   "cell_type": "code",
   "execution_count": 5,
   "metadata": {
    "ExecuteTime": {
     "end_time": "2018-01-16T08:58:23.255472Z",
     "start_time": "2018-01-16T08:58:22.851544Z"
    },
    "scrolled": true
   },
   "outputs": [
    {
     "data": {
      "image/png": "[encoded data removed]",
      "text/plain": [
       "<matplotlib.figure.Figure at 0x7ff9f2c86d30>"
      ]
     },
     "metadata": {},
     "output_type": "display_data"
    },
    {
     "name": "stdout",
     "output_type": "stream",
     "text": [
      "W[:10],  \n",
      "[[ 0.41531229  0.66294307  0.70548952  0.13929018  0.60503608  0.95227802\n",
      "  -0.28593445 -1.50946486 -0.93959814  0.50608563]]\n",
      "<NDArray 1x10 @cpu(0)> \n",
      " b: \n",
      "[-0.3102684]\n",
      "<NDArray 1 @cpu(0)>\n"
     ]
    }
   ],
   "source": [
    "train(0)"
   ]
  },
  {
   "cell_type": "code",
   "execution_count": 6,
   "metadata": {
    "ExecuteTime": {
     "end_time": "2018-01-16T08:58:23.661900Z",
     "start_time": "2018-01-16T08:58:23.260854Z"
    }
   },
   "outputs": [
    {
     "data": {
      "image/png": "[encoded data removed]",
      "text/plain": [
       "<matplotlib.figure.Figure at 0x7ff9c61bea20>"
      ]
     },
     "metadata": {},
     "output_type": "display_data"
    },
    {
     "name": "stdout",
     "output_type": "stream",
     "text": [
      "W[:10],  \n",
      "[[ 0.31298184  0.14758898  0.16915622  0.69101334 -0.08795033  0.57311976\n",
      "   0.70786875 -0.12778808  0.09098398 -0.60036278]]\n",
      "<NDArray 1x10 @cpu(0)> \n",
      " b: \n",
      "[ 0.01176986]\n",
      "<NDArray 1 @cpu(0)>\n"
     ]
    }
   ],
   "source": [
    "train(1)"
   ]
  }
 ],
 "metadata": {
  "kernelspec": {
   "display_name": "Python 3",
   "language": "python",
   "name": "python3"
  },
  "language_info": {
   "codemirror_mode": {
    "name": "ipython",
    "version": 3
   },
   "file_extension": ".py",
   "mimetype": "text/x-python",
   "name": "python",
   "nbconvert_exporter": "python",
   "pygments_lexer": "ipython3",
   "version": "3.5.2"
  },
  "latex_envs": {
   "LaTeX_envs_menu_present": true,
   "autocomplete": true,
   "bibliofile": "biblio.bib",
   "cite_by": "apalike",
   "current_citInitial": 1,
   "eqLabelWithNumbers": true,
   "eqNumInitial": 1,
   "hotkeys": {
    "equation": "Ctrl-E",
    "itemize": "Ctrl-I"
   },
   "labels_anchors": false,
   "latex_user_defs": false,
   "report_style_numbering": false,
   "user_envs_cfg": false
  }
 },
 "nbformat": 4,
 "nbformat_minor": 2
}
