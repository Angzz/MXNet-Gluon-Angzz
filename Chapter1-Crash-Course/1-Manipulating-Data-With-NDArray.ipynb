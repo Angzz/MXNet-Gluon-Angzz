{
 "cells": [
  {
   "cell_type": "markdown",
   "metadata": {},
   "source": [
    "# Manipulating Data With NDArray\n",
    "\n",
    "NDArray用于完成对数组元素的操作，它是MXNet中存储和变换数据的主要工具，与Numpy相比的主要优势有：\n",
    "\n",
    "1.支持CPU/GPU/分布式下的异步计算\n",
    "\n",
    "2.支持自动微分，因此它很适合用来开发机器学习深度学习应用"
   ]
  },
  {
   "cell_type": "markdown",
   "metadata": {},
   "source": [
    "## NDArray的基本用法"
   ]
  },
  {
   "cell_type": "code",
   "execution_count": 39,
   "metadata": {
    "ExecuteTime": {
     "end_time": "2018-01-07T06:41:54.801714Z",
     "start_time": "2018-01-07T06:41:54.797989Z"
    }
   },
   "outputs": [],
   "source": [
    "import mxnet as mx\n",
    "from mxnet import nd\n",
    "# 设置随机种子 使得每次随机生成的数都是一样的\n",
    "mx.random.seed(1)"
   ]
  },
  {
   "cell_type": "code",
   "execution_count": 40,
   "metadata": {
    "ExecuteTime": {
     "end_time": "2018-01-07T06:41:55.148790Z",
     "start_time": "2018-01-07T06:41:55.140417Z"
    }
   },
   "outputs": [
    {
     "data": {
      "text/plain": [
       "\n",
       "[[  1.12877361e-01  -1.30644417e+00  -1.07135750e-01  -2.63099265e+00]\n",
       " [ -5.73584773e-02   3.13484162e-01  -5.76510906e-01  -1.11059952e+00]\n",
       " [  5.79607189e-01  -2.28995964e-01   1.04484284e+00   8.12436819e-01]\n",
       " [  6.01003528e-01   2.03541629e-02  -8.78813088e-01   8.88380397e-04]]\n",
       "<NDArray 4x4 @cpu(0)>"
      ]
     },
     "execution_count": 40,
     "metadata": {},
     "output_type": "execute_result"
    }
   ],
   "source": [
    "a = nd.random_normal(shape=(4,4))\n",
    "a"
   ]
  },
  {
   "cell_type": "code",
   "execution_count": 41,
   "metadata": {
    "ExecuteTime": {
     "end_time": "2018-01-07T06:41:56.015611Z",
     "start_time": "2018-01-07T06:41:56.008386Z"
    }
   },
   "outputs": [
    {
     "data": {
      "text/plain": [
       "\n",
       "[[  0.00000000e+00   0.00000000e+00  -1.93917308e-22   4.57229676e-41]\n",
       " [  1.50539812e-38   0.00000000e+00   8.60128526e+27   4.57229676e-41]\n",
       " [  9.71215350e+27   4.57229676e-41   2.19902965e-40  -3.76175546e-37]]\n",
       "<NDArray 3x4 @cpu(0)>"
      ]
     },
     "execution_count": 41,
     "metadata": {},
     "output_type": "execute_result"
    }
   ],
   "source": [
    "b = nd.empty((3,4))\n",
    "b"
   ]
  },
  {
   "cell_type": "code",
   "execution_count": 42,
   "metadata": {
    "ExecuteTime": {
     "end_time": "2018-01-07T06:41:56.607845Z",
     "start_time": "2018-01-07T06:41:56.599296Z"
    }
   },
   "outputs": [
    {
     "data": {
      "text/plain": [
       "\n",
       "[[ 0.  0.]\n",
       " [ 0.  0.]]\n",
       "<NDArray 2x2 @cpu(0)>"
      ]
     },
     "execution_count": 42,
     "metadata": {},
     "output_type": "execute_result"
    }
   ],
   "source": [
    "c = nd.zeros((2,2))\n",
    "c"
   ]
  },
  {
   "cell_type": "code",
   "execution_count": 43,
   "metadata": {
    "ExecuteTime": {
     "end_time": "2018-01-07T06:41:57.694957Z",
     "start_time": "2018-01-07T06:41:57.685332Z"
    }
   },
   "outputs": [
    {
     "data": {
      "text/plain": [
       "\n",
       "[[-0.73376489 -0.76703477 -1.12628222]\n",
       " [ 1.38539445  1.92117143  1.50441384]\n",
       " [-0.85433006 -2.54523706 -0.51121545]\n",
       " [ 0.15673178  0.03484428  0.77970827]]\n",
       "<NDArray 4x3 @cpu(0)>"
      ]
     },
     "execution_count": 43,
     "metadata": {},
     "output_type": "execute_result"
    }
   ],
   "source": [
    "d = nd.random_normal(0,1,shape=(4,3))\n",
    "d"
   ]
  },
  {
   "cell_type": "markdown",
   "metadata": {},
   "source": [
    "## In-Place 操作(就地操作)\n",
    "\n",
    "有时候我们不想对每个计算后的结果都分配一个全新的内存，比如当我们计算y=x+y的时候，程序内部会首先去除对y原先地址的引用(我们称之为去引用),之后会对y计算后的新的结果分配一块新的内存，可以通过python的id()函数拿到元素值的地址来证明这一点。"
   ]
  },
  {
   "cell_type": "code",
   "execution_count": 45,
   "metadata": {
    "ExecuteTime": {
     "end_time": "2018-01-07T07:01:46.909029Z",
     "start_time": "2018-01-07T07:01:46.898219Z"
    }
   },
   "outputs": [
    {
     "name": "stdout",
     "output_type": "stream",
     "text": [
      "id(y) 140142327586488\n",
      "id(y) 140142327586432\n"
     ]
    }
   ],
   "source": [
    "x = nd.ones((3,4))\n",
    "y = nd.random_normal(0,1,shape=(3,4))\n",
    "print(\"id(y)\", id(y))\n",
    "y = x + y\n",
    "print(\"id(y)\", id(y))"
   ]
  },
  {
   "cell_type": "markdown",
   "metadata": {},
   "source": [
    "这种结果其实我们是不愿意看到的，因为我们不原意系统一直在分配一些不必要的内存，这会产生极大地浪费。在ML中，我们有数百兆的参数，并且要在一秒内对其更新数次，通常我们希望的是能对这些参数都进行就地更新。第二点是说，通常我们可以通过定义多个变量来指向相同的参数，如果我们不进行就地更新，这可能会造成内存泄漏，结果就是我们可能会引用旧的参数。\n",
    "\n",
    "我们可以通过切片操作来完成就地操作："
   ]
  },
  {
   "cell_type": "code",
   "execution_count": 46,
   "metadata": {
    "ExecuteTime": {
     "end_time": "2018-01-07T07:06:00.626079Z",
     "start_time": "2018-01-07T07:06:00.549740Z"
    }
   },
   "outputs": [
    {
     "name": "stdout",
     "output_type": "stream",
     "text": [
      "id(y) 140142327586432\n",
      "id(y) 140142327586432\n"
     ]
    }
   ],
   "source": [
    "print(\"id(y)\", id(y))\n",
    "y[:] = x + y\n",
    "print(\"id(y)\", id(y))"
   ]
  },
  {
   "cell_type": "markdown",
   "metadata": {},
   "source": [
    "这种方式虽然最终完成了就地操作，但在将结果分配给y[:]之前仍然会开辟一个小的缓冲区来存储x+y的结果，为了避免这个缓冲区的产生，我们可以直接调用底层的ndarray操作，即elemwise_add来避免缓冲区的产生，另外，每一个操作符都支持这种操作"
   ]
  },
  {
   "cell_type": "code",
   "execution_count": 49,
   "metadata": {
    "ExecuteTime": {
     "end_time": "2018-01-07T07:11:59.864001Z",
     "start_time": "2018-01-07T07:11:59.857273Z"
    }
   },
   "outputs": [
    {
     "data": {
      "text/plain": [
       "\n",
       "[[ 12.69358921   2.09899282   8.41394424   4.00772476]\n",
       " [  6.38052511   5.60571289   4.5248251    5.6987009 ]\n",
       " [  9.67530155   5.95555782  11.21280861   5.22764254]]\n",
       "<NDArray 3x4 @cpu(0)>"
      ]
     },
     "execution_count": 49,
     "metadata": {},
     "output_type": "execute_result"
    }
   ],
   "source": [
    "nd.elemwise_add(x, y, out=y)"
   ]
  },
  {
   "cell_type": "markdown",
   "metadata": {},
   "source": [
    "如果我们不需要再重复使用x，那么我们可以将计算后的结果分配给x自己，这在MXNet中通常有两种实现方式\n",
    "\n",
    "1.通过切片操作符x[:]\n",
    "\n",
    "2.通过使用+=操作符"
   ]
  },
  {
   "cell_type": "code",
   "execution_count": 50,
   "metadata": {
    "ExecuteTime": {
     "end_time": "2018-01-07T07:13:57.364050Z",
     "start_time": "2018-01-07T07:13:57.357398Z"
    }
   },
   "outputs": [
    {
     "name": "stdout",
     "output_type": "stream",
     "text": [
      "id(x): 140142328613072\n",
      "id(x): 140142328613072\n"
     ]
    }
   ],
   "source": [
    "print('id(x):', id(x))\n",
    "x += y\n",
    "x\n",
    "print('id(x):', id(x))"
   ]
  },
  {
   "cell_type": "markdown",
   "metadata": {},
   "source": [
    "## Slicing"
   ]
  },
  {
   "cell_type": "code",
   "execution_count": 52,
   "metadata": {
    "ExecuteTime": {
     "end_time": "2018-01-07T07:15:22.005891Z",
     "start_time": "2018-01-07T07:15:22.000866Z"
    }
   },
   "outputs": [
    {
     "data": {
      "text/plain": [
       "\n",
       "[[ 19.54038429   3.64848924  13.12091637   6.51158714]\n",
       " [ 10.07078743   8.90856934   7.28723764   9.04805183]\n",
       " [ 15.0129528    9.43333626  17.31921387   8.34146404]]\n",
       "<NDArray 3x4 @cpu(0)>"
      ]
     },
     "execution_count": 52,
     "metadata": {},
     "output_type": "execute_result"
    }
   ],
   "source": [
    "x"
   ]
  },
  {
   "cell_type": "code",
   "execution_count": 60,
   "metadata": {
    "ExecuteTime": {
     "end_time": "2018-01-07T07:17:48.635994Z",
     "start_time": "2018-01-07T07:17:48.630716Z"
    }
   },
   "outputs": [
    {
     "data": {
      "text/plain": [
       "\n",
       "[[ 15.0129528    9.43333626  17.31921387   8.34146404]]\n",
       "<NDArray 1x4 @cpu(0)>"
      ]
     },
     "execution_count": 60,
     "metadata": {},
     "output_type": "execute_result"
    }
   ],
   "source": [
    "x[2:3]"
   ]
  },
  {
   "cell_type": "code",
   "execution_count": 61,
   "metadata": {
    "ExecuteTime": {
     "end_time": "2018-01-07T07:18:08.995487Z",
     "start_time": "2018-01-07T07:18:08.973575Z"
    }
   },
   "outputs": [
    {
     "data": {
      "text/plain": [
       "\n",
       "[[  19.54038429    3.64848924   13.12091637    6.51158714]\n",
       " [  10.07078743    8.90856934  666.            9.04805183]\n",
       " [  15.0129528     9.43333626   17.31921387    8.34146404]]\n",
       "<NDArray 3x4 @cpu(0)>"
      ]
     },
     "execution_count": 61,
     "metadata": {},
     "output_type": "execute_result"
    }
   ],
   "source": [
    "x[1,2] = 666\n",
    "x"
   ]
  },
  {
   "cell_type": "code",
   "execution_count": 62,
   "metadata": {
    "ExecuteTime": {
     "end_time": "2018-01-07T07:18:57.110614Z",
     "start_time": "2018-01-07T07:18:57.102955Z"
    }
   },
   "outputs": [
    {
     "data": {
      "text/plain": [
       "\n",
       "[[   8.90856934  666.        ]]\n",
       "<NDArray 1x2 @cpu(0)>"
      ]
     },
     "execution_count": 62,
     "metadata": {},
     "output_type": "execute_result"
    }
   ],
   "source": [
    "x[1:2,1:3]"
   ]
  },
  {
   "cell_type": "code",
   "execution_count": 64,
   "metadata": {
    "ExecuteTime": {
     "end_time": "2018-01-07T07:19:17.735843Z",
     "start_time": "2018-01-07T07:19:17.727394Z"
    }
   },
   "outputs": [
    {
     "data": {
      "text/plain": [
       "\n",
       "[[  19.54038429    3.64848924   13.12091637    6.51158714]\n",
       " [  10.07078743  555.          555.            9.04805183]\n",
       " [  15.0129528     9.43333626   17.31921387    8.34146404]]\n",
       "<NDArray 3x4 @cpu(0)>"
      ]
     },
     "execution_count": 64,
     "metadata": {},
     "output_type": "execute_result"
    }
   ],
   "source": [
    "x[1:2,1:3] = 555\n",
    "x"
   ]
  },
  {
   "cell_type": "markdown",
   "metadata": {},
   "source": [
    "## Broadcasting"
   ]
  },
  {
   "cell_type": "code",
   "execution_count": 67,
   "metadata": {
    "ExecuteTime": {
     "end_time": "2018-01-07T07:22:38.228999Z",
     "start_time": "2018-01-07T07:22:38.218137Z"
    }
   },
   "outputs": [
    {
     "name": "stdout",
     "output_type": "stream",
     "text": [
      "x: \n",
      "[[ 1.  1.  1.]\n",
      " [ 1.  1.  1.]\n",
      " [ 1.  1.  1.]]\n",
      "<NDArray 3x3 @cpu(0)>\n",
      "y: \n",
      "[ 0.  1.  2.]\n",
      "<NDArray 3 @cpu(0)>\n",
      "x+y: \n",
      "[[ 1.  2.  3.]\n",
      " [ 1.  2.  3.]\n",
      " [ 1.  2.  3.]]\n",
      "<NDArray 3x3 @cpu(0)>\n"
     ]
    }
   ],
   "source": [
    "x = nd.ones((3,3))\n",
    "print(\"x:\", x)\n",
    "y = nd.arange(3)\n",
    "print(\"y:\", y)\n",
    "print(\"x+y:\", x+y)"
   ]
  },
  {
   "cell_type": "code",
   "execution_count": 69,
   "metadata": {
    "ExecuteTime": {
     "end_time": "2018-01-07T07:23:33.277691Z",
     "start_time": "2018-01-07T07:23:33.269594Z"
    }
   },
   "outputs": [
    {
     "name": "stdout",
     "output_type": "stream",
     "text": [
      "y: \n",
      "[[ 0.]\n",
      " [ 1.]\n",
      " [ 2.]]\n",
      "<NDArray 3x1 @cpu(0)>\n",
      "x+y: \n",
      "[[ 1.  1.  1.]\n",
      " [ 2.  2.  2.]\n",
      " [ 3.  3.  3.]]\n",
      "<NDArray 3x3 @cpu(0)>\n"
     ]
    }
   ],
   "source": [
    "y = y.reshape((3,1))\n",
    "print(\"y:\", y)\n",
    "print(\"x+y:\", x+y)"
   ]
  },
  {
   "cell_type": "markdown",
   "metadata": {},
   "source": [
    "## Convert from MXNet NDArray to Numpy "
   ]
  },
  {
   "cell_type": "code",
   "execution_count": 70,
   "metadata": {
    "ExecuteTime": {
     "end_time": "2018-01-07T07:24:31.444556Z",
     "start_time": "2018-01-07T07:24:31.440794Z"
    }
   },
   "outputs": [
    {
     "data": {
      "text/plain": [
       "mxnet.ndarray.ndarray.NDArray"
      ]
     },
     "execution_count": 70,
     "metadata": {},
     "output_type": "execute_result"
    }
   ],
   "source": [
    "type(x)"
   ]
  },
  {
   "cell_type": "code",
   "execution_count": 74,
   "metadata": {
    "ExecuteTime": {
     "end_time": "2018-01-07T07:27:00.909365Z",
     "start_time": "2018-01-07T07:27:00.904349Z"
    }
   },
   "outputs": [
    {
     "data": {
      "text/plain": [
       "numpy.ndarray"
      ]
     },
     "execution_count": 74,
     "metadata": {},
     "output_type": "execute_result"
    }
   ],
   "source": [
    "a = x.asnumpy()\n",
    "type(a)"
   ]
  },
  {
   "cell_type": "markdown",
   "metadata": {},
   "source": [
    "## Managing context"
   ]
  },
  {
   "cell_type": "markdown",
   "metadata": {
    "ExecuteTime": {
     "end_time": "2018-01-07T07:52:10.374607Z",
     "start_time": "2018-01-07T07:52:10.370804Z"
    },
    "run_control": {
     "marked": true
    }
   },
   "source": [
    "MXNet支持在NDArray中设置不同的context从而在不同的硬件设备环境上运行不同的NDArray，我们首先在一个CPU上创建一个NDArray："
   ]
  },
  {
   "cell_type": "code",
   "execution_count": 88,
   "metadata": {
    "ExecuteTime": {
     "end_time": "2018-01-07T08:14:25.475022Z",
     "start_time": "2018-01-07T08:14:25.467097Z"
    }
   },
   "outputs": [
    {
     "data": {
      "text/plain": [
       "\n",
       "[[ 1.  1.  1.]\n",
       " [ 1.  1.  1.]\n",
       " [ 1.  1.  1.]]\n",
       "<NDArray 3x3 @cpu(0)>"
      ]
     },
     "execution_count": 88,
     "metadata": {},
     "output_type": "execute_result"
    }
   ],
   "source": [
    "z = nd.ones(shape=(3,3), ctx=mx.cpu(0))\n",
    "z"
   ]
  },
  {
   "cell_type": "code",
   "execution_count": 90,
   "metadata": {
    "ExecuteTime": {
     "end_time": "2018-01-07T08:14:37.766740Z",
     "start_time": "2018-01-07T08:14:37.758574Z"
    }
   },
   "outputs": [
    {
     "data": {
      "text/plain": [
       "\n",
       "[[ 1.  1.  1.]\n",
       " [ 1.  1.  1.]\n",
       " [ 1.  1.  1.]]\n",
       "<NDArray 3x3 @cpu(1)>"
      ]
     },
     "execution_count": 90,
     "metadata": {},
     "output_type": "execute_result"
    }
   ],
   "source": [
    "x_cpu = z.copyto(mx.cpu(1))\n",
    "x_cpu"
   ]
  },
  {
   "cell_type": "code",
   "execution_count": 83,
   "metadata": {
    "ExecuteTime": {
     "end_time": "2018-01-07T08:07:31.232806Z",
     "start_time": "2018-01-07T08:07:31.224292Z"
    }
   },
   "outputs": [
    {
     "data": {
      "text/plain": [
       "\n",
       "[[ 2.  2.  2.]\n",
       " [ 2.  2.  2.]\n",
       " [ 2.  2.  2.]]\n",
       "<NDArray 3x3 @cpu(0)>"
      ]
     },
     "execution_count": 83,
     "metadata": {},
     "output_type": "execute_result"
    }
   ],
   "source": [
    "z + x_cpu "
   ]
  },
  {
   "cell_type": "code",
   "execution_count": 91,
   "metadata": {
    "ExecuteTime": {
     "end_time": "2018-01-07T08:14:51.108568Z",
     "start_time": "2018-01-07T08:14:51.104817Z"
    }
   },
   "outputs": [
    {
     "name": "stdout",
     "output_type": "stream",
     "text": [
      "cpu(1)\n",
      "cpu(0)\n"
     ]
    }
   ],
   "source": [
    "print(x_cpu.context)\n",
    "print(z.context)"
   ]
  },
  {
   "cell_type": "markdown",
   "metadata": {},
   "source": [
    "## 使用as_in_context而不是使用copyto\n",
    "\n",
    "当我们使用copyto拷贝一个ctx下的NDArray到另一个ctx下时，不管目标ctx是否与当前ctx相同，都会产生一份新的拷贝，即分配一块新的内存，而使用as_in_context的好处是说当target ctx与source ctx相同时，我们不产生一份新的拷贝，而只返回当前的NDArray。可以通过下面的例子来论述：\n",
    "\n",
    "如果cpu(0)上已经有e，仍然要在通过e在cpu(0)上创建f时，会分配一块新的内存："
   ]
  },
  {
   "cell_type": "code",
   "execution_count": 98,
   "metadata": {
    "ExecuteTime": {
     "end_time": "2018-01-07T08:25:12.871606Z",
     "start_time": "2018-01-07T08:25:12.862597Z"
    }
   },
   "outputs": [
    {
     "name": "stdout",
     "output_type": "stream",
     "text": [
      "False\n",
      "140142331324792\n",
      "140142328626816\n"
     ]
    }
   ],
   "source": [
    "e = nd.ones(shape=(1,1), ctx=mx.cpu(0))\n",
    "f = e.copyto(mx.cpu(0))\n",
    "print(f is e)\n",
    "print(id(e))\n",
    "print(id(f))"
   ]
  },
  {
   "cell_type": "markdown",
   "metadata": {},
   "source": [
    "而使用as_in_context时，会直接进行就地操作"
   ]
  },
  {
   "cell_type": "code",
   "execution_count": 99,
   "metadata": {
    "ExecuteTime": {
     "end_time": "2018-01-07T08:25:14.310240Z",
     "start_time": "2018-01-07T08:25:14.301108Z"
    }
   },
   "outputs": [
    {
     "name": "stdout",
     "output_type": "stream",
     "text": [
      "True\n",
      "140142979635912\n",
      "140142979635912\n"
     ]
    }
   ],
   "source": [
    "e = nd.ones(shape=(1,1), ctx=mx.cpu(0))\n",
    "f = e.as_in_context(mx.cpu(0))\n",
    "print(f is e)\n",
    "print(id(e))\n",
    "print(id(f))"
   ]
  },
  {
   "cell_type": "markdown",
   "metadata": {},
   "source": [
    "所以在通常情况下，我们都使用as_in_context而不使用copyto"
   ]
  },
  {
   "cell_type": "markdown",
   "metadata": {},
   "source": [
    "## 参考文献\n",
    "\n",
    "1.[Manipulate data the MXNet way with ndarray](https://github.com/zackchase/mxnet-the-straight-dope/blob/master/chapter01_crashcourse/ndarray.ipynb)"
   ]
  }
 ],
 "metadata": {
  "kernelspec": {
   "display_name": "Python 3",
   "language": "python",
   "name": "python3"
  },
  "language_info": {
   "codemirror_mode": {
    "name": "ipython",
    "version": 3
   },
   "file_extension": ".py",
   "mimetype": "text/x-python",
   "name": "python",
   "nbconvert_exporter": "python",
   "pygments_lexer": "ipython3",
   "version": "3.5.2"
  },
  "latex_envs": {
   "LaTeX_envs_menu_present": true,
   "autocomplete": true,
   "bibliofile": "biblio.bib",
   "cite_by": "apalike",
   "current_citInitial": 1,
   "eqLabelWithNumbers": true,
   "eqNumInitial": 1,
   "hotkeys": {
    "equation": "Ctrl-E",
    "itemize": "Ctrl-I"
   },
   "labels_anchors": false,
   "latex_user_defs": false,
   "report_style_numbering": false,
   "user_envs_cfg": false
  }
 },
 "nbformat": 4,
 "nbformat_minor": 2
}
