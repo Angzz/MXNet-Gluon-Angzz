{
 "cells": [
  {
   "cell_type": "markdown",
   "metadata": {},
   "source": [
    "# 延迟执行\n",
    "\n",
    "http://zh.gluon.ai/chapter_gluon-advances/lazy-evaluation.html\n",
    "\n",
    "MXNet使用延迟执行来提升系统性能。绝大情况下我们不用知道它的存在，因为它不会对正常使用带来影响。但理解它的工作原理有助于开发更高效的程序。\n",
    "\n",
    "延迟执行是指命令可以等到之后它的结果真正的需要的时候再执行。我们先来看一个例子：\n",
    "\n",
    "```\n",
    "a = 1 + 1\n",
    "# some other things\n",
    "print(a)\n",
    "\n",
    "Out : 2\n",
    "```\n",
    "\n",
    "第一句对a赋值，再执行一些其指令后打印a的结果。因为这里我们可能很久以后才用a的值，所以我们可以把它的执行延迟到后面。这样的主要好处是在执行之前系统可以看到后面指令，从而有更多机会来对程序进行优化。**例如如果a在被使用前被重新赋值了，那么我们可以不需要真正执行第一条语句。**\n",
    "\n",
    "在MXNet里，我们把用户打交道的部分叫做前端。例如这个教程里我们一直在使用Python前端写代码。除了Python外，MXNet还支持其他例如Scala，R，C++的前端。不管使用什么前端，MXNet的程序执行主要都在C++后端。前端只是把程序传给后端。后端有自己的线程来不断的收集任务，构造计算图，优化，并执行。本章我们介绍后端优化之一：延迟执行。\n",
    "\n",
    "考虑下图的样例，我们在前端调用四条语句，它们被后端的线程分析依赖并构建成计算图。\n",
    "\n",
    "<img src=\"http://zh.gluon.ai/_images/frontend-backend.svg\" width=\"400\">\n",
    "\n",
    "在延迟执行中，前端执行前三个语句的时候，它仅仅是把任务放进后端的队列里就返回了。当在需要打印结果时，前端会等待后端线程把c的结果计算完。\n",
    "\n",
    "这个设计的一个好处是前端，就是Python线程，不需要做实际计算工作，从而不管Python的性能如何，它对整个程序的影响会很小。只需要C++后端足够高效，那么不管前端语言性能如何，都可以提供一致的性能。\n",
    "\n",
    "下面的例子通过计时来展示了延后执行的效果。可以看到，当y=...返回的时候它并没有被计算，而是等到打印的时候才真正地被计算。"
   ]
  },
  {
   "cell_type": "code",
   "execution_count": 1,
   "metadata": {
    "ExecuteTime": {
     "end_time": "2018-01-28T05:28:10.503236Z",
     "start_time": "2018-01-28T05:28:09.513849Z"
    }
   },
   "outputs": [
    {
     "name": "stdout",
     "output_type": "stream",
     "text": [
      "workloads are queued:\t0.001045 sec\n",
      "\n",
      "[[ 501.98400879  507.21395874  485.15576172 ...,  491.92022705\n",
      "   497.25241089  483.55505371]\n",
      " [ 491.52929688  503.83096313  480.88876343 ...,  495.77685547\n",
      "   500.18539429  492.50854492]\n",
      " [ 518.2310791   521.22814941  499.03594971 ...,  510.80606079\n",
      "   508.33139038  505.09320068]\n",
      " ..., \n",
      " [ 503.28390503  506.78430176  490.05947876 ...,  501.06356812\n",
      "   500.14096069  493.59692383]\n",
      " [ 512.7734375   513.41607666  497.60934448 ...,  499.51367188\n",
      "   502.92895508  494.03164673]\n",
      " [ 514.21496582  517.6932373   496.9541626  ...,  508.26495361\n",
      "   503.22174072  498.45629883]]\n",
      "<NDArray 2000x2000 @cpu(0)>\n",
      "workloads are finished:\t0.349107 sec\n"
     ]
    }
   ],
   "source": [
    "from mxnet import nd\n",
    "from time import time\n",
    "\n",
    "start = time()\n",
    "x = nd.random_uniform(shape=(2000,2000))\n",
    "y = nd.dot(x, x)\n",
    "print('workloads are queued:\\t%f sec' % (time() - start))\n",
    "print(y)\n",
    "print('workloads are finished:\\t%f sec' % (time() - start))"
   ]
  },
  {
   "cell_type": "markdown",
   "metadata": {},
   "source": [
    "延迟执行大部分情况是对用户透明的。因为除非我们需要打印或者保存结果外，我们基本不需要关心目前是不是结果在内存里面已经计算好了。\n",
    "\n",
    "**事实上，只要数据是保存在NDArray里，而且使用MXNet提供的运算子，后端将默认使用延迟执行来获取最大的性能。**\n",
    "\n",
    "## 立即获取结果\n",
    "\n",
    "除了前面介绍的``print``外，我们还有别的方法可以让前端线程等待直到结果完成。我们可以使用``nd.NDArray.wait_to_read()``等待直到特定结果完成，或者``nd.waitall()``等待所有前面结果完成。后者是测试性能常用方法。"
   ]
  },
  {
   "cell_type": "code",
   "execution_count": 2,
   "metadata": {
    "ExecuteTime": {
     "end_time": "2018-01-28T05:30:44.753008Z",
     "start_time": "2018-01-28T05:30:44.447346Z"
    }
   },
   "outputs": [
    {
     "data": {
      "text/plain": [
       "0.2881662845611572"
      ]
     },
     "execution_count": 2,
     "metadata": {},
     "output_type": "execute_result"
    }
   ],
   "source": [
    "start = time()\n",
    "y = nd.dot(x, x)\n",
    "y.wait_to_read()\n",
    "time() - start"
   ]
  },
  {
   "cell_type": "code",
   "execution_count": 3,
   "metadata": {
    "ExecuteTime": {
     "end_time": "2018-01-28T05:30:53.789546Z",
     "start_time": "2018-01-28T05:30:53.224864Z"
    }
   },
   "outputs": [
    {
     "data": {
      "text/plain": [
       "0.5539038181304932"
      ]
     },
     "execution_count": 3,
     "metadata": {},
     "output_type": "execute_result"
    }
   ],
   "source": [
    "start = time()\n",
    "y = nd.dot(x, x)\n",
    "z = nd.dot(x, x)\n",
    "nd.waitall()\n",
    "time() - start"
   ]
  },
  {
   "cell_type": "markdown",
   "metadata": {},
   "source": [
    "任何方法将内容从NDArray搬运到其他不支持延迟执行的数据结构里都会触发等待，例如``asnumpy()``, ``asscalar()``"
   ]
  },
  {
   "cell_type": "code",
   "execution_count": 12,
   "metadata": {
    "ExecuteTime": {
     "end_time": "2018-01-28T05:31:54.625833Z",
     "start_time": "2018-01-28T05:31:54.336475Z"
    }
   },
   "outputs": [
    {
     "data": {
      "text/plain": [
       "0.28067946434020996"
      ]
     },
     "execution_count": 12,
     "metadata": {},
     "output_type": "execute_result"
    }
   ],
   "source": [
    "start = time()\n",
    "y = nd.dot(x, x)\n",
    "y.asnumpy()\n",
    "time() - start"
   ]
  },
  {
   "cell_type": "code",
   "execution_count": 14,
   "metadata": {
    "ExecuteTime": {
     "end_time": "2018-01-28T05:32:16.517823Z",
     "start_time": "2018-01-28T05:32:16.220188Z"
    }
   },
   "outputs": [
    {
     "data": {
      "text/plain": [
       "0.28754186630249023"
      ]
     },
     "execution_count": 14,
     "metadata": {},
     "output_type": "execute_result"
    }
   ],
   "source": [
    "start = time()\n",
    "y = nd.dot(x, x)\n",
    "y.norm().asscalar()\n",
    "time() - start"
   ]
  },
  {
   "cell_type": "code",
   "execution_count": 16,
   "metadata": {
    "ExecuteTime": {
     "end_time": "2018-01-28T05:32:28.225483Z",
     "start_time": "2018-01-28T05:32:28.208621Z"
    }
   },
   "outputs": [
    {
     "data": {
      "text/plain": [
       "0.0038590431213378906"
      ]
     },
     "execution_count": 16,
     "metadata": {},
     "output_type": "execute_result"
    }
   ],
   "source": [
    "# 使用延迟执行\n",
    "start = time()\n",
    "y = nd.dot(x, x)\n",
    "time() - start"
   ]
  },
  {
   "cell_type": "markdown",
   "metadata": {},
   "source": [
    "## 延迟执行带来的便利\n",
    "\n",
    "下面例子中，我们不断的对y进行赋值。如果每次我们需要等到y的值，那么我们必须要要计算它。而在延迟执行里，系统有可能省略掉一些执行。"
   ]
  },
  {
   "cell_type": "code",
   "execution_count": 17,
   "metadata": {
    "ExecuteTime": {
     "end_time": "2018-01-28T05:34:01.924934Z",
     "start_time": "2018-01-28T05:33:54.870280Z"
    }
   },
   "outputs": [
    {
     "name": "stdout",
     "output_type": "stream",
     "text": [
      "No lazy evaluation: 3.475245 sec\n",
      "With evaluation: 3.563872 sec\n"
     ]
    }
   ],
   "source": [
    "start = time()\n",
    "\n",
    "for i in range(1000):\n",
    "    y = x + 1\n",
    "    y.wait_to_read()\n",
    "\n",
    "print('No lazy evaluation: %f sec' % (time()-start))\n",
    "\n",
    "start = time()\n",
    "for i in range(1000):\n",
    "    y = x + 1\n",
    "nd.waitall()\n",
    "print('With evaluation: %f sec' % (time()-start))"
   ]
  },
  {
   "cell_type": "markdown",
   "metadata": {},
   "source": [
    "## 延迟执行带来的影响\n",
    "\n",
    "在延迟执行里，只要最终结果是一致的，系统可能使用跟代码不一样的顺序来执行，例如假设我们写\n",
    "\n",
    "```\n",
    "a = 1\n",
    "b = 2\n",
    "a + b\n",
    "\n",
    "out:3\n",
    "```\n",
    "\n",
    "第一句和第二句之间没有依赖，所以把b=2提前到a=1前执行也是可以的。但这样可能会导致内存使用的变化。\n",
    "\n",
    "下面我们列举几个在训练和预测中常见的现象。一般每个批量我们都会评测一下，例如计算损失或者精度，其中会用到asscalar或者asnumpy。这样我们会每次仅仅将一个批量的任务放进后端系统执行。但如果我们去掉这些**同步函数**，会导致我们将大量的批量任务同时放进系统，从而可能导致系统占用过多资源。\n",
    "\n",
    "(**Mark**: 同步函数：当一个函数是同步执行时，那么当该函数被调用时不会立即返回，直到该函数所要做的事情全都做完了才返回。)\n",
    "\n",
    "为了演示这种情况，我们定义一个数据获取函数，它会打印什么数据是什么时候被请求的。"
   ]
  },
  {
   "cell_type": "code",
   "execution_count": 19,
   "metadata": {
    "ExecuteTime": {
     "end_time": "2018-01-28T05:51:03.603183Z",
     "start_time": "2018-01-28T05:51:03.592084Z"
    }
   },
   "outputs": [],
   "source": [
    "def get_data():\n",
    "    start = time()\n",
    "    batch_size = 1024\n",
    "    for i in range(60):\n",
    "        if i % 10 == 0:\n",
    "            print(\"batch %d, time %f sec\" % (i, time()-start))\n",
    "        x = nd.ones((batch_size, 1024))\n",
    "        y = nd.ones((batch_size,))\n",
    "        yield x, y"
   ]
  },
  {
   "cell_type": "code",
   "execution_count": 23,
   "metadata": {
    "ExecuteTime": {
     "end_time": "2018-01-28T05:53:45.914433Z",
     "start_time": "2018-01-28T05:53:45.898952Z"
    },
    "run_control": {
     "marked": false
    }
   },
   "outputs": [],
   "source": [
    "from mxnet import gluon\n",
    "from mxnet.gluon import nn\n",
    "\n",
    "net = nn.Sequential()\n",
    "with net.name_scope():\n",
    "    net.add(\n",
    "        nn.Dense(1024, activation=\"relu\"),\n",
    "        nn.Dense(1024, activation=\"relu\"),\n",
    "        nn.Dense(1)\n",
    "    )\n",
    "net.initialize()\n",
    "trainer = gluon.Trainer(net.collect_params(), 'sgd', {})\n",
    "loss = gluon.loss.L2Loss()"
   ]
  },
  {
   "cell_type": "markdown",
   "metadata": {},
   "source": [
    "我们定义辅助函数来监测内存的使用（只能在Linux运行）"
   ]
  },
  {
   "cell_type": "code",
   "execution_count": 28,
   "metadata": {
    "ExecuteTime": {
     "end_time": "2018-01-28T05:55:10.537535Z",
     "start_time": "2018-01-28T05:55:10.529141Z"
    }
   },
   "outputs": [],
   "source": [
    "import os\n",
    "import subprocess\n",
    "\n",
    "def get_mem():\n",
    "    \"\"\"get memory usage in MB\"\"\"\n",
    "    res = subprocess.check_output(['ps', 'u', '-p', str(os.getpid())])\n",
    "    return int(str(res).split()[15])/1e3"
   ]
  },
  {
   "cell_type": "code",
   "execution_count": 29,
   "metadata": {
    "ExecuteTime": {
     "end_time": "2018-01-28T05:55:11.174732Z",
     "start_time": "2018-01-28T05:55:11.147262Z"
    }
   },
   "outputs": [
    {
     "data": {
      "text/plain": [
       "224.34"
      ]
     },
     "execution_count": 29,
     "metadata": {},
     "output_type": "execute_result"
    }
   ],
   "source": [
    "get_mem()"
   ]
  },
  {
   "cell_type": "markdown",
   "metadata": {},
   "source": [
    "现在我们可以做测试了。我们先试运行一次让系统把net的参数初始化（回忆延后初始化）"
   ]
  },
  {
   "cell_type": "code",
   "execution_count": 31,
   "metadata": {
    "ExecuteTime": {
     "end_time": "2018-01-28T05:56:15.017960Z",
     "start_time": "2018-01-28T05:56:14.928003Z"
    }
   },
   "outputs": [
    {
     "name": "stdout",
     "output_type": "stream",
     "text": [
      "batch 0, time 0.000004 sec\n"
     ]
    }
   ],
   "source": [
    "for x, y in get_data():\n",
    "    break\n",
    "loss(y, net(x)).wait_to_read()"
   ]
  },
  {
   "cell_type": "markdown",
   "metadata": {},
   "source": [
    "如果我们用net来做预测，正常情况下对每个批量的结果我们把它复制出``NDArray``，例如打印或者保存在磁盘上。这里我们简单使用``wait_to_read``来模拟。"
   ]
  },
  {
   "cell_type": "code",
   "execution_count": 32,
   "metadata": {
    "ExecuteTime": {
     "end_time": "2018-01-28T05:57:54.010443Z",
     "start_time": "2018-01-28T05:57:49.007664Z"
    }
   },
   "outputs": [
    {
     "name": "stdout",
     "output_type": "stream",
     "text": [
      "batch 0, time 0.000007 sec\n",
      "batch 10, time 0.801697 sec\n",
      "batch 20, time 1.595009 sec\n",
      "batch 30, time 2.452153 sec\n",
      "batch 40, time 3.284306 sec\n",
      "batch 50, time 4.118629 sec\n",
      "Increased memory 16.392000 MB\n"
     ]
    }
   ],
   "source": [
    "mem = get_mem()\n",
    "\n",
    "for x, y in get_data():\n",
    "    loss(y, net(x)).wait_to_read()\n",
    "nd.waitall()\n",
    "\n",
    "print(\"Increased memory %f MB\" % (get_mem() - mem))"
   ]
  },
  {
   "cell_type": "markdown",
   "metadata": {},
   "source": [
    "假设我们不使用``wait_to_read()``， 那么前端会将所有批量的计算一次性的添加进后端。可以看到每个批量的数据都会在很短的时间内生成，同时在接下来的数秒钟内，我们看到了内存的增长（包括了在内存中保存所有x和y）。"
   ]
  },
  {
   "cell_type": "code",
   "execution_count": 33,
   "metadata": {
    "ExecuteTime": {
     "end_time": "2018-01-28T05:59:00.040178Z",
     "start_time": "2018-01-28T05:58:55.057887Z"
    }
   },
   "outputs": [
    {
     "name": "stdout",
     "output_type": "stream",
     "text": [
      "batch 0, time 0.000007 sec\n",
      "batch 10, time 0.018608 sec\n",
      "batch 20, time 0.035927 sec\n",
      "batch 30, time 0.048520 sec\n",
      "batch 40, time 0.067786 sec\n",
      "batch 50, time 0.081373 sec\n",
      "Increased memory 258.096000 MB\n"
     ]
    }
   ],
   "source": [
    "mem = get_mem()\n",
    "\n",
    "for x, y in get_data():\n",
    "    loss(y, net(x))\n",
    "\n",
    "nd.waitall()\n",
    "print('Increased memory %f MB' % (get_mem() - mem))"
   ]
  },
  {
   "cell_type": "markdown",
   "metadata": {},
   "source": [
    "同样对于训练，如果我们每次计算损失，那么就加入了同步"
   ]
  },
  {
   "cell_type": "code",
   "execution_count": 37,
   "metadata": {
    "ExecuteTime": {
     "end_time": "2018-01-28T06:08:18.869344Z",
     "start_time": "2018-01-28T06:08:05.059125Z"
    },
    "run_control": {
     "marked": false
    }
   },
   "outputs": [
    {
     "name": "stdout",
     "output_type": "stream",
     "text": [
      "batch 0, time 0.000007 sec\n",
      "batch 10, time 2.382818 sec\n",
      "batch 20, time 4.716506 sec\n",
      "batch 30, time 6.939661 sec\n",
      "batch 40, time 9.138764 sec\n",
      "batch 50, time 11.356160 sec\n",
      "Increased memory -12.144000 MB\n"
     ]
    }
   ],
   "source": [
    "from mxnet import autograd\n",
    "\n",
    "mem = get_mem()\n",
    "\n",
    "total_loss = .0\n",
    "for x, y in get_data():\n",
    "    with autograd.record():\n",
    "        output = net(x)\n",
    "        L = loss(output, y)\n",
    "    L.backward()        \n",
    "    # 此处相当于我们加入了同步函数，使得每次只将生成的一个批量的数据加入内存，\n",
    "    # 而不是全部加载进内存\n",
    "    total_loss += nd.sum(L).asscalar() \n",
    "    trainer.step(x.shape[0]) \n",
    "\n",
    "nd.waitall()\n",
    "print('Increased memory %f MB' % (get_mem() - mem))"
   ]
  },
  {
   "cell_type": "markdown",
   "metadata": {},
   "source": [
    "而如果我们去掉了同步，相当于会把所有批量的数据先全部生成好，最后全部加载进内存，这就导致了内存容量的激增。"
   ]
  },
  {
   "cell_type": "code",
   "execution_count": 38,
   "metadata": {
    "ExecuteTime": {
     "end_time": "2018-01-28T06:09:35.986757Z",
     "start_time": "2018-01-28T06:09:23.126907Z"
    }
   },
   "outputs": [
    {
     "name": "stdout",
     "output_type": "stream",
     "text": [
      "batch 0, time 0.000007 sec\n",
      "batch 10, time 0.038921 sec\n",
      "batch 20, time 0.070811 sec\n",
      "batch 30, time 0.131189 sec\n",
      "batch 40, time 0.175433 sec\n",
      "batch 50, time 0.212277 sec\n",
      "Increased memory 273.176000 MB\n"
     ]
    }
   ],
   "source": [
    "from mxnet import autograd\n",
    "\n",
    "mem = get_mem()\n",
    "\n",
    "for x, y in get_data():\n",
    "    with autograd.record():\n",
    "        output = net(x)\n",
    "        L = loss(output, y)\n",
    "    L.backward()        \n",
    "    trainer.step(x.shape[0]) \n",
    "\n",
    "nd.waitall()\n",
    "print('Increased memory %f MB' % (get_mem() - mem))"
   ]
  },
  {
   "cell_type": "markdown",
   "metadata": {},
   "source": [
    "## 总结\n",
    "\n",
    "延后执行使得系统有更多空间来做性能优化。但我们推荐每个批量里至少有一个同步函数，例如有在每个批量后计算以及损失函数的和以完成同步，再比如对损失函数进行评估，来避免将过多任务同时丢进后端系统。"
   ]
  }
 ],
 "metadata": {
  "kernelspec": {
   "display_name": "Python 3",
   "language": "python",
   "name": "python3"
  },
  "language_info": {
   "codemirror_mode": {
    "name": "ipython",
    "version": 3
   },
   "file_extension": ".py",
   "mimetype": "text/x-python",
   "name": "python",
   "nbconvert_exporter": "python",
   "pygments_lexer": "ipython3",
   "version": "3.5.2"
  },
  "latex_envs": {
   "LaTeX_envs_menu_present": true,
   "autocomplete": true,
   "bibliofile": "biblio.bib",
   "cite_by": "apalike",
   "current_citInitial": 1,
   "eqLabelWithNumbers": true,
   "eqNumInitial": 1,
   "hotkeys": {
    "equation": "Ctrl-E",
    "itemize": "Ctrl-I"
   },
   "labels_anchors": false,
   "latex_user_defs": false,
   "report_style_numbering": false,
   "user_envs_cfg": false
  }
 },
 "nbformat": 4,
 "nbformat_minor": 2
}
