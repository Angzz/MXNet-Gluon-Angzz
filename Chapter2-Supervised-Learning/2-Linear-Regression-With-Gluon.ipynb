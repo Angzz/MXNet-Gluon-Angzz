{
 "cells": [
  {
   "cell_type": "markdown",
   "metadata": {},
   "source": [
    "# Linear regression with ``gluon``"
   ]
  },
  {
   "cell_type": "markdown",
   "metadata": {},
   "source": [
    "## 导入库函数"
   ]
  },
  {
   "cell_type": "code",
   "execution_count": 1,
   "metadata": {
    "ExecuteTime": {
     "end_time": "2018-01-10T10:31:55.047308Z",
     "start_time": "2018-01-10T10:31:54.491308Z"
    }
   },
   "outputs": [],
   "source": [
    "import mxnet as mx\n",
    "from mxnet import nd\n",
    "from mxnet import autograd\n",
    "from mxnet import gluon\n",
    "mx.random.seed(1)"
   ]
  },
  {
   "cell_type": "markdown",
   "metadata": {},
   "source": [
    "## 定义context"
   ]
  },
  {
   "cell_type": "code",
   "execution_count": 2,
   "metadata": {
    "ExecuteTime": {
     "end_time": "2018-01-10T10:31:55.058054Z",
     "start_time": "2018-01-10T10:31:55.053274Z"
    }
   },
   "outputs": [],
   "source": [
    "data_ctx = mx.cpu()\n",
    "model_ctx = mx.cpu()"
   ]
  },
  {
   "cell_type": "markdown",
   "metadata": {},
   "source": [
    "## 创建数据\n",
    "\n",
    "$$y = 1.2 \\cdot X[0]-3.4 \\cdot X[1]+4.2$$"
   ]
  },
  {
   "cell_type": "code",
   "execution_count": 3,
   "metadata": {
    "ExecuteTime": {
     "end_time": "2018-01-10T10:31:55.078019Z",
     "start_time": "2018-01-10T10:31:55.064150Z"
    }
   },
   "outputs": [],
   "source": [
    "num_inputs = 2\n",
    "num_outputs = 1\n",
    "num_example = 1000\n",
    "\n",
    "true_w = [1.2, -3.4]\n",
    "true_b = 4.2\n",
    "\n",
    "def real_fn(X):\n",
    "    return true_w[0] * X[:,0] + true_w[1] * X[:, 1] + true_b\n",
    "\n",
    "X = nd.random.normal(shape=(num_example, num_inputs))\n",
    "noise = .01 * nd.random.normal(shape=num_example)\n",
    "y = real_fn(X) + noise"
   ]
  },
  {
   "cell_type": "markdown",
   "metadata": {},
   "source": [
    "## 使用``gluon``读取数据"
   ]
  },
  {
   "cell_type": "code",
   "execution_count": 4,
   "metadata": {
    "ExecuteTime": {
     "end_time": "2018-01-10T10:31:55.088639Z",
     "start_time": "2018-01-10T10:31:55.084086Z"
    }
   },
   "outputs": [],
   "source": [
    "batch_size = 12\n",
    "train_data = gluon.data.DataLoader(gluon.data.ArrayDataset(X, y), batch_size=batch_size, shuffle=True)"
   ]
  },
  {
   "cell_type": "code",
   "execution_count": 5,
   "metadata": {
    "ExecuteTime": {
     "end_time": "2018-01-10T10:31:55.105868Z",
     "start_time": "2018-01-10T10:31:55.094099Z"
    }
   },
   "outputs": [
    {
     "name": "stdout",
     "output_type": "stream",
     "text": [
      "\n",
      "[[ 0.25398585  1.60730255]\n",
      " [-2.26174664 -0.5717749 ]\n",
      " [ 0.69706553 -0.18887992]\n",
      " [-0.44612366 -0.15578145]\n",
      " [-0.8762328  -1.09077787]\n",
      " [ 0.22852479  1.36539459]\n",
      " [ 0.82342088  0.38115725]\n",
      " [ 1.12978852 -2.17294288]\n",
      " [-1.03682768 -1.03667784]\n",
      " [ 0.95402157 -1.19392276]\n",
      " [-0.76422656 -0.38377118]\n",
      " [ 0.00360237  0.1376956 ]]\n",
      "<NDArray 12x2 @cpu(0)> \n",
      "[ -0.96352875   3.43353677   5.69912624   4.21623564   6.88841724\n",
      "  -0.16178308   3.90932107  12.93677235   6.47913122   9.39478207\n",
      "   4.59309149   3.72664905]\n",
      "<NDArray 12 @cpu(0)>\n"
     ]
    }
   ],
   "source": [
    "for data, label in train_data:\n",
    "    print(data, label)\n",
    "    break  "
   ]
  },
  {
   "cell_type": "markdown",
   "metadata": {},
   "source": [
    "## 使用``gluon``定义模型"
   ]
  },
  {
   "cell_type": "code",
   "execution_count": 6,
   "metadata": {
    "ExecuteTime": {
     "end_time": "2018-01-10T10:31:55.118192Z",
     "start_time": "2018-01-10T10:31:55.111723Z"
    }
   },
   "outputs": [],
   "source": [
    "# method 1\n",
    "net = gluon.nn.Sequential()\n",
    "net.add(gluon.nn.Dense(1))\n",
    "\n",
    "# method 2\n",
    "net = gluon.nn.Dense(1, in_units=2)"
   ]
  },
  {
   "cell_type": "code",
   "execution_count": 7,
   "metadata": {
    "ExecuteTime": {
     "end_time": "2018-01-10T10:31:55.142018Z",
     "start_time": "2018-01-10T10:31:55.124990Z"
    }
   },
   "outputs": [
    {
     "data": {
      "text/plain": [
       "Parameter dense1_weight (shape=(1, 2), dtype=<class 'numpy.float32'>)"
      ]
     },
     "execution_count": 7,
     "metadata": {},
     "output_type": "execute_result"
    }
   ],
   "source": [
    "net.weight"
   ]
  },
  {
   "cell_type": "code",
   "execution_count": 8,
   "metadata": {
    "ExecuteTime": {
     "end_time": "2018-01-10T10:31:55.153938Z",
     "start_time": "2018-01-10T10:31:55.147202Z"
    }
   },
   "outputs": [
    {
     "data": {
      "text/plain": [
       "Parameter dense1_bias (shape=(1,), dtype=<class 'numpy.float32'>)"
      ]
     },
     "execution_count": 8,
     "metadata": {},
     "output_type": "execute_result"
    }
   ],
   "source": [
    "net.bias"
   ]
  },
  {
   "cell_type": "code",
   "execution_count": 9,
   "metadata": {
    "ExecuteTime": {
     "end_time": "2018-01-10T10:31:55.170398Z",
     "start_time": "2018-01-10T10:31:55.160129Z"
    }
   },
   "outputs": [
    {
     "data": {
      "text/plain": [
       "<bound method Parameter.data of Parameter dense1_weight (shape=(1, 2), dtype=<class 'numpy.float32'>)>"
      ]
     },
     "execution_count": 9,
     "metadata": {},
     "output_type": "execute_result"
    }
   ],
   "source": [
    "net.weight.data"
   ]
  },
  {
   "cell_type": "code",
   "execution_count": 10,
   "metadata": {
    "ExecuteTime": {
     "end_time": "2018-01-10T10:31:55.182436Z",
     "start_time": "2018-01-10T10:31:55.174682Z"
    }
   },
   "outputs": [
    {
     "data": {
      "text/plain": [
       "<bound method Parameter.data of Parameter dense1_bias (shape=(1,), dtype=<class 'numpy.float32'>)>"
      ]
     },
     "execution_count": 10,
     "metadata": {},
     "output_type": "execute_result"
    }
   ],
   "source": [
    "net.bias.data"
   ]
  },
  {
   "cell_type": "code",
   "execution_count": 11,
   "metadata": {
    "ExecuteTime": {
     "end_time": "2018-01-10T10:31:55.197820Z",
     "start_time": "2018-01-10T10:31:55.186564Z"
    }
   },
   "outputs": [
    {
     "data": {
      "text/plain": [
       "dense1_ (\n",
       "  Parameter dense1_weight (shape=(1, 2), dtype=<class 'numpy.float32'>)\n",
       "  Parameter dense1_bias (shape=(1,), dtype=<class 'numpy.float32'>)\n",
       ")"
      ]
     },
     "execution_count": 11,
     "metadata": {},
     "output_type": "execute_result"
    }
   ],
   "source": [
    "net.collect_params()"
   ]
  },
  {
   "cell_type": "markdown",
   "metadata": {},
   "source": [
    "## 初始化参数\n",
    "\n",
    "我们通过一个`ParameterDict`的`.initialize()`方法来来初始化参数，该方法需要两个参数。\n",
    "\n",
    "* 一个initializer, 我们可以在 `mx.init` 模块中找到这些initializer. \n",
    "* 这些参数所处的context. (In this case we'll pass in the `model_ctx`. Most often this will either be a GPU or a list of GPUs). \n",
    "\n",
    "*MXNet* provides a variety of common initializers in ``mxnet.init``.\n",
    "To keep things consistent with the model we built by hand, \n",
    "we'll initialize each parameter by sampling from a standard normal distribution, \n",
    "using `mx.init.Normal(sigma=1.)`."
   ]
  },
  {
   "cell_type": "code",
   "execution_count": 12,
   "metadata": {
    "ExecuteTime": {
     "end_time": "2018-01-10T10:31:55.209526Z",
     "start_time": "2018-01-10T10:31:55.202171Z"
    }
   },
   "outputs": [],
   "source": [
    "net.collect_params().initialize(mx.init.Normal(sigma=1)) #由于当前所处单CPU环境，所以先不指定ctx参数"
   ]
  },
  {
   "cell_type": "markdown",
   "metadata": {},
   "source": [
    "## ``gluon``的延迟初始化机制\n",
    "\n",
    "当我们调用``initialize``方法时，``gluon``会将每个参数与一个initializer关联起来。但是，**真正的初始化**被延迟加载了，直到我们进行第一次前向传播，换句话说，参数只有当真正需要的时候才会被初始化。当我们第一次调用`net.weight.data()`方法时，会报错：\n",
    "\n",
    "``DeferredInitializationError: Parameter dense2_weight has not been initialized yet because initialization was deferred. Actual initialization happens during the first forward pass. Please pass one batch of data through the network before accessing Parameters.``\n",
    "\n",
    "下面我们通过net来传递一个数据以此来检验输出结果"
   ]
  },
  {
   "cell_type": "code",
   "execution_count": 13,
   "metadata": {
    "ExecuteTime": {
     "end_time": "2018-01-10T10:31:55.226146Z",
     "start_time": "2018-01-10T10:31:55.213693Z"
    }
   },
   "outputs": [
    {
     "data": {
      "text/plain": [
       "\n",
       "[[ 11.85281181]]\n",
       "<NDArray 1x1 @cpu(0)>"
      ]
     },
     "execution_count": 13,
     "metadata": {},
     "output_type": "execute_result"
    }
   ],
   "source": [
    "example_data = nd.array([[4,7]])\n",
    "net(example_data)"
   ]
  },
  {
   "cell_type": "code",
   "execution_count": 14,
   "metadata": {
    "ExecuteTime": {
     "end_time": "2018-01-10T10:31:55.239180Z",
     "start_time": "2018-01-10T10:31:55.230955Z"
    }
   },
   "outputs": [
    {
     "name": "stdout",
     "output_type": "stream",
     "text": [
      "\n",
      "[[-1.22338355  2.39233518]]\n",
      "<NDArray 1x2 @cpu(0)>\n",
      "\n",
      "[ 0.]\n",
      "<NDArray 1 @cpu(0)>\n"
     ]
    }
   ],
   "source": [
    "print(net.weight.data())\n",
    "print(net.bias.data())"
   ]
  },
  {
   "cell_type": "markdown",
   "metadata": {},
   "source": [
    "## 维度推测\n",
    "\n",
    "``gluon`` 可以对参数的shape进行自动推断，因为只有当数据在网络中进行前向传播的时候参数才会被初始化，因此我们不需要指定输入维度而只需要指定输出维度"
   ]
  },
  {
   "cell_type": "code",
   "execution_count": 15,
   "metadata": {
    "ExecuteTime": {
     "end_time": "2018-01-10T10:31:55.250214Z",
     "start_time": "2018-01-10T10:31:55.243370Z"
    }
   },
   "outputs": [],
   "source": [
    "net = gluon.nn.Dense(1)\n",
    "net.collect_params().initialize(mx.init.Normal(sigma=1.))"
   ]
  },
  {
   "cell_type": "markdown",
   "metadata": {},
   "source": [
    "## 使用``gluon``定义损失函数"
   ]
  },
  {
   "cell_type": "code",
   "execution_count": 16,
   "metadata": {
    "ExecuteTime": {
     "end_time": "2018-01-10T10:31:55.260747Z",
     "start_time": "2018-01-10T10:31:55.255852Z"
    }
   },
   "outputs": [],
   "source": [
    "square_loss = gluon.loss.L2Loss()"
   ]
  },
  {
   "cell_type": "markdown",
   "metadata": {},
   "source": [
    "## 使用``gluon``定义优化器"
   ]
  },
  {
   "cell_type": "code",
   "execution_count": 17,
   "metadata": {
    "ExecuteTime": {
     "end_time": "2018-01-10T10:31:55.270832Z",
     "start_time": "2018-01-10T10:31:55.265068Z"
    }
   },
   "outputs": [],
   "source": [
    "trainer = gluon.Trainer(net.collect_params(), 'sgd', {'learning_rate': 0.01})"
   ]
  },
  {
   "cell_type": "markdown",
   "metadata": {},
   "source": [
    "## 训练"
   ]
  },
  {
   "cell_type": "code",
   "execution_count": 18,
   "metadata": {
    "ExecuteTime": {
     "end_time": "2018-01-10T10:31:56.655550Z",
     "start_time": "2018-01-10T10:31:55.275310Z"
    },
    "run_control": {
     "marked": false
    }
   },
   "outputs": [
    {
     "name": "stdout",
     "output_type": "stream",
     "text": [
      "Epoch 1, Batch 99, Moving Average loss: 2.12905538156, Avg loss: 0.361015842438\n",
      "Epoch 2, Batch 199, Moving Average loss: 1.15001388821, Avg loss: 0.120715826631\n",
      "Epoch 3, Batch 299, Moving Average loss: 0.482010092074, Avg loss: 0.0334746645391\n",
      "Epoch 4, Batch 399, Moving Average loss: 0.186864060902, Avg loss: 0.00900802575052\n",
      "Epoch 5, Batch 499, Moving Average loss: 0.0700443648045, Avg loss: 0.00223718950478\n",
      "Epoch 7, Batch 599, Moving Average loss: 0.0259300433221, Avg loss: 3.3645826974e-05\n",
      "Epoch 8, Batch 699, Moving Average loss: 0.00956387317755, Avg loss: 2.57771276956e-05\n",
      "Epoch 9, Batch 799, Moving Average loss: 0.00353875117967, Avg loss: 2.72247371904e-05\n"
     ]
    }
   ],
   "source": [
    "epochs = 10\n",
    "loss_sequence = []\n",
    "num_batches = num_example / batch_size\n",
    "\n",
    "# 加权移动平均损失\n",
    "niter = 0\n",
    "moving_loss = 0\n",
    "smoothing_constant = 0.01\n",
    "moving_loss_sequence = []\n",
    "\n",
    "for epoch in range(epochs):\n",
    "    cumulative_loss = .0\n",
    "    for i, (data, label) in enumerate(train_data): \n",
    "        with autograd.record():\n",
    "            output = net(data)\n",
    "            loss = square_loss(output, label)\n",
    "        loss.backward()\n",
    "        trainer.step(batch_size)\n",
    "        cumulative_loss += nd.sum(loss).asscalar()\n",
    "        \n",
    "        niter += 1\n",
    "        curr_loss = nd.mean(loss).asscalar()\n",
    "        moving_loss = (1 - smoothing_constant) * moving_loss + smoothing_constant * curr_loss\n",
    "        est_loss = moving_loss / 1 - (1-smoothing_constant)**niter\n",
    "        moving_loss_sequence.append(est_loss)\n",
    "        if (niter+1)%100 == 0:\n",
    "             print(\"Epoch %s, Batch %s, Moving Average loss: %s, Avg loss: %s\" % (epoch, niter, est_loss, cumulative_loss / num_example))\n",
    "    loss_sequence.append(cumulative_loss)"
   ]
  },
  {
   "cell_type": "code",
   "execution_count": 19,
   "metadata": {
    "ExecuteTime": {
     "end_time": "2018-01-10T10:31:56.669160Z",
     "start_time": "2018-01-10T10:31:56.661592Z"
    }
   },
   "outputs": [
    {
     "data": {
      "text/plain": [
       "\n",
       "[[ 1.20170069 -3.39869833]]\n",
       "<NDArray 1x2 @cpu(0)>"
      ]
     },
     "execution_count": 19,
     "metadata": {},
     "output_type": "execute_result"
    }
   ],
   "source": [
    "net.weight.data()"
   ]
  },
  {
   "cell_type": "code",
   "execution_count": 20,
   "metadata": {
    "ExecuteTime": {
     "end_time": "2018-01-10T10:31:56.682502Z",
     "start_time": "2018-01-10T10:31:56.674665Z"
    },
    "scrolled": true
   },
   "outputs": [
    {
     "data": {
      "text/plain": [
       "\n",
       "[ 4.19861317]\n",
       "<NDArray 1 @cpu(0)>"
      ]
     },
     "execution_count": 20,
     "metadata": {},
     "output_type": "execute_result"
    }
   ],
   "source": [
    "net.bias.data()"
   ]
  },
  {
   "cell_type": "code",
   "execution_count": 22,
   "metadata": {
    "ExecuteTime": {
     "end_time": "2018-01-10T10:32:26.681303Z",
     "start_time": "2018-01-10T10:32:26.506267Z"
    }
   },
   "outputs": [
    {
     "data": {
      "text/plain": [
       "Text(0,0.5,'average loss')"
      ]
     },
     "execution_count": 22,
     "metadata": {},
     "output_type": "execute_result"
    },
    {
     "data": {
      "image/png": "[encoded data removed]",
      "text/plain": [
       "<matplotlib.figure.Figure at 0x7f19fc835be0>"
      ]
     },
     "metadata": {},
     "output_type": "display_data"
    }
   ],
   "source": [
    "# plot the averaging loss\n",
    "%matplotlib inline\n",
    "import matplotlib.pyplot as plt\n",
    "\n",
    "plt.figure(figsize=(10, 10))\n",
    "plt.plot(list(range(len(loss_sequence))), loss_sequence)\n",
    "plt.grid(True, which=\"both\")\n",
    "plt.xlabel(\"epoch\", fontsize=\"16\")\n",
    "plt.ylabel(\"average loss\", fontsize=\"16\")"
   ]
  },
  {
   "cell_type": "markdown",
   "metadata": {},
   "source": [
    "## ``gluon``查看参数的方法"
   ]
  },
  {
   "cell_type": "code",
   "execution_count": 29,
   "metadata": {
    "ExecuteTime": {
     "end_time": "2018-01-10T10:36:05.782169Z",
     "start_time": "2018-01-10T10:36:05.772125Z"
    }
   },
   "outputs": [
    {
     "name": "stdout",
     "output_type": "stream",
     "text": [
      "dense2_weight \n",
      "[[ 1.20170069 -3.39869833]]\n",
      "<NDArray 1x2 @cpu(0)>\n",
      "dense2_bias \n",
      "[ 4.19861317]\n",
      "<NDArray 1 @cpu(0)>\n"
     ]
    }
   ],
   "source": [
    "# 获取参数的方法\n",
    "params = net.collect_params()\n",
    "for param in params.values():\n",
    "    print(param.name, param.data())"
   ]
  }
 ],
 "metadata": {
  "kernelspec": {
   "display_name": "Python 3",
   "language": "python",
   "name": "python3"
  },
  "language_info": {
   "codemirror_mode": {
    "name": "ipython",
    "version": 3
   },
   "file_extension": ".py",
   "mimetype": "text/x-python",
   "name": "python",
   "nbconvert_exporter": "python",
   "pygments_lexer": "ipython3",
   "version": "3.5.2"
  },
  "latex_envs": {
   "LaTeX_envs_menu_present": true,
   "autocomplete": true,
   "bibliofile": "biblio.bib",
   "cite_by": "apalike",
   "current_citInitial": 1,
   "eqLabelWithNumbers": true,
   "eqNumInitial": 1,
   "hotkeys": {
    "equation": "Ctrl-E",
    "itemize": "Ctrl-I"
   },
   "labels_anchors": false,
   "latex_user_defs": false,
   "report_style_numbering": false,
   "user_envs_cfg": false
  }
 },
 "nbformat": 4,
 "nbformat_minor": 2
}
