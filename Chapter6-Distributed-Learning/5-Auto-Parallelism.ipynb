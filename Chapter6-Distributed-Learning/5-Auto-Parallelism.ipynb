{
 "cells": [
  {
   "cell_type": "markdown",
   "metadata": {},
   "source": [
    "# 自动并行\n",
    "\n",
    "在延后执行里我们提到后端系统会自动构建计算图。通过计算图系统可以知道所有计算的依赖关系，有了它系统可以选择将没有依赖关系任务同时执行来获得性能的提升。\n",
    "\n",
    "仍然考虑下面这个例子，这里``a = ...``和``b = ...``之间没有数据依赖关系，从而系统可以选择并行执行他们。\n",
    "\n",
    "<img src=\"http://zh.gluon.ai/_images/frontend-backend.svg\" width=\"400\">\n",
    "\n",
    "通常一个运算符，例如+或者dot，会用掉一个计算设备上所有计算资源。dot同样用掉所有CPU的核（即使是有多个CPU）和单GPU上所有线程。因此在单设备上并行运行多个运算符可能效果并不明显。自动并行主要的用途是多设备的计算并行，和计算与通讯的并行。\n",
    "\n",
    "## 多设备的并行计算\n",
    "\n",
    "我们首先定义一个函数，它做10次矩阵乘法。"
   ]
  },
  {
   "cell_type": "code",
   "execution_count": 1,
   "metadata": {
    "ExecuteTime": {
     "end_time": "2018-01-28T06:23:33.951622Z",
     "start_time": "2018-01-28T06:23:33.455668Z"
    }
   },
   "outputs": [],
   "source": [
    "from mxnet import nd\n",
    "\n",
    "def run(X):\n",
    "    return [nd.dot(X, X) for i in range(10)]"
   ]
  },
  {
   "cell_type": "markdown",
   "metadata": {},
   "source": [
    "我们分别计算在CPU和GPU上运行时间"
   ]
  },
  {
   "cell_type": "code",
   "execution_count": 5,
   "metadata": {
    "ExecuteTime": {
     "end_time": "2018-01-28T06:27:29.224780Z",
     "start_time": "2018-01-28T06:27:26.816004Z"
    }
   },
   "outputs": [
    {
     "name": "stdout",
     "output_type": "stream",
     "text": [
      "Run on cpu 0.870323 sec\n",
      "Run on gpu 0.413594 sec\n"
     ]
    }
   ],
   "source": [
    "import mxnet as mx\n",
    "from time import time \n",
    "\n",
    "x_cpu = nd.random.normal(shape=(2000, 2000))\n",
    "x_gpu = nd.random.normal(shape=(6000, 6000), ctx=mx.gpu())\n",
    "\n",
    "# warm up\n",
    "run(x_cpu)\n",
    "run(x_gpu)\n",
    "nd.waitall()\n",
    "\n",
    "start = time()\n",
    "run(x_cpu)\n",
    "nd.waitall()\n",
    "print(\"Run on cpu %f sec\" % (time() - start))\n",
    "\n",
    "start = time()\n",
    "run(x_gpu)\n",
    "nd.waitall()\n",
    "print(\"Run on gpu %f sec\" % (time() - start))"
   ]
  },
  {
   "cell_type": "markdown",
   "metadata": {},
   "source": [
    "我们去掉两次``run``之间的``waitall``，希望系统能自动并行这两个任务："
   ]
  },
  {
   "cell_type": "code",
   "execution_count": 6,
   "metadata": {
    "ExecuteTime": {
     "end_time": "2018-01-28T06:29:27.237225Z",
     "start_time": "2018-01-28T06:29:26.337412Z"
    }
   },
   "outputs": [
    {
     "name": "stdout",
     "output_type": "stream",
     "text": [
      "Run on both CPU and GPU 0.895741 sec\n"
     ]
    }
   ],
   "source": [
    "start = time()\n",
    "run(x_cpu)\n",
    "run(x_gpu)\n",
    "nd.waitall()\n",
    "print(\"Run on both CPU and GPU %f sec\" % (time() - start))"
   ]
  },
  {
   "cell_type": "markdown",
   "metadata": {
    "ExecuteTime": {
     "end_time": "2018-01-28T06:30:14.155871Z",
     "start_time": "2018-01-28T06:30:14.152072Z"
    }
   },
   "source": [
    "可以看到当两个一起执行时，总时间不是分开执行的总和，这表示后端系统能够有效的并行他们。"
   ]
  },
  {
   "cell_type": "markdown",
   "metadata": {},
   "source": [
    "## 计算和通讯的并行\n",
    "\n",
    "在多设备计算中，我们经常需要在设备之间复制数据，例如我们呢在GPU上计算，然后将结果复制会CPU。"
   ]
  },
  {
   "cell_type": "code",
   "execution_count": 10,
   "metadata": {
    "ExecuteTime": {
     "end_time": "2018-01-28T06:49:10.615353Z",
     "start_time": "2018-01-28T06:49:09.700736Z"
    }
   },
   "outputs": [
    {
     "name": "stdout",
     "output_type": "stream",
     "text": [
      "Run on gpu 0.432925 sec\n",
      "Copy to cpu 0.471936 sec\n"
     ]
    }
   ],
   "source": [
    "def copy_to_cpu(x):\n",
    "    return [y.copyto(mx.cpu()) for y in x]\n",
    "\n",
    "start = time()\n",
    "y = run(x_gpu)\n",
    "nd.waitall()\n",
    "print(\"Run on gpu %f sec\" % (time() - start))\n",
    "\n",
    "start = time()\n",
    "copy_to_cpu(y)\n",
    "nd.waitall()\n",
    "print(\"Copy to cpu %f sec\" % (time() - start))"
   ]
  },
  {
   "cell_type": "markdown",
   "metadata": {},
   "source": [
    "同样我们去掉nd.waitall，来看看并行的效果"
   ]
  },
  {
   "cell_type": "code",
   "execution_count": 11,
   "metadata": {
    "ExecuteTime": {
     "end_time": "2018-01-28T06:50:24.288913Z",
     "start_time": "2018-01-28T06:50:23.762452Z"
    }
   },
   "outputs": [
    {
     "name": "stdout",
     "output_type": "stream",
     "text": [
      "Run on GPU then Copy to CPU: 0.522506 sec\n"
     ]
    }
   ],
   "source": [
    "start = time()\n",
    "y = run(x_gpu)\n",
    "copy_to_cpu(y)\n",
    "nd.waitall()\n",
    "print('Run on GPU then Copy to CPU: %f sec'%(time() - start))"
   ]
  },
  {
   "cell_type": "markdown",
   "metadata": {},
   "source": [
    "可以看到总时间小于前面两者之和。这个任务稍微不同于上面，因为运行和复制之间有依赖关系。就是y[i]必须先计算好才能复制到CPU。**但在计算y[i]的时候系统可以复制y[i-1]，从而获得总运行时间的减少。**"
   ]
  },
  {
   "cell_type": "markdown",
   "metadata": {},
   "source": [
    "## 总结\n",
    "\n",
    "MXNet能够自动并行执行没有数据依赖关系的任务从而提升系统性能。"
   ]
  }
 ],
 "metadata": {
  "kernelspec": {
   "display_name": "Python 3",
   "language": "python",
   "name": "python3"
  },
  "language_info": {
   "codemirror_mode": {
    "name": "ipython",
    "version": 3
   },
   "file_extension": ".py",
   "mimetype": "text/x-python",
   "name": "python",
   "nbconvert_exporter": "python",
   "pygments_lexer": "ipython3",
   "version": "3.5.2"
  }
 },
 "nbformat": 4,
 "nbformat_minor": 2
}
