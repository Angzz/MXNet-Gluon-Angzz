{
 "cells": [
  {
   "cell_type": "markdown",
   "metadata": {},
   "source": [
    "# VGG - 使用重复元素的非常深的网络\n",
    "\n",
    "VGG第一次使用大量的重复结构来紧凑网络。\n",
    "\n",
    "VGG的一个关键是使用很多有着相对较小的 kernel ($3 \\times 3$)的卷积层然后接上一个池化层，之后再将这个模块(我们将其称为vgg_block)重复很多次，构成(vgg_stack)。"
   ]
  },
  {
   "cell_type": "code",
   "execution_count": 1,
   "metadata": {
    "ExecuteTime": {
     "end_time": "2018-01-20T07:10:39.791267Z",
     "start_time": "2018-01-20T07:10:39.267951Z"
    }
   },
   "outputs": [],
   "source": [
    "import mxnet as mx\n",
    "\n",
    "from mxnet import nd\n",
    "from mxnet import gluon\n",
    "from mxnet import autograd\n",
    "\n",
    "import utils\n",
    "mx.random.seed(1)\n",
    " \n",
    "ctx = mx.gpu()"
   ]
  },
  {
   "cell_type": "code",
   "execution_count": 2,
   "metadata": {
    "ExecuteTime": {
     "end_time": "2018-01-20T07:10:40.100719Z",
     "start_time": "2018-01-20T07:10:39.792549Z"
    }
   },
   "outputs": [],
   "source": [
    "batch_size = 64\n",
    "train_data, test_data = utils.load_dataset(batch_size, resize=96, data_type='mnist')"
   ]
  },
  {
   "cell_type": "code",
   "execution_count": 3,
   "metadata": {
    "ExecuteTime": {
     "end_time": "2018-01-20T07:10:40.944070Z",
     "start_time": "2018-01-20T07:10:40.102227Z"
    }
   },
   "outputs": [
    {
     "name": "stdout",
     "output_type": "stream",
     "text": [
      "(64, 1, 96, 96)\n"
     ]
    }
   ],
   "source": [
    "for data, _ in train_data:\n",
    "    data = data.as_in_context(ctx)\n",
    "    print(data.shape)\n",
    "    break"
   ]
  },
  {
   "cell_type": "markdown",
   "metadata": {},
   "source": [
    "## 定义``vgg_block``"
   ]
  },
  {
   "cell_type": "code",
   "execution_count": 4,
   "metadata": {
    "ExecuteTime": {
     "end_time": "2018-01-20T07:10:40.951651Z",
     "start_time": "2018-01-20T07:10:40.945470Z"
    }
   },
   "outputs": [],
   "source": [
    "# vgg_block\n",
    "def vgg_block(num_convs, channels):\n",
    "    vgg_block = gluon.nn.Sequential()\n",
    "    for per_conv in range(num_convs):\n",
    "        vgg_block.add(gluon.nn.Conv2D(channels=channels, kernel_size=3, \n",
    "                                      strides=1, padding=1, activation=\"relu\"))\n",
    "    vgg_block.add(gluon.nn.MaxPool2D(pool_size=2, strides=2))\n",
    "    return vgg_block"
   ]
  },
  {
   "cell_type": "code",
   "execution_count": 5,
   "metadata": {
    "ExecuteTime": {
     "end_time": "2018-01-20T07:10:41.534713Z",
     "start_time": "2018-01-20T07:10:40.953136Z"
    }
   },
   "outputs": [
    {
     "data": {
      "text/plain": [
       "(64, 64, 48, 48)"
      ]
     },
     "execution_count": 5,
     "metadata": {},
     "output_type": "execute_result"
    }
   ],
   "source": [
    "net0 = vgg_block(2, 64)\n",
    "net0.initialize(ctx=ctx)\n",
    "net0(data).shape"
   ]
  },
  {
   "cell_type": "code",
   "execution_count": 6,
   "metadata": {
    "ExecuteTime": {
     "end_time": "2018-01-20T07:10:41.538997Z",
     "start_time": "2018-01-20T07:10:41.536168Z"
    }
   },
   "outputs": [
    {
     "data": {
      "text/plain": [
       "sequential0_ (\n",
       "  Parameter conv0_weight (shape=(64, 1, 3, 3), dtype=<class 'numpy.float32'>)\n",
       "  Parameter conv0_bias (shape=(64,), dtype=<class 'numpy.float32'>)\n",
       "  Parameter conv1_weight (shape=(64, 64, 3, 3), dtype=<class 'numpy.float32'>)\n",
       "  Parameter conv1_bias (shape=(64,), dtype=<class 'numpy.float32'>)\n",
       ")"
      ]
     },
     "execution_count": 6,
     "metadata": {},
     "output_type": "execute_result"
    }
   ],
   "source": [
    "net0.collect_params()"
   ]
  },
  {
   "cell_type": "markdown",
   "metadata": {},
   "source": [
    "## 定义``vgg_stack``"
   ]
  },
  {
   "cell_type": "code",
   "execution_count": 7,
   "metadata": {
    "ExecuteTime": {
     "end_time": "2018-01-20T07:10:41.543832Z",
     "start_time": "2018-01-20T07:10:41.540236Z"
    }
   },
   "outputs": [],
   "source": [
    "def vgg_stack(architecture):\n",
    "    vgg_stack = gluon.nn.Sequential()\n",
    "    for (num_convs, output_channel) in architecture:\n",
    "        vgg_stack.add(vgg_block(num_convs, output_channel))\n",
    "    return vgg_stack"
   ]
  },
  {
   "cell_type": "code",
   "execution_count": 8,
   "metadata": {
    "ExecuteTime": {
     "end_time": "2018-01-20T07:10:42.189481Z",
     "start_time": "2018-01-20T07:10:41.544870Z"
    }
   },
   "outputs": [
    {
     "data": {
      "text/plain": [
       "(64, 512, 3, 3)"
      ]
     },
     "execution_count": 8,
     "metadata": {},
     "output_type": "execute_result"
    }
   ],
   "source": [
    "# test\n",
    "architecture = ((1, 64), (1, 128), (2, 256), (2, 512), (2, 512))\n",
    "vgg = vgg_stack(architecture)\n",
    "vgg.initialize(ctx=ctx)\n",
    "vgg(data).shape"
   ]
  },
  {
   "cell_type": "markdown",
   "metadata": {},
   "source": [
    "## 定义模型"
   ]
  },
  {
   "cell_type": "code",
   "execution_count": 9,
   "metadata": {
    "ExecuteTime": {
     "end_time": "2018-01-20T07:10:42.212921Z",
     "start_time": "2018-01-20T07:10:42.191544Z"
    }
   },
   "outputs": [],
   "source": [
    "# vgg\n",
    "num_outputs = 10\n",
    "architecture = ((1,64), (1,128), (2,256), (2,512))\n",
    "\n",
    "net = gluon.nn.Sequential()\n",
    "with net.name_scope():\n",
    "    net.add(vgg_stack(architecture))\n",
    "    net.add(gluon.nn.Flatten())\n",
    "    net.add(gluon.nn.Dense(512, activation='relu'))\n",
    "    net.add(gluon.nn.Dropout(.5))\n",
    "    net.add(gluon.nn.Dense(512, activation='relu'))\n",
    "    net.add(gluon.nn.Dense(num_outputs))\n",
    "\n",
    "net.collect_params().initialize(mx.init.Xavier(magnitude=2.24), ctx=ctx)"
   ]
  },
  {
   "cell_type": "code",
   "execution_count": 10,
   "metadata": {
    "ExecuteTime": {
     "end_time": "2018-01-20T07:10:42.216841Z",
     "start_time": "2018-01-20T07:10:42.214612Z"
    }
   },
   "outputs": [],
   "source": [
    "softmax_cross_entropy = gluon.loss.SoftmaxCrossEntropyLoss()"
   ]
  },
  {
   "cell_type": "code",
   "execution_count": 11,
   "metadata": {
    "ExecuteTime": {
     "end_time": "2018-01-20T07:10:42.223580Z",
     "start_time": "2018-01-20T07:10:42.218024Z"
    }
   },
   "outputs": [],
   "source": [
    "learning_rate = .01\n",
    "trainer = gluon.Trainer(net.collect_params(), 'sgd', {'learning_rate': learning_rate})"
   ]
  },
  {
   "cell_type": "markdown",
   "metadata": {},
   "source": [
    "## 训练"
   ]
  },
  {
   "cell_type": "code",
   "execution_count": 12,
   "metadata": {
    "ExecuteTime": {
     "end_time": "2018-01-20T07:24:58.235791Z",
     "start_time": "2018-01-20T07:10:42.224629Z"
    }
   },
   "outputs": [
    {
     "name": "stdout",
     "output_type": "stream",
     "text": [
      "Epoch 0, Moving Train Avg loss 0.36758, Train acc 0.93533, Test acc 0.93610, Time consume 86.57945 s.\n",
      "Epoch 1, Moving Train Avg loss 0.11837, Train acc 0.97020, Test acc 0.97090, Time consume 85.61425 s.\n",
      "Epoch 2, Moving Train Avg loss 0.11686, Train acc 0.98050, Test acc 0.98010, Time consume 85.54478 s.\n",
      "Epoch 3, Moving Train Avg loss 0.06699, Train acc 0.98532, Test acc 0.98380, Time consume 85.53005 s.\n",
      "Epoch 4, Moving Train Avg loss 0.07487, Train acc 0.98765, Test acc 0.98680, Time consume 85.65583 s.\n",
      "Epoch 5, Moving Train Avg loss 0.05795, Train acc 0.98973, Test acc 0.98750, Time consume 85.58270 s.\n",
      "Epoch 6, Moving Train Avg loss 0.04640, Train acc 0.99125, Test acc 0.98980, Time consume 85.67273 s.\n",
      "Epoch 7, Moving Train Avg loss 0.04541, Train acc 0.99070, Test acc 0.99000, Time consume 85.64016 s.\n",
      "Epoch 8, Moving Train Avg loss 0.04476, Train acc 0.99385, Test acc 0.99110, Time consume 85.27144 s.\n",
      "Epoch 9, Moving Train Avg loss 0.04945, Train acc 0.99440, Test acc 0.99050, Time consume 84.90037 s.\n"
     ]
    }
   ],
   "source": [
    "from time import time\n",
    "\n",
    "epochs = 10\n",
    "\n",
    "niter = 0\n",
    "moving_loss = .0\n",
    "smoothing_constant = 0.1\n",
    "\n",
    "for epoch in range(epochs):\n",
    "    start = time()\n",
    "    for i, (data, label) in enumerate(train_data):\n",
    "        data = data.as_in_context(ctx)\n",
    "        label = label.as_in_context(ctx)\n",
    "        with autograd.record():\n",
    "            output = net(data)\n",
    "            loss = softmax_cross_entropy(output, label)\n",
    "        loss.backward()\n",
    "        trainer.step(batch_size)\n",
    "        \n",
    "        niter += 1\n",
    "        curr_loss = nd.mean(loss).asscalar()\n",
    "        moving_loss = (1 - smoothing_constant) * moving_loss + smoothing_constant * curr_loss\n",
    "        estimated_loss = moving_loss / (1 - (1-smoothing_constant)**niter)\n",
    "        \n",
    "    train_acc = utils.evaluate_accuracy_gluon(train_data, net, ctx)\n",
    "    test_acc = utils.evaluate_accuracy_gluon(test_data, net, ctx)\n",
    "    print(\"Epoch %d, Moving Train Avg loss %.5f, Train acc %.5f, Test acc %.5f, Time consume %.5f s.\"\n",
    "         % (epoch, estimated_loss, train_acc, test_acc, time() - start))"
   ]
  },
  {
   "cell_type": "code",
   "execution_count": 13,
   "metadata": {
    "ExecuteTime": {
     "end_time": "2018-01-20T07:26:11.806342Z",
     "start_time": "2018-01-20T07:26:11.736038Z"
    }
   },
   "outputs": [],
   "source": [
    "filename = \"models/vgg-mnist-0000.params\"\n",
    "net.save_params(filename)"
   ]
  }
 ],
 "metadata": {
  "kernelspec": {
   "display_name": "Python 3",
   "language": "python",
   "name": "python3"
  },
  "language_info": {
   "codemirror_mode": {
    "name": "ipython",
    "version": 3
   },
   "file_extension": ".py",
   "mimetype": "text/x-python",
   "name": "python",
   "nbconvert_exporter": "python",
   "pygments_lexer": "ipython3",
   "version": "3.5.2"
  },
  "latex_envs": {
   "LaTeX_envs_menu_present": true,
   "autocomplete": true,
   "bibliofile": "biblio.bib",
   "cite_by": "apalike",
   "current_citInitial": 1,
   "eqLabelWithNumbers": true,
   "eqNumInitial": 1,
   "hotkeys": {
    "equation": "Ctrl-E",
    "itemize": "Ctrl-I"
   },
   "labels_anchors": false,
   "latex_user_defs": false,
   "report_style_numbering": false,
   "user_envs_cfg": false
  }
 },
 "nbformat": 4,
 "nbformat_minor": 2
}
