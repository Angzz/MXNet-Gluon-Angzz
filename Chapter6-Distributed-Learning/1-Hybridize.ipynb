{
 "cells": [
  {
   "cell_type": "markdown",
   "metadata": {},
   "source": [
    "# 使用``HybridBlock``更快和更好移植\n",
    "\n",
    "* 命令式编程的优点：我们会对程序的执行流程很清楚，程序会很灵活并且我们可以尽情的通过print来调试，我们可以通过增加循环和条件判断来增加程序的逻辑性。\n",
    "\n",
    "* 符号式编程的优点：但是命令式变成的一大缺点是速度会相对较慢，这就是符号式变成所要带来的改变，一般命令式编程是执行一句就分配一块内存，这样带来的问题可能是说也许前面的某个变量我们在之后根本就用不到，因为他可能只是作为中间变量来过渡结果，因此通过命令式编程我们的程序是认识不到这点的，符号式编程是说我们会将整个程序的逻辑定义好最后再一同编译，这样的一个好处是说可以看清程序的全貌之后我们便可以只分配必须的内存，因此通过符号式编程会带来性能的提升。"
   ]
  },
  {
   "cell_type": "code",
   "execution_count": 1,
   "metadata": {
    "ExecuteTime": {
     "end_time": "2018-01-25T12:45:03.986651Z",
     "start_time": "2018-01-25T12:45:03.358064Z"
    }
   },
   "outputs": [],
   "source": [
    "import mxnet as mx\n",
    "\n",
    "from mxnet import nd"
   ]
  },
  {
   "cell_type": "code",
   "execution_count": 2,
   "metadata": {
    "ExecuteTime": {
     "end_time": "2018-01-25T12:45:03.999048Z",
     "start_time": "2018-01-25T12:45:03.991868Z"
    }
   },
   "outputs": [],
   "source": [
    "def add_two(A, B):\n",
    "    return A + B\n",
    "\n",
    "def add(A, B, C, D):\n",
    "    E = add_two(A, B)\n",
    "    F = add_two(C, D)\n",
    "    return E + F"
   ]
  },
  {
   "cell_type": "code",
   "execution_count": 3,
   "metadata": {
    "ExecuteTime": {
     "end_time": "2018-01-25T12:45:04.018573Z",
     "start_time": "2018-01-25T12:45:04.004847Z"
    }
   },
   "outputs": [
    {
     "data": {
      "text/plain": [
       "18"
      ]
     },
     "execution_count": 3,
     "metadata": {},
     "output_type": "execute_result"
    }
   ],
   "source": [
    "add(3, 4, 5, 6)"
   ]
  },
  {
   "cell_type": "code",
   "execution_count": 4,
   "metadata": {
    "ExecuteTime": {
     "end_time": "2018-01-25T12:45:04.037134Z",
     "start_time": "2018-01-25T12:45:04.023175Z"
    }
   },
   "outputs": [
    {
     "name": "stdout",
     "output_type": "stream",
     "text": [
      "10\n"
     ]
    }
   ],
   "source": [
    "def fancy_add_two():\n",
    "    return '''\n",
    "def add_two(A, B):\n",
    "    return A + B    \n",
    "    '''\n",
    "\n",
    "def fancy_add():\n",
    "    return '''\n",
    "def add(A, B, C, D):\n",
    "    E = add_two(A, B)\n",
    "    F = add_two(C, D)\n",
    "    return E + F   \n",
    "    '''\n",
    "\n",
    "def evoke_add():\n",
    "    return fancy_add_two() + fancy_add() + \\\n",
    "'''\n",
    "print(add(1, 2, 3, 4))\n",
    "'''\n",
    "    \n",
    "evoke = evoke_add()\n",
    "y = compile(evoke, '', 'exec')\n",
    "exec(y)"
   ]
  },
  {
   "cell_type": "markdown",
   "metadata": {},
   "source": [
    "## 使用``HybridBlock``,``HybridSequential``,``.hybridize()``来加速"
   ]
  },
  {
   "cell_type": "code",
   "execution_count": 5,
   "metadata": {
    "ExecuteTime": {
     "end_time": "2018-01-25T12:45:04.052419Z",
     "start_time": "2018-01-25T12:45:04.042926Z"
    }
   },
   "outputs": [],
   "source": [
    "from mxnet import gluon\n",
    "\n",
    "def get_net():\n",
    "    net = gluon.nn.HybridSequential()\n",
    "    with net.name_scope():\n",
    "        net.add(gluon.nn.Dense(256))\n",
    "        net.add(gluon.nn.Dense(128))\n",
    "        net.add(gluon.nn.Dense(10))\n",
    "    net.initialize()\n",
    "    return net"
   ]
  },
  {
   "cell_type": "code",
   "execution_count": 6,
   "metadata": {
    "ExecuteTime": {
     "end_time": "2018-01-25T12:45:04.078318Z",
     "start_time": "2018-01-25T12:45:04.058355Z"
    }
   },
   "outputs": [
    {
     "data": {
      "text/plain": [
       "\n",
       "[[ 0.22535166  0.04538546 -0.05891204 -0.10385949 -0.17111427 -0.06184213\n",
       "  -0.03462029  0.07846655 -0.49402252  0.07973635]]\n",
       "<NDArray 1x10 @cpu(0)>"
      ]
     },
     "execution_count": 6,
     "metadata": {},
     "output_type": "execute_result"
    }
   ],
   "source": [
    "net = get_net()\n",
    "X = nd.random.uniform(shape=(1, 784))\n",
    "net(X)"
   ]
  },
  {
   "cell_type": "code",
   "execution_count": 7,
   "metadata": {
    "ExecuteTime": {
     "end_time": "2018-01-25T12:45:04.092917Z",
     "start_time": "2018-01-25T12:45:04.083684Z"
    }
   },
   "outputs": [
    {
     "data": {
      "text/plain": [
       "\n",
       "[[ 0.22535166  0.04538546 -0.05891204 -0.10385949 -0.17111427 -0.06184213\n",
       "  -0.03462029  0.07846655 -0.49402252  0.07973635]]\n",
       "<NDArray 1x10 @cpu(0)>"
      ]
     },
     "execution_count": 7,
     "metadata": {},
     "output_type": "execute_result"
    }
   ],
   "source": [
    "net.hybridize()\n",
    "net(X)"
   ]
  },
  {
   "cell_type": "markdown",
   "metadata": {},
   "source": [
    "我们来看看hybridize比普通的initialize快几倍"
   ]
  },
  {
   "cell_type": "code",
   "execution_count": 11,
   "metadata": {
    "ExecuteTime": {
     "end_time": "2018-01-25T12:46:22.979213Z",
     "start_time": "2018-01-25T12:46:22.080292Z"
    }
   },
   "outputs": [
    {
     "name": "stdout",
     "output_type": "stream",
     "text": [
      "Before Hybridize :  0.5158853530883789\n",
      "After Hybridize :  0.3645961284637451\n"
     ]
    }
   ],
   "source": [
    "from time import time \n",
    "\n",
    "def bench(net, X):\n",
    "    start = time()\n",
    "    for i in range(1000):\n",
    "        y = net(X)\n",
    "    nd.waitall()\n",
    "    return time() - start\n",
    "\n",
    "net = get_net()\n",
    "print(\"Before Hybridize : \", bench(net, X))\n",
    "net.hybridize()\n",
    "print(\"After Hybridize : \", bench(net, X))"
   ]
  },
  {
   "cell_type": "markdown",
   "metadata": {},
   "source": [
    "可以看到hybridize还是快很多的\n",
    "\n",
    "下面我们继承``HybridizeBlock``来自定义网络"
   ]
  },
  {
   "cell_type": "markdown",
   "metadata": {},
   "source": [
    "## ``Symbol``"
   ]
  },
  {
   "cell_type": "code",
   "execution_count": 15,
   "metadata": {
    "ExecuteTime": {
     "end_time": "2018-01-25T13:04:32.316326Z",
     "start_time": "2018-01-25T13:04:32.302702Z"
    }
   },
   "outputs": [
    {
     "name": "stdout",
     "output_type": "stream",
     "text": [
      "<Symbol data>\n",
      "<Symbol hybridsequential3_dense2_fwd>\n",
      "{\n",
      "  \"nodes\": [\n",
      "    {\n",
      "      \"op\": \"null\", \n",
      "      \"name\": \"data\", \n",
      "      \"inputs\": []\n",
      "    }, \n",
      "    {\n",
      "      \"op\": \"null\", \n",
      "      \"name\": \"hybridsequential3_dense0_weight\", \n",
      "      \"attrs\": {\n",
      "        \"__dtype__\": \"0\", \n",
      "        \"__lr_mult__\": \"1.0\", \n",
      "        \"__shape__\": \"(256, 0)\", \n",
      "        \"__wd_mult__\": \"1.0\"\n",
      "      }, \n",
      "      \"inputs\": []\n",
      "    }, \n",
      "    {\n",
      "      \"op\": \"null\", \n",
      "      \"name\": \"hybridsequential3_dense0_bias\", \n",
      "      \"attrs\": {\n",
      "        \"__dtype__\": \"0\", \n",
      "        \"__init__\": \"zeros\", \n",
      "        \"__lr_mult__\": \"1.0\", \n",
      "        \"__shape__\": \"(256,)\", \n",
      "        \"__wd_mult__\": \"1.0\"\n",
      "      }, \n",
      "      \"inputs\": []\n",
      "    }, \n",
      "    {\n",
      "      \"op\": \"FullyConnected\", \n",
      "      \"name\": \"hybridsequential3_dense0_fwd\", \n",
      "      \"attrs\": {\n",
      "        \"flatten\": \"True\", \n",
      "        \"no_bias\": \"False\", \n",
      "        \"num_hidden\": \"256\"\n",
      "      }, \n",
      "      \"inputs\": [[0, 0, 0], [1, 0, 0], [2, 0, 0]]\n",
      "    }, \n",
      "    {\n",
      "      \"op\": \"null\", \n",
      "      \"name\": \"hybridsequential3_dense1_weight\", \n",
      "      \"attrs\": {\n",
      "        \"__dtype__\": \"0\", \n",
      "        \"__lr_mult__\": \"1.0\", \n",
      "        \"__shape__\": \"(128, 0)\", \n",
      "        \"__wd_mult__\": \"1.0\"\n",
      "      }, \n",
      "      \"inputs\": []\n",
      "    }, \n",
      "    {\n",
      "      \"op\": \"null\", \n",
      "      \"name\": \"hybridsequential3_dense1_bias\", \n",
      "      \"attrs\": {\n",
      "        \"__dtype__\": \"0\", \n",
      "        \"__init__\": \"zeros\", \n",
      "        \"__lr_mult__\": \"1.0\", \n",
      "        \"__shape__\": \"(128,)\", \n",
      "        \"__wd_mult__\": \"1.0\"\n",
      "      }, \n",
      "      \"inputs\": []\n",
      "    }, \n",
      "    {\n",
      "      \"op\": \"FullyConnected\", \n",
      "      \"name\": \"hybridsequential3_dense1_fwd\", \n",
      "      \"attrs\": {\n",
      "        \"flatten\": \"True\", \n",
      "        \"no_bias\": \"False\", \n",
      "        \"num_hidden\": \"128\"\n",
      "      }, \n",
      "      \"inputs\": [[3, 0, 0], [4, 0, 0], [5, 0, 0]]\n",
      "    }, \n",
      "    {\n",
      "      \"op\": \"null\", \n",
      "      \"name\": \"hybridsequential3_dense2_weight\", \n",
      "      \"attrs\": {\n",
      "        \"__dtype__\": \"0\", \n",
      "        \"__lr_mult__\": \"1.0\", \n",
      "        \"__shape__\": \"(10, 0)\", \n",
      "        \"__wd_mult__\": \"1.0\"\n",
      "      }, \n",
      "      \"inputs\": []\n",
      "    }, \n",
      "    {\n",
      "      \"op\": \"null\", \n",
      "      \"name\": \"hybridsequential3_dense2_bias\", \n",
      "      \"attrs\": {\n",
      "        \"__dtype__\": \"0\", \n",
      "        \"__init__\": \"zeros\", \n",
      "        \"__lr_mult__\": \"1.0\", \n",
      "        \"__shape__\": \"(10,)\", \n",
      "        \"__wd_mult__\": \"1.0\"\n",
      "      }, \n",
      "      \"inputs\": []\n",
      "    }, \n",
      "    {\n",
      "      \"op\": \"FullyConnected\", \n",
      "      \"name\": \"hybridsequential3_dense2_fwd\", \n",
      "      \"attrs\": {\n",
      "        \"flatten\": \"True\", \n",
      "        \"no_bias\": \"False\", \n",
      "        \"num_hidden\": \"10\"\n",
      "      }, \n",
      "      \"inputs\": [[6, 0, 0], [7, 0, 0], [8, 0, 0]]\n",
      "    }\n",
      "  ], \n",
      "  \"arg_nodes\": [0, 1, 2, 4, 5, 7, 8], \n",
      "  \"node_row_ptr\": [\n",
      "    0, \n",
      "    1, \n",
      "    2, \n",
      "    3, \n",
      "    4, \n",
      "    5, \n",
      "    6, \n",
      "    7, \n",
      "    8, \n",
      "    9, \n",
      "    10\n",
      "  ], \n",
      "  \"heads\": [[9, 0, 0]], \n",
      "  \"attrs\": {\"mxnet_version\": [\"int\", 10000]}\n",
      "}\n"
     ]
    }
   ],
   "source": [
    "from mxnet import sym\n",
    "\n",
    "X = sym.var('data')\n",
    "print(X)\n",
    "\n",
    "y = net(X)\n",
    "print(y)\n",
    "\n",
    "y_json = y.tojson()\n",
    "print(y_json)"
   ]
  },
  {
   "cell_type": "code",
   "execution_count": 16,
   "metadata": {
    "ExecuteTime": {
     "end_time": "2018-01-25T13:28:57.909173Z",
     "start_time": "2018-01-25T13:28:57.903318Z"
    }
   },
   "outputs": [],
   "source": [
    "y.save('model.json')"
   ]
  },
  {
   "cell_type": "code",
   "execution_count": 17,
   "metadata": {
    "ExecuteTime": {
     "end_time": "2018-01-25T13:29:33.140425Z",
     "start_time": "2018-01-25T13:29:33.131213Z"
    }
   },
   "outputs": [],
   "source": [
    "net.save_params('model.params')"
   ]
  },
  {
   "cell_type": "code",
   "execution_count": 22,
   "metadata": {
    "ExecuteTime": {
     "end_time": "2018-01-25T13:45:28.783006Z",
     "start_time": "2018-01-25T13:45:28.763105Z"
    }
   },
   "outputs": [],
   "source": [
    "class FancyHybridBlock(gluon.HybridBlock):\n",
    "    def __init__(self, **kwargs):\n",
    "        super().__init__(**kwargs)\n",
    "        with self.name_scope():\n",
    "            self.fc1 = gluon.nn.Dense(256)\n",
    "            self.fc2 = gluon.nn.Dense(128)\n",
    "            self.fc3 = gluon.nn.Dense(2) \n",
    "        \n",
    "    def hybrid_forward(self, F, X):\n",
    "        # F is a function space that depends on the type of x\n",
    "        # If x's type is NDArray, then F will be mxnet.nd\n",
    "        # If x's type is Symbol, then F will be mxnet.sym\n",
    "        print(\"type(X) : {}, F : {}\".format(type(X).__name__, F.__name__))\n",
    "        X = F.relu(self.fc1(X))\n",
    "        X = F.relu(self.fc2(X))\n",
    "        return self.fc3(X)"
   ]
  },
  {
   "cell_type": "code",
   "execution_count": 28,
   "metadata": {
    "ExecuteTime": {
     "end_time": "2018-01-25T13:46:27.761845Z",
     "start_time": "2018-01-25T13:46:27.753336Z"
    }
   },
   "outputs": [],
   "source": [
    "blk = FancyHybridBlock()\n",
    "blk.collect_params().initialize()"
   ]
  },
  {
   "cell_type": "code",
   "execution_count": 30,
   "metadata": {
    "ExecuteTime": {
     "end_time": "2018-01-25T13:47:40.022996Z",
     "start_time": "2018-01-25T13:47:40.009602Z"
    }
   },
   "outputs": [
    {
     "name": "stdout",
     "output_type": "stream",
     "text": [
      "===first===\n",
      "type(X) : NDArray, F : mxnet.ndarray\n",
      "===second===\n",
      "type(X) : NDArray, F : mxnet.ndarray\n"
     ]
    }
   ],
   "source": [
    "x = nd.random.normal(shape=(1,512))\n",
    "print(\"===first===\")\n",
    "y = blk(x)\n",
    "print(\"===second===\")\n",
    "y = blk(x)"
   ]
  },
  {
   "cell_type": "code",
   "execution_count": 31,
   "metadata": {
    "ExecuteTime": {
     "end_time": "2018-01-25T13:48:08.036999Z",
     "start_time": "2018-01-25T13:48:08.022523Z"
    }
   },
   "outputs": [
    {
     "name": "stdout",
     "output_type": "stream",
     "text": [
      "===first===\n",
      "type(X) : Symbol, F : mxnet.symbol\n",
      "===second===\n"
     ]
    }
   ],
   "source": [
    "blk.hybridize()\n",
    "print(\"===first===\")\n",
    "y = blk(x)\n",
    "print(\"===second===\")\n",
    "y = blk(x)"
   ]
  },
  {
   "cell_type": "markdown",
   "metadata": {},
   "source": [
    "可以看到什么使用hubridize后第二次什么都没有输出。这是因为第一次net(x)的时候，会先将输入替换成Symbol来构建符号式的程序，之后运行的时候系统将不再访问Python的代码，而是直接在C++后端执行这个符号式程序。这是为什么hybridze后会变快的一个原因。\n",
    "\n",
    "但这种速度的提升的一个问题就是他不够灵活，我们无法多次执行forward来跑我们的结果，"
   ]
  }
 ],
 "metadata": {
  "kernelspec": {
   "display_name": "Python 3",
   "language": "python",
   "name": "python3"
  },
  "language_info": {
   "codemirror_mode": {
    "name": "ipython",
    "version": 3
   },
   "file_extension": ".py",
   "mimetype": "text/x-python",
   "name": "python",
   "nbconvert_exporter": "python",
   "pygments_lexer": "ipython3",
   "version": "3.5.2"
  },
  "latex_envs": {
   "LaTeX_envs_menu_present": true,
   "autocomplete": true,
   "bibliofile": "biblio.bib",
   "cite_by": "apalike",
   "current_citInitial": 1,
   "eqLabelWithNumbers": true,
   "eqNumInitial": 1,
   "hotkeys": {
    "equation": "Ctrl-E",
    "itemize": "Ctrl-I"
   },
   "labels_anchors": false,
   "latex_user_defs": false,
   "report_style_numbering": false,
   "user_envs_cfg": false
  }
 },
 "nbformat": 4,
 "nbformat_minor": 2
}
