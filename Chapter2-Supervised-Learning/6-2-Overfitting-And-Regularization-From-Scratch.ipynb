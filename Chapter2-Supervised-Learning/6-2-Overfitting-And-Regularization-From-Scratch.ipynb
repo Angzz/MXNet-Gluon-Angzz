{
 "cells": [
  {
   "cell_type": "markdown",
   "metadata": {},
   "source": [
    "# 从高维线性回归看过拟合与正则化\n",
    "\n",
    "我们使用高维线性回归来引入过拟合问题\n",
    "\n",
    "我们的函数式为：\n",
    "\n",
    "$$y = 0.05 + \\sum_{i = 1}^p 0.01x_i +  \\text{noise}$$\n",
    "\n",
    "其中噪音服从均值为0，方差为0.01的高斯分布。\n",
    "\n",
    "为了演示过拟合，我们设置训练集只有20，测试集只有100，而数据维度为200。\n",
    "\n",
    "参数$W$的真实值均为0.01，偏置$b$为0.05"
   ]
  },
  {
   "cell_type": "code",
   "execution_count": 1,
   "metadata": {
    "ExecuteTime": {
     "end_time": "2018-01-16T09:47:16.497183Z",
     "start_time": "2018-01-16T09:47:15.697145Z"
    }
   },
   "outputs": [],
   "source": [
    "import mxnet as mx\n",
    "import numpy as np\n",
    "\n",
    "from mxnet import nd\n",
    "from mxnet import gluon\n",
    "from mxnet import autograd\n",
    "\n",
    "%matplotlib inline\n",
    "import matplotlib.pyplot as plt"
   ]
  },
  {
   "cell_type": "code",
   "execution_count": 2,
   "metadata": {
    "ExecuteTime": {
     "end_time": "2018-01-16T09:47:16.529499Z",
     "start_time": "2018-01-16T09:47:16.502843Z"
    }
   },
   "outputs": [],
   "source": [
    "num_train = 20\n",
    "num_test = 100\n",
    "num_inputs = 200\n",
    "num_outputs = 1\n",
    "\n",
    "X_data = nd.random.normal(shape=(num_train + num_test, num_inputs))\n",
    "\n",
    "X_train = X_data[:num_train, :]\n",
    "X_test = X_data[num_train:, :]\n",
    "\n",
    "trueW = 0.01 * nd.ones(shape=(num_inputs, num_outputs))\n",
    "trueb = 0.05 * nd.ones(shape=(num_outputs))\n",
    "\n",
    "def real_fn(X) :\n",
    "    return nd.dot(X, trueW) + trueb\n",
    "\n",
    "y_data = real_fn(X_data)\n",
    "noise = 0.01 * nd.random.normal(shape=y_data.shape)\n",
    "y_data += noise\n",
    "\n",
    "y_train = y_data[:num_train, :]\n",
    "y_test = y_data[num_train:, :]"
   ]
  },
  {
   "cell_type": "code",
   "execution_count": 3,
   "metadata": {
    "ExecuteTime": {
     "end_time": "2018-01-16T09:47:16.549047Z",
     "start_time": "2018-01-16T09:47:16.537273Z"
    }
   },
   "outputs": [
    {
     "name": "stdout",
     "output_type": "stream",
     "text": [
      "(20, 200)\n",
      "(20, 1)\n",
      "(100, 200)\n",
      "(100, 1)\n",
      "20\n",
      "100\n",
      "(200, 1)\n",
      "(1,)\n"
     ]
    }
   ],
   "source": [
    "print(X_train.shape)\n",
    "print(y_train.shape)\n",
    "print(X_test.shape)\n",
    "print(y_test.shape)\n",
    "print(len(X_train))\n",
    "print(len(X_test))\n",
    "print(trueW.shape)\n",
    "print(trueb.shape)"
   ]
  },
  {
   "cell_type": "code",
   "execution_count": 4,
   "metadata": {
    "ExecuteTime": {
     "end_time": "2018-01-16T09:47:16.582666Z",
     "start_time": "2018-01-16T09:47:16.555093Z"
    },
    "run_control": {
     "marked": false
    }
   },
   "outputs": [],
   "source": [
    "import random\n",
    "\n",
    "# 生成一个generator，每次产生batch_size个数据\n",
    "batch_size = 10\n",
    "\n",
    "def data_iter(X, Y, test=False):\n",
    "    num = len(X)\n",
    "    k = num // batch_size + (1 if num % batch_size else 0)\n",
    "    idx = list(range(num))\n",
    "    if test:\n",
    "        random.shuffle(idx)\n",
    "    for i in range(k):\n",
    "        j = nd.array(idx[i*batch_size:min((i+1)*batch_size, num)])\n",
    "        yield X.take(j), Y.take(j)\n",
    "        \n",
    "def data_iter(X, Y, test=False):\n",
    "    num = len(X)\n",
    "    idx = list(range(num))\n",
    "    if not test:\n",
    "        random.shuffle(idx)\n",
    "    for i in list(range(0, num, batch_size)):\n",
    "        j = nd.array(idx[i:min(i+batch_size, num)]) \n",
    "        yield X.take(j), Y.take(j)"
   ]
  },
  {
   "cell_type": "code",
   "execution_count": 5,
   "metadata": {
    "ExecuteTime": {
     "end_time": "2018-01-16T09:47:16.601138Z",
     "start_time": "2018-01-16T09:47:16.589646Z"
    }
   },
   "outputs": [],
   "source": [
    "# 随机初始化参数\n",
    "def L2_penalty(W, b):\n",
    "    print((W**2).sum())\n",
    "    print(b**2)\n",
    "    return ((W**2).sum() + b**2) / 2\n",
    "\n",
    "# 手写L2正则化\n",
    "def L2_penalty(params):\n",
    "    penalty = nd.zeros(shape=1)\n",
    "    for param in params:\n",
    "        penalty = penalty + nd.sum(param**2)\n",
    "    return penalty "
   ]
  },
  {
   "cell_type": "code",
   "execution_count": 6,
   "metadata": {
    "ExecuteTime": {
     "end_time": "2018-01-16T09:47:16.620483Z",
     "start_time": "2018-01-16T09:47:16.607451Z"
    }
   },
   "outputs": [
    {
     "data": {
      "text/plain": [
       "\n",
       "[ 1602.]\n",
       "<NDArray 1 @cpu(0)>"
      ]
     },
     "execution_count": 6,
     "metadata": {},
     "output_type": "execute_result"
    }
   ],
   "source": [
    "# test\n",
    "a = 2 * nd.ones(shape=(num_inputs, 2))\n",
    "c = nd.ones(shape=2)\n",
    "par = [a, c]\n",
    "L2_penalty(par)"
   ]
  },
  {
   "cell_type": "markdown",
   "metadata": {},
   "source": [
    "# (TODO@ANG)手写的数据迭代器不对"
   ]
  },
  {
   "cell_type": "code",
   "execution_count": 7,
   "metadata": {
    "ExecuteTime": {
     "end_time": "2018-01-16T09:47:16.633242Z",
     "start_time": "2018-01-16T09:47:16.626242Z"
    },
    "run_control": {
     "marked": false
    }
   },
   "outputs": [],
   "source": [
    "train_data = data_iter(X_train, y_train)\n",
    "test_data = data_iter(X_test, y_test)\n",
    "train_data_2 = gluon.data.DataLoader(gluon.data.ArrayDataset(X_train, y_train), \n",
    "                                        batch_size=batch_size, shuffle=True)\n",
    "test_data_2 = gluon.data.DataLoader(gluon.data.ArrayDataset(X_test, y_test),\n",
    "                                      batch_size=batch_size, shuffle=False)"
   ]
  },
  {
   "cell_type": "code",
   "execution_count": 8,
   "metadata": {
    "ExecuteTime": {
     "end_time": "2018-01-16T09:47:16.728370Z",
     "start_time": "2018-01-16T09:47:16.639376Z"
    }
   },
   "outputs": [],
   "source": [
    "def square_loss(yhat, y):\n",
    "    return (yhat - y.reshape(yhat.shape))**2 / 2\n",
    "\n",
    "def SGD(params, learning_rate, batch_size):\n",
    "    for param in params:\n",
    "        param[:] = param - learning_rate * param.grad / batch_size   \n",
    "        \n",
    "def evaluate_loss(net, params, X, y):\n",
    "    return square_loss(net(X, *params), y).mean().asscalar()\n",
    "\n",
    "# 定义网络 \n",
    "def net(X, W, b):\n",
    "    return nd.dot(X, W) + b\n",
    "\n",
    "def train(lambd=None, epochs=None):\n",
    "    # 随机初始化参数\n",
    "    W = nd.random.normal(shape=(num_inputs, num_outputs))\n",
    "    b = nd.random.normal(shape=(num_outputs))\n",
    "    params = [W, b]\n",
    "    for param in params:\n",
    "        param.attach_grad()\n",
    " \n",
    "    train_loss = []\n",
    "    test_loss = []\n",
    "    learning_rate = 0.005\n",
    "    for epoch in range(epochs):\n",
    "        for data, label in train_data_2:\n",
    "            with autograd.record():\n",
    "                output = net(data, *params)\n",
    "                loss = square_loss(output, label) + lambd * L2_penalty(params)\n",
    "            loss.backward()\n",
    "            SGD(params, learning_rate, batch_size)\n",
    "\n",
    "        train_loss.append(evaluate_loss(net, params, X_train, y_train))\n",
    "        test_loss.append(evaluate_loss(net, params, X_test, y_test))\n",
    "  \n",
    "    plt.plot(list(range(len(train_loss))), train_loss, color=\"r\")\n",
    "    plt.plot(list(range(len(test_loss))), test_loss, color=\"b\")\n",
    "    plt.legend(['train_loss', 'test_loss'])\n",
    "    plt.grid(True, which=\"both\")\n",
    "    plt.show()\n",
    "    \n",
    "    print(\"W[:10]: %s, \\n b: %s\" % (W[:10,:].T, b))"
   ]
  },
  {
   "cell_type": "code",
   "execution_count": 9,
   "metadata": {
    "ExecuteTime": {
     "end_time": "2018-01-16T09:47:16.953495Z",
     "start_time": "2018-01-16T09:47:16.735563Z"
    }
   },
   "outputs": [
    {
     "data": {
      "image/png": "[encoded data removed]",
      "text/plain": [
       "<matplotlib.figure.Figure at 0x7f4eb0625eb8>"
      ]
     },
     "metadata": {},
     "output_type": "display_data"
    },
    {
     "name": "stdout",
     "output_type": "stream",
     "text": [
      "W[:10]: \n",
      "[[ 0.4785606   0.67208117  0.74099451  0.30262372  0.65104461  0.83750135\n",
      "  -0.26569116 -1.71079266 -0.97738087  0.47778863]]\n",
      "<NDArray 1x10 @cpu(0)>, \n",
      " b: \n",
      "[ 0.76702577]\n",
      "<NDArray 1 @cpu(0)>\n"
     ]
    }
   ],
   "source": [
    "train(0, 10)"
   ]
  },
  {
   "cell_type": "code",
   "execution_count": 10,
   "metadata": {
    "ExecuteTime": {
     "end_time": "2018-01-16T09:47:17.157171Z",
     "start_time": "2018-01-16T09:47:16.958529Z"
    }
   },
   "outputs": [
    {
     "data": {
      "image/png": "[encoded data removed]",
      "text/plain": [
       "<matplotlib.figure.Figure at 0x7f4eb3adca90>"
      ]
     },
     "metadata": {},
     "output_type": "display_data"
    },
    {
     "name": "stdout",
     "output_type": "stream",
     "text": [
      "W[:10]: \n",
      "[[-0.0778129   0.01041243  0.12523915  0.21283467 -0.07677694 -0.09101445\n",
      "  -0.16500613  0.18954991 -0.05122032  0.83992302]]\n",
      "<NDArray 1x10 @cpu(0)>, \n",
      " b: \n",
      "[-0.2062564]\n",
      "<NDArray 1 @cpu(0)>\n"
     ]
    }
   ],
   "source": [
    "train(5, 10)   "
   ]
  }
 ],
 "metadata": {
  "kernelspec": {
   "display_name": "Python 3",
   "language": "python",
   "name": "python3"
  },
  "language_info": {
   "codemirror_mode": {
    "name": "ipython",
    "version": 3
   },
   "file_extension": ".py",
   "mimetype": "text/x-python",
   "name": "python",
   "nbconvert_exporter": "python",
   "pygments_lexer": "ipython3",
   "version": "3.5.2"
  },
  "latex_envs": {
   "LaTeX_envs_menu_present": true,
   "autocomplete": true,
   "bibliofile": "biblio.bib",
   "cite_by": "apalike",
   "current_citInitial": 1,
   "eqLabelWithNumbers": true,
   "eqNumInitial": 1,
   "hotkeys": {
    "equation": "Ctrl-E",
    "itemize": "Ctrl-I"
   },
   "labels_anchors": false,
   "latex_user_defs": false,
   "report_style_numbering": false,
   "user_envs_cfg": false
  }
 },
 "nbformat": 4,
 "nbformat_minor": 2
}
