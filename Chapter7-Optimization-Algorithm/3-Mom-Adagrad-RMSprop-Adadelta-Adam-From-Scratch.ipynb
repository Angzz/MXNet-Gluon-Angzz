{
 "cells": [
  {
   "cell_type": "markdown",
   "metadata": {},
   "source": [
    "# 从0开始优化算法\n",
    "\n",
    "* ### **Momentum**\n",
    "\n",
    "\\begin{align*}\n",
    "\\mathbf{v} &:= \\gamma \\mathbf{v} + \\eta \\nabla f_\\mathcal{B}(\\mathbf{x}),\\\\\n",
    "\\mathbf{x} &:= \\mathbf{x} - \\mathbf{v}\n",
    "\\end{align*}\n",
    "\n",
    "* ### **Adagrad**\n",
    "\n",
    "\\begin{align*}\n",
    "\\mathbf{s} &:= \\mathbf{s} + \\mathbf{g} \\odot \\mathbf{g}, \\\\\n",
    "\\mathbf{g}^\\prime &:= \\frac{\\eta}{\\sqrt{\\mathbf{s} + \\epsilon}} \\odot \\mathbf{g}, \\\\\n",
    "\\mathbf{x} &:= \\mathbf{x} - \\mathbf{g}^\\prime\n",
    "\\end{align*}\n",
    "\n",
    "* ### **RMSprop**\n",
    "\n",
    "\\begin{align*}\n",
    "\\mathbf{s} &:= \\gamma \\mathbf{s} + (1 - \\gamma) \\mathbf{g} \\odot \\mathbf{g},\\\\\n",
    "\\mathbf{g}^\\prime &:= \\frac{\\eta}{\\sqrt{\\mathbf{s} + \\epsilon}} \\odot \\mathbf{g},\\\\\n",
    "\\mathbf{x} &:= \\mathbf{x} - \\mathbf{g}^\\prime\n",
    "\\end{align*}\n",
    "\n",
    "* ### **Adadelta**\n",
    "\n",
    "\\begin{align*}\n",
    "\\mathbf{s} &:= \\rho \\mathbf{s} + (1 - \\rho) \\mathbf{g} \\odot \\mathbf{g},\\\\\n",
    "\\mathbf{g}^\\prime &= \\frac{\\sqrt{\\Delta\\mathbf{x} + \\epsilon}}{\\sqrt{\\mathbf{s} + \\epsilon}}   \\odot \\mathbf{g},\\\\\n",
    "\\Delta\\mathbf{x} &:= \\rho \\Delta\\mathbf{x} + (1 - \\rho) \\mathbf{g}^\\prime \\odot \\mathbf{g}^\\prime,\\\\\n",
    "\\mathbf{x} &:= \\mathbf{x} - \\mathbf{g}^\\prime\n",
    "\\end{align*}\n",
    "\n",
    "* ### **Adam**\n",
    "\n",
    "\\begin{align*}\n",
    "t &:= t + 1,\\\\\n",
    "\\mathbf{v} &:= \\beta_1 \\mathbf{v} + (1 - \\beta_1) \\mathbf{g},\\\\\n",
    "\\mathbf{s} &:= \\beta_2 \\mathbf{s} + (1 - \\beta_2) \\mathbf{g} \\odot \\mathbf{g},\\\\\n",
    "\\hat{\\mathbf{v}} &:= \\frac{\\mathbf{v}}{1 - \\beta_1^t},\\\\\n",
    "\\hat{\\mathbf{s}} &:= \\frac{\\mathbf{s}}{1 - \\beta_2^t},\\\\\n",
    "\\mathbf{g}^\\prime &:= \\frac{\\eta \\hat{\\mathbf{v}}}{\\sqrt{\\hat{\\mathbf{s}} + \\epsilon}},\\\\\n",
    "\\mathbf{x} &:= \\mathbf{x} - \\mathbf{g}^\\prime\n",
    "\\end{align*}\n",
    "\n",
    "* ### **Nesterov accelerated gradient(NAG)**\n",
    "\n",
    "\\begin{align*}\n",
    "\\mathbf{v} &:= \\gamma \\mathbf{v} + \\eta \\nabla f_\\mathcal{B}(\\mathbf{x - \\gamma \\mathbf{v}}),\\\\\n",
    "\\mathbf{x} &:= \\mathbf{x} - \\mathbf{v}\n",
    "\\end{align*}\n",
    "\n",
    "* ### **AdaMax**\n",
    "\n",
    "* ### **Nadam(Nesterov-accelerated Adaptive Moment Estimation)**\n",
    "\n",
    "## 算法可视化\n",
    "\n",
    "### 1.Long Valley\n",
    "<img src=\"https://i.imgur.com/2dKCQHh.gif?1\" width=\"500\">\n",
    "\n",
    "### 2.Beale's function\n",
    "<img src=\"https://i.imgur.com/pD0hWu5.gif?1\" width=\"500\">\n",
    "\n",
    "### 3.Saddle Point\n",
    "<img src=\"https://i.imgur.com/NKsFHJb.gif?1\" width=\"500\">"
   ]
  },
  {
   "cell_type": "code",
   "execution_count": 1,
   "metadata": {
    "ExecuteTime": {
     "end_time": "2018-01-28T05:08:51.556749Z",
     "start_time": "2018-01-28T05:08:50.677078Z"
    }
   },
   "outputs": [],
   "source": [
    "import mxnet as mx\n",
    "import numpy as np\n",
    "import random\n",
    "\n",
    "from mxnet import nd\n",
    "from mxnet import gluon\n",
    "from mxnet import autograd\n",
    "\n",
    "%matplotlib inline\n",
    "import matplotlib as mlt\n",
    "import matplotlib.pyplot as plt\n",
    "mlt.rcParams['figure.dpi'] = 120\n",
    "\n",
    "ctx = mx.cpu()\n",
    "\n",
    "mx.random.seed(1)\n",
    "random.seed(1) "
   ]
  },
  {
   "cell_type": "markdown",
   "metadata": {},
   "source": [
    "## 优化算法"
   ]
  },
  {
   "cell_type": "code",
   "execution_count": 2,
   "metadata": {
    "ExecuteTime": {
     "end_time": "2018-01-28T05:08:51.678970Z",
     "start_time": "2018-01-28T05:08:51.562537Z"
    }
   },
   "outputs": [],
   "source": [
    "# 1.Momentum\n",
    "def sgd_momentum(params, vs, lr, mom, batch_size):\n",
    "    for param, v in zip(params, vs):\n",
    "        v[:] = mom * v + lr * param.grad / batch_size\n",
    "        param[:] = param - v\n",
    "        \n",
    "# 2.Adagrad\n",
    "def adagrad(params, sq, lr, batch_size, eps=1e-6):\n",
    "    for param, s in zip(params, sq):\n",
    "        s[:] = s + nd.square(param.grad / batch_size)\n",
    "        gg = lr / nd.sqrt(s + eps) * param.grad\n",
    "        param[:] = param - gg\n",
    "\n",
    "# 3.rmsprop\n",
    "def rmsprop(params, sq, lr, mom, batch_size, eps=1e-6):\n",
    "    for param, s in zip(params, sq):\n",
    "        s[:] = mom * s + (1 - mom) * nd.square(param.grad / batch_size)\n",
    "        gg = lr / nd.sqrt(s + eps) * param.grad\n",
    "        param[:] = param - gg\n",
    "    \n",
    "# 4.adadelta\n",
    "def adadelta(params, sq, deltax, rhu, batch_size, eps=1e-6):\n",
    "    for param, s, dx in zip(params, sq, deltax):\n",
    "        s[:] = rhu * s + (1 - rhu) * nd.square(param.grad / batch_size)\n",
    "        gg = nd.sqrt(dx + eps) / nd.sqrt(s + eps) * param.grad\n",
    "        dx[:] = rhu * dx + (1 - rhu) * nd.square(gg * gg)\n",
    "        param[:] = param - gg\n",
    "\n",
    "# Adam\n",
    "def adam(params, vs, sq, beta1, beta2, lr, batch_size, eps=1e-8):\n",
    "    t = 1\n",
    "    for param, v, s in zip(params, vs, sq):\n",
    "        v[:] = beta1 * v + (1-beta1) * param.grad / batch_size\n",
    "        s[:] = beta2 * s + (1-beta2) * nd.square(param.grad / batch_size)\n",
    "        v_prime = v / (1 - beta1**t)\n",
    "        s_prime = s / (1 - beta2**t)\n",
    "        gg = lr * v_prime / nd.sqrt(s_prime + eps)\n",
    "        param[:] = param - gg\n",
    "        t+=1\n",
    "\n",
    "# Nesterov\n",
    "def nesterov(params, vs, lr, lambd, batch_size):\n",
    "    for param, v in zip(params, vs):\n",
    "        param[:] = param - lambd * v\n",
    "        v[:] = lambd * v + lr * param.grad / batch_size\n",
    "        param[:] = param - v"
   ]
  },
  {
   "cell_type": "markdown",
   "metadata": {},
   "source": [
    "\\begin{align*}\n",
    "\\mathbf{v} &:= \\gamma \\mathbf{v} + \\eta \\nabla f_\\mathcal{B}(\\mathbf{x - \\gamma \\mathbf{v}}),\\\\\n",
    "\\mathbf{x} &:= \\mathbf{x} - \\mathbf{v}\n",
    "\\end{align*}"
   ]
  },
  {
   "cell_type": "code",
   "execution_count": 3,
   "metadata": {
    "ExecuteTime": {
     "end_time": "2018-01-28T05:08:51.757235Z",
     "start_time": "2018-01-28T05:08:51.684793Z"
    },
    "run_control": {
     "marked": false
    }
   },
   "outputs": [],
   "source": [
    "true_w = [2.0, -3.4]\n",
    "true_b = 4.2\n",
    "\n",
    "num_examples = 1000\n",
    "num_inputs = 2\n",
    "num_outputs = 1\n",
    "\n",
    "X = nd.random.normal(shape=(num_examples, num_inputs))\n",
    "y = true_w[0] * X[:, 0] + true_w[1] * X[:, 1] + true_b\n",
    "y += .01 * nd.random.normal(shape=(num_examples))"
   ]
  },
  {
   "cell_type": "code",
   "execution_count": 4,
   "metadata": {
    "ExecuteTime": {
     "end_time": "2018-01-28T05:08:52.041493Z",
     "start_time": "2018-01-28T05:08:51.764288Z"
    }
   },
   "outputs": [],
   "source": [
    "# 1.momentum\n",
    "def init_params_mom():\n",
    "    W = nd.random.normal(shape=(num_inputs, num_outputs))\n",
    "    b = nd.random.normal(shape=num_outputs) \n",
    "    params = [W, b]\n",
    "    # 动量\n",
    "    vs = []\n",
    "    for param in params:\n",
    "        param.attach_grad()\n",
    "        vs.append(param.zeros_like())\n",
    "    return params, vs\n",
    "\n",
    "# 2.adagrad\n",
    "def init_params_adagrad():\n",
    "    W = nd.random.normal(shape=(num_inputs, num_outputs))\n",
    "    b = nd.random.normal(shape=num_outputs) \n",
    "    params = [W, b]\n",
    "    # 动量\n",
    "    sq = []\n",
    "    for param in params:\n",
    "        param.attach_grad()\n",
    "        sq.append(param.zeros_like())\n",
    "    return params, sq\n",
    "\n",
    "# 3.rmsprop\n",
    "def init_params_rmsprop():\n",
    "    W = nd.random.normal(shape=(num_inputs, num_outputs))\n",
    "    b = nd.random.normal(shape=num_outputs) \n",
    "    params = [W, b]\n",
    "    # 动量\n",
    "    sq = []\n",
    "    for param in params:\n",
    "        param.attach_grad()\n",
    "        sq.append(param.zeros_like())\n",
    "    return params, sq\n",
    "\n",
    "# 4.adadelta\n",
    "def init_params_adadelta():\n",
    "    W = nd.random.normal(shape=(num_inputs, num_outputs))\n",
    "    b = nd.random.normal(shape=num_outputs)\n",
    "    params = [W, b]\n",
    "    sq = []\n",
    "    deltax = []\n",
    "    for param in params:\n",
    "        param.attach_grad()\n",
    "        sq.append(param.zeros_like())\n",
    "        deltax.append(param.zeros_like())\n",
    "    return params, sq, deltax\n",
    "\n",
    "# 5.adam\n",
    "def init_params_adam():\n",
    "    W = nd.random.normal(shape=(num_inputs, num_outputs))\n",
    "    b = nd.random.normal(shape=num_outputs)\n",
    "    params = [W, b]\n",
    "    vs = []\n",
    "    sq = []\n",
    "    for param in params:\n",
    "        param.attach_grad()\n",
    "        vs.append(param.zeros_like())\n",
    "        sq.append(param.zeros_like())\n",
    "    return params, vs, sq\n",
    "\n",
    "# 6.nesterov\n",
    "def init_params_nestrov():\n",
    "    W = nd.random.normal(shape=(num_inputs, num_outputs))\n",
    "    b = nd.random.normal(shape=num_outputs)\n",
    "    params = [W, b]\n",
    "    vs = []\n",
    "    for param in params:\n",
    "        param.attach_grad()\n",
    "        vs.append(param.zeros_like())\n",
    "    return params, vs\n",
    "\n",
    "def data_iter(batch_size):\n",
    "    idx = list(range(X.shape[0]))\n",
    "    random.shuffle(idx)\n",
    "    for i in range(0, len(idx), batch_size):\n",
    "        j = nd.array(idx[i:min(i+batch_size, num_examples)])\n",
    "        yield i, X.take(j), y.take(j)\n",
    "    \n",
    "def square_loss(yhat, y):\n",
    "    return (yhat - y.reshape(yhat.shape))**2 / 2\n",
    "\n",
    "def net(X, W, b):\n",
    "    return nd.dot(X, W) + b"
   ]
  },
  {
   "cell_type": "code",
   "execution_count": 5,
   "metadata": {
    "ExecuteTime": {
     "end_time": "2018-01-28T05:08:52.099872Z",
     "start_time": "2018-01-28T05:08:52.048812Z"
    }
   },
   "outputs": [],
   "source": [
    "def train_mom(batch_size, lr, epochs, period, mom=0.9):\n",
    "    assert period >= batch_size and period % batch_size == 0\n",
    "    \n",
    "    [W, b], vs = init_params_mom()\n",
    "    total_loss = [nd.mean(square_loss(net(X, W, b), y)).asnumpy()]\n",
    "    for epoch in range(epochs):\n",
    "        if epoch > 2:\n",
    "            lr *= 0.1\n",
    "        for batch_i, data, label in data_iter(batch_size):\n",
    "            with autograd.record():\n",
    "                output = net(data, W, b)\n",
    "                loss = square_loss(output, label)\n",
    "            loss.backward()\n",
    "            sgd_momentum([W, b], vs, lr, mom, batch_size)\n",
    "            \n",
    "            if not batch_i * batch_size % period:\n",
    "                total_loss.append(nd.mean(square_loss(net(X, W, b), y)).asnumpy())\n",
    "                           \n",
    "        print(\"Epoch %d, lr : %s, Train Loss %.5f.\" % (epoch, lr, total_loss[-1]))\n",
    "    print(\"W : %s, b : %s\" % (W.reshape((2,)).asnumpy(), b.asnumpy()))\n",
    "    \n",
    "    Xlabel = np.linspace(0, epochs, len(total_loss), endpoint=True)\n",
    "    plt.semilogy(Xlabel, total_loss, color=\"g\")\n",
    "    plt.grid(True, which=\"both\")\n",
    "    plt.show()"
   ]
  },
  {
   "cell_type": "code",
   "execution_count": 6,
   "metadata": {
    "ExecuteTime": {
     "end_time": "2018-01-28T05:08:53.340636Z",
     "start_time": "2018-01-28T05:08:52.106240Z"
    }
   },
   "outputs": [
    {
     "name": "stdout",
     "output_type": "stream",
     "text": [
      "Epoch 0, lr : 0.1, Train Loss 0.00015.\n",
      "Epoch 1, lr : 0.1, Train Loss 0.00005.\n",
      "Epoch 2, lr : 0.1, Train Loss 0.00006.\n",
      "W : [ 1.99986112 -3.40122652], b : [ 4.19654369]\n"
     ]
    },
    {
     "data": {
      "image/png": "[encoded data removed]",
      "text/plain": [
       "<matplotlib.figure.Figure at 0x7f534f2aaeb8>"
      ]
     },
     "metadata": {},
     "output_type": "display_data"
    }
   ],
   "source": [
    "train_mom(batch_size=10, lr=0.1, epochs=3, period=10, mom=0.9)"
   ]
  },
  {
   "cell_type": "code",
   "execution_count": 7,
   "metadata": {
    "ExecuteTime": {
     "end_time": "2018-01-28T05:08:53.388815Z",
     "start_time": "2018-01-28T05:08:53.346514Z"
    }
   },
   "outputs": [],
   "source": [
    "def train_adagrad(batch_size, lr, epochs, period):\n",
    "    assert period >= batch_size and period % batch_size == 0\n",
    "    \n",
    "    [W, b], sq = init_params_adagrad()\n",
    "    total_loss = [nd.mean(square_loss(net(X, W, b), y)).asnumpy()]\n",
    "    for epoch in range(epochs):\n",
    "        if epoch > 2:\n",
    "            lr *= 0.1\n",
    "        for batch_i, data, label in data_iter(batch_size):\n",
    "            with autograd.record():\n",
    "                output = net(data, W, b)\n",
    "                loss = square_loss(output, label)\n",
    "            loss.backward()\n",
    "            adagrad([W, b], sq, lr, batch_size)\n",
    "            \n",
    "            if not batch_i * batch_size % period:\n",
    "                total_loss.append(nd.mean(square_loss(net(X, W, b), y)).asnumpy())\n",
    "                           \n",
    "        print(\"Epoch %d, lr : %s, Train Loss %.5f.\" % (epoch, lr, total_loss[-1]))\n",
    "    print(\"W : %s, b : %s\" % (W.reshape((2,)).asnumpy(), b.asnumpy()))\n",
    "    \n",
    "    Xlabel = np.linspace(0, epochs, len(total_loss), endpoint=True)\n",
    "    plt.semilogy(Xlabel, total_loss, color=\"g\")\n",
    "    plt.grid(True, which=\"both\")\n",
    "    plt.show()"
   ]
  },
  {
   "cell_type": "code",
   "execution_count": 8,
   "metadata": {
    "ExecuteTime": {
     "end_time": "2018-01-28T05:08:54.525018Z",
     "start_time": "2018-01-28T05:08:53.395737Z"
    },
    "scrolled": true
   },
   "outputs": [
    {
     "name": "stdout",
     "output_type": "stream",
     "text": [
      "Epoch 0, lr : 0.1, Train Loss 0.00005.\n",
      "Epoch 1, lr : 0.1, Train Loss 0.00005.\n",
      "Epoch 2, lr : 0.1, Train Loss 0.00005.\n",
      "W : [ 2.00108695 -3.40031028], b : [ 4.19919634]\n"
     ]
    },
    {
     "data": {
      "image/png": "[encoded data removed]",
      "text/plain": [
       "<matplotlib.figure.Figure at 0x7f534c5d5668>"
      ]
     },
     "metadata": {},
     "output_type": "display_data"
    }
   ],
   "source": [
    "train_adagrad(batch_size=10, lr=0.1, epochs=3, period=10)"
   ]
  },
  {
   "cell_type": "code",
   "execution_count": 9,
   "metadata": {
    "ExecuteTime": {
     "end_time": "2018-01-28T05:08:54.573493Z",
     "start_time": "2018-01-28T05:08:54.530900Z"
    }
   },
   "outputs": [],
   "source": [
    "def train_rmsprop(batch_size, lr, epochs, period, mom=0.9):\n",
    "    assert period >= batch_size and period % batch_size == 0\n",
    "    \n",
    "    [W, b], sq = init_params_adagrad()\n",
    "    total_loss = [nd.mean(square_loss(net(X, W, b), y)).asnumpy()]\n",
    "    for epoch in range(epochs):\n",
    "        if epoch > 2:\n",
    "            lr *= 0.1\n",
    "        for batch_i, data, label in data_iter(batch_size):\n",
    "            with autograd.record():\n",
    "                output = net(data, W, b)\n",
    "                loss = square_loss(output, label)\n",
    "            loss.backward()\n",
    "            rmsprop([W, b], sq, lr, mom, batch_size)\n",
    "            \n",
    "            if not batch_i * batch_size % period:\n",
    "                total_loss.append(nd.mean(square_loss(net(X, W, b), y)).asnumpy())\n",
    "                           \n",
    "        print(\"Epoch %d, lr : %s, Train Loss %.5f.\" % (epoch, lr, total_loss[-1]))\n",
    "    print(\"W : %s, b : %s\" % (W.reshape((2,)).asnumpy(), b.asnumpy()))\n",
    "    \n",
    "    Xlabel = np.linspace(0, epochs, len(total_loss), endpoint=True)\n",
    "    plt.semilogy(Xlabel, total_loss, color=\"g\")\n",
    "    plt.grid(True, which=\"both\")\n",
    "    plt.show()"
   ]
  },
  {
   "cell_type": "code",
   "execution_count": 24,
   "metadata": {
    "ExecuteTime": {
     "end_time": "2018-01-28T05:09:55.913568Z",
     "start_time": "2018-01-28T05:09:54.662894Z"
    }
   },
   "outputs": [
    {
     "name": "stdout",
     "output_type": "stream",
     "text": [
      "Epoch 0, lr : 0.02, Train Loss 0.00005.\n",
      "Epoch 1, lr : 0.02, Train Loss 0.00157.\n",
      "Epoch 2, lr : 0.02, Train Loss 0.00052.\n",
      "W : [ 2.00606918 -3.3850317 ], b : [ 4.22572231]\n"
     ]
    },
    {
     "data": {
      "image/png": "[encoded data removed]",
      "text/plain": [
       "<matplotlib.figure.Figure at 0x7f534c31f4a8>"
      ]
     },
     "metadata": {},
     "output_type": "display_data"
    }
   ],
   "source": [
    "train_rmsprop(batch_size=10, lr=0.02, epochs=3, period=10, mom=0.98)"
   ]
  },
  {
   "cell_type": "code",
   "execution_count": 11,
   "metadata": {
    "ExecuteTime": {
     "end_time": "2018-01-28T05:08:55.909688Z",
     "start_time": "2018-01-28T05:08:55.795872Z"
    }
   },
   "outputs": [],
   "source": [
    "def train_adadelta(batch_size, epochs, period, rho=0.9):\n",
    "    assert period >= batch_size and period % batch_size == 0\n",
    "    \n",
    "    [W, b], sq, deltax = init_params_adadelta()\n",
    "    total_loss = [nd.mean(square_loss(net(X, W, b), y)).asnumpy()]\n",
    "    for epoch in range(epochs):\n",
    "        for batch_i, data, label in data_iter(batch_size):\n",
    "            with autograd.record():\n",
    "                output = net(data, W, b)\n",
    "                loss = square_loss(output, label)\n",
    "            loss.backward()   \n",
    "            adadelta([W, b], sq, deltax, rho, batch_size)\n",
    "            \n",
    "            if not batch_i * batch_size % period:\n",
    "                total_loss.append(nd.mean(square_loss(net(X, W, b), y)).asnumpy())\n",
    "                           \n",
    "        print(\"Epoch %d, Train Loss %.5f.\" % (epoch, total_loss[-1]))\n",
    "    print(\"W : %s, b : %s\" % (W.reshape((2,)).asnumpy(), b.asnumpy()))\n",
    "    \n",
    "    Xlabel = np.linspace(0, epochs, len(total_loss), endpoint=True)\n",
    "    plt.semilogy(Xlabel, total_loss, color=\"g\")\n",
    "    plt.grid(True, which=\"both\")\n",
    "    plt.show()"
   ]
  },
  {
   "cell_type": "code",
   "execution_count": 31,
   "metadata": {
    "ExecuteTime": {
     "end_time": "2018-01-28T05:11:21.752887Z",
     "start_time": "2018-01-28T05:11:20.055393Z"
    }
   },
   "outputs": [
    {
     "name": "stdout",
     "output_type": "stream",
     "text": [
      "Epoch 0, Train Loss 0.00214.\n",
      "Epoch 1, Train Loss 0.00005.\n",
      "Epoch 2, Train Loss 0.00005.\n",
      "W : [ 2.00067925 -3.39983249], b : [ 4.19982529]\n"
     ]
    },
    {
     "data": {
      "image/png": "[encoded data removed]",
      "text/plain": [
       "<matplotlib.figure.Figure at 0x7f534c46fc88>"
      ]
     },
     "metadata": {},
     "output_type": "display_data"
    }
   ],
   "source": [
    "train_adadelta(batch_size=10, epochs=3, period=10, rho=0.99)"
   ]
  },
  {
   "cell_type": "code",
   "execution_count": 13,
   "metadata": {
    "ExecuteTime": {
     "end_time": "2018-01-28T05:08:57.219962Z",
     "start_time": "2018-01-28T05:08:57.179827Z"
    }
   },
   "outputs": [],
   "source": [
    "def train_adam(batch_size, epochs, period, lr, beta1, beta2):\n",
    "    assert period >= batch_size and period % batch_size == 0\n",
    "    \n",
    "    [W, b], vs, sq = init_params_adam()\n",
    "    total_loss = [nd.mean(square_loss(net(X, W, b), y)).asnumpy()]\n",
    "    for epoch in range(epochs):\n",
    "        for batch_i, data, label in data_iter(batch_size):\n",
    "            with autograd.record():\n",
    "                output = net(data, W, b)\n",
    "                loss = square_loss(output, label)\n",
    "            loss.backward()   \n",
    "            adam([W, b], vs, sq, beta1, beta2, lr, batch_size)\n",
    "            \n",
    "            if not batch_i * batch_size % period:\n",
    "                total_loss.append(nd.mean(square_loss(net(X, W, b), y)).asnumpy())\n",
    "                           \n",
    "        print(\"Epoch %d, lr %s, Train Loss %.5f.\" % (epoch, lr, total_loss[-1]))\n",
    "    print(\"W : %s, b : %s\" % (W.reshape((2,)).asnumpy(), b.asnumpy()))\n",
    "    \n",
    "    Xlabel = np.linspace(0, epochs, len(total_loss), endpoint=True)\n",
    "    plt.semilogy(Xlabel, total_loss, color=\"g\")\n",
    "    plt.grid(True, which=\"both\")\n",
    "    plt.show()"
   ]
  },
  {
   "cell_type": "code",
   "execution_count": 14,
   "metadata": {
    "ExecuteTime": {
     "end_time": "2018-01-28T05:08:58.680009Z",
     "start_time": "2018-01-28T05:08:57.225727Z"
    },
    "scrolled": true
   },
   "outputs": [
    {
     "name": "stdout",
     "output_type": "stream",
     "text": [
      "Epoch 0, lr 0.1, Train Loss 0.00035.\n",
      "Epoch 1, lr 0.1, Train Loss 0.00005.\n",
      "Epoch 2, lr 0.1, Train Loss 0.00005.\n",
      "W : [ 2.00034428 -3.39987326], b : [ 4.19990492]\n"
     ]
    },
    {
     "data": {
      "image/png": "[encoded data removed]",
      "text/plain": [
       "<matplotlib.figure.Figure at 0x7f534c4976a0>"
      ]
     },
     "metadata": {},
     "output_type": "display_data"
    }
   ],
   "source": [
    "train_adam(batch_size=10, epochs=3, period=10, lr=0.1, beta1=0.9, beta2=0.999)"
   ]
  },
  {
   "cell_type": "code",
   "execution_count": 15,
   "metadata": {
    "ExecuteTime": {
     "end_time": "2018-01-28T05:08:58.728552Z",
     "start_time": "2018-01-28T05:08:58.685735Z"
    }
   },
   "outputs": [],
   "source": [
    "def train_nesterov(batch_size, lr, epochs, period, lambd=0.9):\n",
    "    assert period >= batch_size and period % batch_size == 0\n",
    "    \n",
    "    [W, b], vs = init_params_nestrov()\n",
    "    total_loss = [nd.mean(square_loss(net(X, W, b), y)).asnumpy()]\n",
    "    for epoch in range(epochs):\n",
    "        if epoch > 2:\n",
    "            lr *= 0.1\n",
    "        for batch_i, data, label in data_iter(batch_size):\n",
    "            with autograd.record():\n",
    "                output = net(data, W, b)\n",
    "                loss = square_loss(output, label)\n",
    "            loss.backward()\n",
    "            nesterov([W, b], vs, lr, lambd, batch_size)\n",
    "            \n",
    "            if not batch_i * batch_size % period:\n",
    "                total_loss.append(nd.mean(square_loss(net(X, W, b), y)).asnumpy())\n",
    "                           \n",
    "        print(\"Epoch %d, lr : %s, Train Loss %.5f.\" % (epoch, lr, total_loss[-1]))\n",
    "    print(\"W : %s, b : %s\" % (W.reshape((2,)).asnumpy(), b.asnumpy()))\n",
    "    \n",
    "    Xlabel = np.linspace(0, epochs, len(total_loss), endpoint=True)\n",
    "    plt.semilogy(Xlabel, total_loss, color=\"g\")\n",
    "    plt.grid(True, which=\"both\")\n",
    "    plt.show()"
   ]
  },
  {
   "cell_type": "code",
   "execution_count": 16,
   "metadata": {
    "ExecuteTime": {
     "end_time": "2018-01-28T05:08:59.940080Z",
     "start_time": "2018-01-28T05:08:58.734417Z"
    },
    "scrolled": true
   },
   "outputs": [
    {
     "name": "stdout",
     "output_type": "stream",
     "text": [
      "Epoch 0, lr : 0.01, Train Loss 0.00123.\n",
      "Epoch 1, lr : 0.01, Train Loss 0.00005.\n",
      "Epoch 2, lr : 0.01, Train Loss 0.00005.\n",
      "W : [ 2.00004935 -3.40145946], b : [ 4.19971514]\n"
     ]
    },
    {
     "data": {
      "image/png": "[encoded data removed]",
      "text/plain": [
       "<matplotlib.figure.Figure at 0x7f534c630048>"
      ]
     },
     "metadata": {},
     "output_type": "display_data"
    }
   ],
   "source": [
    "train_nesterov(batch_size=10, lr=0.01, epochs=3, period=10, lambd=0.9)"
   ]
  }
 ],
 "metadata": {
  "kernelspec": {
   "display_name": "Python 3",
   "language": "python",
   "name": "python3"
  },
  "language_info": {
   "codemirror_mode": {
    "name": "ipython",
    "version": 3
   },
   "file_extension": ".py",
   "mimetype": "text/x-python",
   "name": "python",
   "nbconvert_exporter": "python",
   "pygments_lexer": "ipython3",
   "version": "3.5.2"
  },
  "latex_envs": {
   "LaTeX_envs_menu_present": true,
   "autocomplete": true,
   "bibliofile": "biblio.bib",
   "cite_by": "apalike",
   "current_citInitial": 1,
   "eqLabelWithNumbers": true,
   "eqNumInitial": 1,
   "hotkeys": {
    "equation": "Ctrl-E",
    "itemize": "Ctrl-I"
   },
   "labels_anchors": false,
   "latex_user_defs": false,
   "report_style_numbering": false,
   "user_envs_cfg": false
  }
 },
 "nbformat": 4,
 "nbformat_minor": 2
}
