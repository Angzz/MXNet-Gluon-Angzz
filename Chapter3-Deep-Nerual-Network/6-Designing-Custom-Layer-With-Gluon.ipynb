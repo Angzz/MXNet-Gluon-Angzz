{
 "cells": [
  {
   "cell_type": "markdown",
   "metadata": {},
   "source": [
    "# Designing Custom Layer With Gluon"
   ]
  },
  {
   "cell_type": "code",
   "execution_count": 1,
   "metadata": {
    "ExecuteTime": {
     "end_time": "2018-01-19T08:21:35.498426Z",
     "start_time": "2018-01-19T08:21:34.728093Z"
    }
   },
   "outputs": [],
   "source": [
    "import mxnet as mx\n",
    "import utils\n",
    "\n",
    "from mxnet import nd\n",
    "from mxnet import gluon\n",
    "from mxnet import autograd\n",
    "mx.random.seed(1)\n",
    "\n",
    "ctx = mx.cpu()"
   ]
  },
  {
   "cell_type": "code",
   "execution_count": 2,
   "metadata": {
    "ExecuteTime": {
     "end_time": "2018-01-19T08:21:36.011344Z",
     "start_time": "2018-01-19T08:21:35.500077Z"
    }
   },
   "outputs": [],
   "source": [
    "batch_size = 64\n",
    "train_data, test_data = utils.load_dataset(batch_size, data_type='mnist')"
   ]
  },
  {
   "cell_type": "markdown",
   "metadata": {},
   "source": [
    "自定义一个0均值层，其作用是将所有的输入减去均值使得其大致以0为中心"
   ]
  },
  {
   "cell_type": "markdown",
   "metadata": {},
   "source": [
    "## 设计一个简单的自定义层"
   ]
  },
  {
   "cell_type": "code",
   "execution_count": 3,
   "metadata": {
    "ExecuteTime": {
     "end_time": "2018-01-19T08:21:36.024129Z",
     "start_time": "2018-01-19T08:21:36.016735Z"
    }
   },
   "outputs": [],
   "source": [
    "class CenteredLayer(gluon.Block):\n",
    "    def __init__(self, **kwargs):\n",
    "        super().__init__(**kwargs)\n",
    "    \n",
    "    def forward(self, X):\n",
    "        return X - nd.mean(X)"
   ]
  },
  {
   "cell_type": "code",
   "execution_count": 4,
   "metadata": {
    "ExecuteTime": {
     "end_time": "2018-01-19T08:21:36.047960Z",
     "start_time": "2018-01-19T08:21:36.030113Z"
    }
   },
   "outputs": [
    {
     "data": {
      "text/plain": [
       "\n",
       "[[-2.5 -1.5 -0.5]\n",
       " [ 0.5  1.5  2.5]]\n",
       "<NDArray 2x3 @cpu(0)>"
      ]
     },
     "execution_count": 4,
     "metadata": {},
     "output_type": "execute_result"
    }
   ],
   "source": [
    "net1 = CenteredLayer()\n",
    "data = nd.arange(6).reshape((2,3))\n",
    "net1(data)"
   ]
  },
  {
   "cell_type": "markdown",
   "metadata": {},
   "source": [
    "我们可以将其加入我们的神经网络中，因为我们使用了``Dense``，因此我们需要初始化我们的``net``"
   ]
  },
  {
   "cell_type": "code",
   "execution_count": 5,
   "metadata": {
    "ExecuteTime": {
     "end_time": "2018-01-19T08:21:36.059105Z",
     "start_time": "2018-01-19T08:21:36.053451Z"
    }
   },
   "outputs": [],
   "source": [
    "net2 = gluon.nn.Sequential()\n",
    "net2.add(gluon.nn.Dense(64))\n",
    "net2.add(gluon.nn.Dense(10))\n",
    "net2.add(net1)"
   ]
  },
  {
   "cell_type": "code",
   "execution_count": 6,
   "metadata": {
    "ExecuteTime": {
     "end_time": "2018-01-19T08:21:36.074143Z",
     "start_time": "2018-01-19T08:21:36.064919Z"
    }
   },
   "outputs": [
    {
     "data": {
      "text/plain": [
       "sequential0_ (\n",
       "  Parameter dense0_weight (shape=(64, 0), dtype=<class 'numpy.float32'>)\n",
       "  Parameter dense0_bias (shape=(64,), dtype=<class 'numpy.float32'>)\n",
       "  Parameter dense1_weight (shape=(10, 0), dtype=<class 'numpy.float32'>)\n",
       "  Parameter dense1_bias (shape=(10,), dtype=<class 'numpy.float32'>)\n",
       ")"
      ]
     },
     "execution_count": 6,
     "metadata": {},
     "output_type": "execute_result"
    }
   ],
   "source": [
    "net2.collect_params().initialize(mx.init.Normal(sigma=0.01), ctx=ctx, force_reinit=True)\n",
    "net2.collect_params()"
   ]
  },
  {
   "cell_type": "code",
   "execution_count": 7,
   "metadata": {
    "ExecuteTime": {
     "end_time": "2018-01-19T08:21:36.160312Z",
     "start_time": "2018-01-19T08:21:36.079724Z"
    }
   },
   "outputs": [
    {
     "name": "stdout",
     "output_type": "stream",
     "text": [
      "(64, 1, 28, 28)\n"
     ]
    }
   ],
   "source": [
    "for data, _ in train_data:\n",
    "    data = data.as_in_context(ctx)\n",
    "    print(data.shape)\n",
    "    break"
   ]
  },
  {
   "cell_type": "code",
   "execution_count": 8,
   "metadata": {
    "ExecuteTime": {
     "end_time": "2018-01-19T08:21:36.180282Z",
     "start_time": "2018-01-19T08:21:36.165215Z"
    }
   },
   "outputs": [
    {
     "data": {
      "text/plain": [
       "\n",
       "[[-0.0016136   0.00496426 -0.00564828 -0.00220915  0.00431405 -0.00098155\n",
       "  -0.01009783 -0.00934961  0.00074095  0.00453386]]\n",
       "<NDArray 1x10 @cpu(0)>"
      ]
     },
     "execution_count": 8,
     "metadata": {},
     "output_type": "execute_result"
    }
   ],
   "source": [
    "output = net2(data)\n",
    "o1 = output[:1]\n",
    "o1"
   ]
  },
  {
   "cell_type": "code",
   "execution_count": 9,
   "metadata": {
    "ExecuteTime": {
     "end_time": "2018-01-19T08:21:36.192223Z",
     "start_time": "2018-01-19T08:21:36.185637Z"
    }
   },
   "outputs": [
    {
     "data": {
      "text/plain": [
       "sequential0_ (\n",
       "  Parameter dense0_weight (shape=(64, 784), dtype=<class 'numpy.float32'>)\n",
       "  Parameter dense0_bias (shape=(64,), dtype=<class 'numpy.float32'>)\n",
       "  Parameter dense1_weight (shape=(10, 64), dtype=<class 'numpy.float32'>)\n",
       "  Parameter dense1_bias (shape=(10,), dtype=<class 'numpy.float32'>)\n",
       ")"
      ]
     },
     "execution_count": 9,
     "metadata": {},
     "output_type": "execute_result"
    }
   ],
   "source": [
    "net2.collect_params()"
   ]
  },
  {
   "cell_type": "markdown",
   "metadata": {},
   "source": [
    "我们可以验证一下其均值是不是大约为0.但是因为MXNet使用低精度的浮点运算，因此其结果不会刚好为0，但是事实证明，大多数深度学习算法不会因为精度的损失而收到太多影响(**这是因为MXNet默认使用32位float，会带来一定的浮点精度误差**。)"
   ]
  },
  {
   "cell_type": "code",
   "execution_count": 10,
   "metadata": {
    "ExecuteTime": {
     "end_time": "2018-01-19T08:21:36.205497Z",
     "start_time": "2018-01-19T08:21:36.196433Z"
    }
   },
   "outputs": [
    {
     "data": {
      "text/plain": [
       "\n",
       "[-0.00153469]\n",
       "<NDArray 1 @cpu(0)>"
      ]
     },
     "execution_count": 10,
     "metadata": {},
     "output_type": "execute_result"
    }
   ],
   "source": [
    "nd.mean(o1)"
   ]
  },
  {
   "cell_type": "markdown",
   "metadata": {},
   "source": [
    "## 设计带模型参数的自定义层\n",
    "\n",
    "我们的CenteredLayer设计的很好，但是有一个缺点是，他没有可以学习的参数，因此，我们需要构建自带可学习参数的自定义层，一个想法是我们之前用net[0].weight.data()打印出了参数，我们也可以显式自定义这样一个参数。"
   ]
  },
  {
   "cell_type": "code",
   "execution_count": 11,
   "metadata": {
    "ExecuteTime": {
     "end_time": "2018-01-19T08:21:36.217931Z",
     "start_time": "2018-01-19T08:21:36.209793Z"
    }
   },
   "outputs": [
    {
     "data": {
      "text/plain": [
       "mxnet.gluon.parameter.Parameter"
      ]
     },
     "execution_count": 11,
     "metadata": {},
     "output_type": "execute_result"
    }
   ],
   "source": [
    "type(net2[0].weight)"
   ]
  },
  {
   "cell_type": "code",
   "execution_count": 12,
   "metadata": {
    "ExecuteTime": {
     "end_time": "2018-01-19T08:21:36.226207Z",
     "start_time": "2018-01-19T08:21:36.221890Z"
    }
   },
   "outputs": [],
   "source": [
    "my_param = gluon.Parameter('my_exciting_param', grad_req='write', shape=(5,5))"
   ]
  },
  {
   "cell_type": "code",
   "execution_count": 13,
   "metadata": {
    "ExecuteTime": {
     "end_time": "2018-01-19T08:21:36.237611Z",
     "start_time": "2018-01-19T08:21:36.230401Z"
    }
   },
   "outputs": [
    {
     "data": {
      "text/plain": [
       "Parameter my_exciting_param (shape=(5, 5), dtype=<class 'numpy.float32'>)"
      ]
     },
     "execution_count": 13,
     "metadata": {},
     "output_type": "execute_result"
    }
   ],
   "source": [
    "my_param"
   ]
  },
  {
   "cell_type": "code",
   "execution_count": 14,
   "metadata": {
    "ExecuteTime": {
     "end_time": "2018-01-19T08:21:36.247342Z",
     "start_time": "2018-01-19T08:21:36.239501Z"
    }
   },
   "outputs": [
    {
     "data": {
      "text/plain": [
       "'my_exciting_param'"
      ]
     },
     "execution_count": 14,
     "metadata": {},
     "output_type": "execute_result"
    }
   ],
   "source": [
    "my_param.name"
   ]
  },
  {
   "cell_type": "code",
   "execution_count": 15,
   "metadata": {
    "ExecuteTime": {
     "end_time": "2018-01-19T08:21:36.262140Z",
     "start_time": "2018-01-19T08:21:36.249216Z"
    }
   },
   "outputs": [
    {
     "data": {
      "text/plain": [
       "(\n",
       " [[ 0.01025083 -0.00524203  0.06809364  0.05144259  0.03570646]\n",
       "  [-0.06397808  0.05853816  0.02415648  0.06541369  0.03648888]\n",
       "  [-0.02733507  0.06972782  0.02532352 -0.02712101  0.05985367]\n",
       "  [-0.06086577 -0.03337502  0.05952872  0.04966065  0.06153975]\n",
       "  [ 0.01351636  0.01735146  0.03452943  0.05660085  0.06955645]]\n",
       " <NDArray 5x5 @cpu(0)>, \n",
       " [[ 0.  0.  0.  0.  0.]\n",
       "  [ 0.  0.  0.  0.  0.]\n",
       "  [ 0.  0.  0.  0.  0.]\n",
       "  [ 0.  0.  0.  0.  0.]\n",
       "  [ 0.  0.  0.  0.  0.]]\n",
       " <NDArray 5x5 @cpu(0)>)"
      ]
     },
     "execution_count": 15,
     "metadata": {},
     "output_type": "execute_result"
    }
   ],
   "source": [
    "my_param.initialize(ctx=ctx, force_reinit=True)\n",
    "my_param.data(), my_param.grad()"
   ]
  },
  {
   "cell_type": "markdown",
   "metadata": {},
   "source": [
    "一般在创建自定义层的时候，我们不会直接使用``Parameter``，而是使用``Block``自带的成员变量params来构建一个``ParameterDict``，它是一个字典，用名字来指向一个``Parameter``。"
   ]
  },
  {
   "cell_type": "code",
   "execution_count": 16,
   "metadata": {
    "ExecuteTime": {
     "end_time": "2018-01-19T08:21:36.270181Z",
     "start_time": "2018-01-19T08:21:36.265930Z"
    }
   },
   "outputs": [],
   "source": [
    "my_param_dict = gluon.ParameterDict(prefix='self_block0_')"
   ]
  },
  {
   "cell_type": "code",
   "execution_count": 17,
   "metadata": {
    "ExecuteTime": {
     "end_time": "2018-01-19T08:21:36.281070Z",
     "start_time": "2018-01-19T08:21:36.274448Z"
    }
   },
   "outputs": [
    {
     "data": {
      "text/plain": [
       "Parameter self_block0_my_exciting_param (shape=(5, 5), dtype=<class 'numpy.float32'>)"
      ]
     },
     "execution_count": 17,
     "metadata": {},
     "output_type": "execute_result"
    }
   ],
   "source": [
    "my_param_dict.get('my_exciting_param', grad_req='write', shape=(5,5))"
   ]
  },
  {
   "cell_type": "code",
   "execution_count": 18,
   "metadata": {
    "ExecuteTime": {
     "end_time": "2018-01-19T08:21:36.292319Z",
     "start_time": "2018-01-19T08:21:36.284694Z"
    }
   },
   "outputs": [
    {
     "data": {
      "text/plain": [
       "self_block0_ (\n",
       "  Parameter self_block0_my_exciting_param (shape=(5, 5), dtype=<class 'numpy.float32'>)\n",
       ")"
      ]
     },
     "execution_count": 18,
     "metadata": {},
     "output_type": "execute_result"
    }
   ],
   "source": [
    "my_param_dict"
   ]
  },
  {
   "cell_type": "markdown",
   "metadata": {},
   "source": [
    "## 自定义``Dense``层"
   ]
  },
  {
   "cell_type": "code",
   "execution_count": 19,
   "metadata": {
    "ExecuteTime": {
     "end_time": "2018-01-19T08:21:36.308595Z",
     "start_time": "2018-01-19T08:21:36.296118Z"
    }
   },
   "outputs": [],
   "source": [
    "class MyDense(gluon.Block):\n",
    "    def __init__(self, out_units, in_units=0, **kwargs):\n",
    "        super().__init__(**kwargs)\n",
    "        self.weight = self.params.get('weight', grad_req='write', shape=(in_units, out_units))\n",
    "        self.bias = self.params.get('bias', grad_req='write', shape=(out_units, ))\n",
    "        \n",
    "    def forward(self, X):\n",
    "        X = nd.dot(X, self.weight.data()) + self.bias.data()\n",
    "        return nd.relu(X)"
   ]
  },
  {
   "cell_type": "code",
   "execution_count": 20,
   "metadata": {
    "ExecuteTime": {
     "end_time": "2018-01-19T08:21:36.321469Z",
     "start_time": "2018-01-19T08:21:36.315269Z"
    }
   },
   "outputs": [],
   "source": [
    "dense0 = MyDense(10, in_units=64, prefix=\"my_first_dense_\")\n",
    "dense0.initialize(ctx=ctx)"
   ]
  },
  {
   "cell_type": "code",
   "execution_count": 21,
   "metadata": {
    "ExecuteTime": {
     "end_time": "2018-01-19T08:21:36.337972Z",
     "start_time": "2018-01-19T08:21:36.327535Z"
    }
   },
   "outputs": [
    {
     "data": {
      "text/plain": [
       "\n",
       "[[ 0.03527642  0.53290546  0.          0.13565981  0.          0.45349967\n",
       "   0.          0.06523603  0.          0.        ]\n",
       " [ 0.          0.          0.          0.09760787  0.          0.35007051\n",
       "   0.          0.1961149   0.08307152  0.        ]\n",
       " [ 0.37568897  0.          0.          0.30651212  0.25077805  0.55385858\n",
       "   0.          0.12833555  0.          0.12669098]\n",
       " [ 0.10223103  0.          0.          0.          0.          0.41138449\n",
       "   0.14127377  0.75098336  0.49911657  0.        ]\n",
       " [ 0.12405048  0.          0.09196598  0.          0.          0.          0.\n",
       "   0.          0.34441897  0.        ]\n",
       " [ 0.          0.75866747  0.          0.          0.          0.33118731\n",
       "   0.15483461  0.          0.1559445   0.10254275]\n",
       " [ 0.08817963  0.30868927  0.50328356  0.17626628  0.          0.4166604\n",
       "   0.26583487  0.          0.          0.50513512]\n",
       " [ 0.10270769  0.72153813  0.          0.21675843  0.          0.22371989\n",
       "   0.56618565  0.07360955  0.          0.        ]\n",
       " [ 0.4290098   0.18140098  0.12019803  0.          0.          0.          0.\n",
       "   0.13868178  0.          0.        ]\n",
       " [ 0.          0.3523953   0.25589067  0.          0.          0.07438757\n",
       "   0.17447287  0.          0.          0.        ]]\n",
       "<NDArray 10x10 @cpu(0)>"
      ]
     },
     "execution_count": 21,
     "metadata": {},
     "output_type": "execute_result"
    }
   ],
   "source": [
    "X = nd.random.normal(shape=(10, 64))\n",
    "dense0(X)"
   ]
  },
  {
   "cell_type": "code",
   "execution_count": 22,
   "metadata": {
    "ExecuteTime": {
     "end_time": "2018-01-19T08:21:36.350555Z",
     "start_time": "2018-01-19T08:21:36.343662Z"
    }
   },
   "outputs": [
    {
     "data": {
      "text/plain": [
       "my_first_dense_ (\n",
       "  Parameter my_first_dense_weight (shape=(64, 10), dtype=<class 'numpy.float32'>)\n",
       "  Parameter my_first_dense_bias (shape=(10,), dtype=<class 'numpy.float32'>)\n",
       ")"
      ]
     },
     "execution_count": 22,
     "metadata": {},
     "output_type": "execute_result"
    }
   ],
   "source": [
    "dense0.collect_params()"
   ]
  },
  {
   "cell_type": "code",
   "execution_count": 23,
   "metadata": {
    "ExecuteTime": {
     "end_time": "2018-01-19T08:21:36.363560Z",
     "start_time": "2018-01-19T08:21:36.357071Z"
    }
   },
   "outputs": [
    {
     "data": {
      "text/plain": [
       "'my_first_dense'"
      ]
     },
     "execution_count": 23,
     "metadata": {},
     "output_type": "execute_result"
    }
   ],
   "source": [
    "dense0.name"
   ]
  },
  {
   "cell_type": "markdown",
   "metadata": {},
   "source": [
    "## 调用我们的层"
   ]
  },
  {
   "cell_type": "code",
   "execution_count": 24,
   "metadata": {
    "ExecuteTime": {
     "end_time": "2018-01-19T08:21:36.379931Z",
     "start_time": "2018-01-19T08:21:36.368008Z"
    }
   },
   "outputs": [],
   "source": [
    "net = gluon.nn.Sequential()\n",
    "with net.name_scope():\n",
    "    net.add(MyDense(64, in_units=784))\n",
    "    net.add(MyDense(10, in_units=64))\n",
    "net.initialize(ctx=ctx)"
   ]
  },
  {
   "cell_type": "code",
   "execution_count": 25,
   "metadata": {
    "ExecuteTime": {
     "end_time": "2018-01-19T08:21:36.398082Z",
     "start_time": "2018-01-19T08:21:36.385717Z"
    }
   },
   "outputs": [
    {
     "data": {
      "text/plain": [
       "\n",
       "[[ 0.34072906  0.          0.12865672  0.24016923  0.19848743  0.0227394\n",
       "   0.          0.6005851   0.24969734  0.        ]\n",
       " [ 0.05254082  0.          0.29176399  0.02812026  0.81029677  0.\n",
       "   0.07850704  0.04315003  0.04554114  0.17009598]\n",
       " [ 0.          0.          0.17560008  0.          0.38822314  0.          0.\n",
       "   0.          0.32893378  0.11164059]\n",
       " [ 0.          0.          0.22787735  0.          0.          0.          0.\n",
       "   0.10587077  0.02748572  0.        ]\n",
       " [ 0.          0.10675503  0.20037743  0.16993076  0.19653216  0.          0.\n",
       "   0.36772966  0.          0.        ]\n",
       " [ 0.          0.          0.55489254  0.          0.24004366  0.\n",
       "   0.06843384  0.39324629  0.          0.        ]\n",
       " [ 0.03704725  0.12384593  0.21797663  0.02956173  0.53780967  0.          0.\n",
       "   0.31945056  0.          0.09588722]\n",
       " [ 0.07582741  0.          0.40071988  0.          0.35468271  0.          0.\n",
       "   0.12891023  0.          0.10195183]\n",
       " [ 0.          0.          0.60345781  0.          0.56727803  0.          0.\n",
       "   0.1888278   0.          0.12048972]\n",
       " [ 0.          0.          0.40661967  0.13261911  0.30486429  0.27650973\n",
       "   0.          0.00260841  0.00522837  0.        ]]\n",
       "<NDArray 10x10 @cpu(0)>"
      ]
     },
     "execution_count": 25,
     "metadata": {},
     "output_type": "execute_result"
    }
   ],
   "source": [
    "X = nd.random.normal(shape=(10, 784))\n",
    "net(X)"
   ]
  },
  {
   "cell_type": "markdown",
   "metadata": {},
   "source": [
    "## 结论\n",
    "\n",
    "我们可以使用**延迟初始化**来改进我们的层。仔细想想``gluon``初始化层的时候并不需要指定``in_units``。"
   ]
  },
  {
   "cell_type": "markdown",
   "metadata": {},
   "source": [
    "## 再自定义一个层"
   ]
  },
  {
   "cell_type": "code",
   "execution_count": 26,
   "metadata": {
    "ExecuteTime": {
     "end_time": "2018-01-19T08:21:36.415922Z",
     "start_time": "2018-01-19T08:21:36.402835Z"
    }
   },
   "outputs": [],
   "source": [
    "class MyDense(gluon.Block):\n",
    "    def __init__(self, units, in_units = 0, **kwargs):\n",
    "        super().__init__(**kwargs)\n",
    "        self.weight = self.params.get('weight', init=mx.init.Xavier(magnitude=2.24), shape=(in_units, units))\n",
    "        self.bias = self.params.get('bias', shape=(units, ))\n",
    "        \n",
    "    def forward(self, X):\n",
    "        h1 = nd.dot(X, self.weight.data()) + self.bias.data()\n",
    "        return nd.relu(h1)"
   ]
  },
  {
   "cell_type": "code",
   "execution_count": 27,
   "metadata": {
    "ExecuteTime": {
     "end_time": "2018-01-19T08:21:36.435931Z",
     "start_time": "2018-01-19T08:21:36.422580Z"
    }
   },
   "outputs": [
    {
     "data": {
      "text/plain": [
       "\n",
       "[[ 0.99427682  0.22104916  0.71425343  0.          0.88457561  1.15234816\n",
       "   0.          0.75347143  0.42495024  0.55035073]\n",
       " [ 0.52092326  0.          0.34267759  1.09945452  0.76766425  0.59529632\n",
       "   0.5251826   0.06589224  0.          2.13549662]\n",
       " [ 0.63272196  0.          1.96432257  0.00668729  0.          0.          0.\n",
       "   0.41263798  0.48197559  0.        ]\n",
       " [ 0.          0.          0.39700577  0.          0.          0.24702752\n",
       "   0.          2.4111433   0.23491818  0.        ]\n",
       " [ 2.22609687  0.          0.          1.82167459  0.50350052  0.64773893\n",
       "   0.          0.          0.          0.36311743]\n",
       " [ 0.          0.37025431  0.          0.          1.06610429  0.67238659\n",
       "   0.          0.          0.39882302  0.        ]\n",
       " [ 1.62146688  0.3722173   1.53305316  0.          0.          0.50304931\n",
       "   0.          0.96356767  0.          0.        ]\n",
       " [ 0.98214442  0.33266097  1.10612369  0.          0.56148487  0.          0.\n",
       "   0.          0.          0.        ]\n",
       " [ 0.          1.137272    0.72864491  0.          0.63795984  0.\n",
       "   0.18290985  0.          0.          1.22134387]\n",
       " [ 2.4564209   0.14382558  1.95736384  0.46434665  0.75788355  0.          0.\n",
       "   1.71142936  0.48573509  0.        ]]\n",
       "<NDArray 10x10 @cpu(0)>"
      ]
     },
     "execution_count": 27,
     "metadata": {},
     "output_type": "execute_result"
    }
   ],
   "source": [
    "dense1 = MyDense(10, in_units=20)\n",
    "dense1.initialize(ctx=ctx)\n",
    "X = nd.random.normal(shape=(10, 20))\n",
    "dense1(X)"
   ]
  },
  {
   "cell_type": "code",
   "execution_count": 31,
   "metadata": {
    "ExecuteTime": {
     "end_time": "2018-01-19T08:23:22.869528Z",
     "start_time": "2018-01-19T08:23:22.858973Z"
    }
   },
   "outputs": [
    {
     "data": {
      "text/plain": [
       "mydense0_ (\n",
       "  Parameter mydense0_weight (shape=(20, 10), dtype=<class 'numpy.float32'>)\n",
       "  Parameter mydense0_bias (shape=(10,), dtype=<class 'numpy.float32'>)\n",
       ")"
      ]
     },
     "execution_count": 31,
     "metadata": {},
     "output_type": "execute_result"
    }
   ],
   "source": [
    "dense1.collect_params()"
   ]
  },
  {
   "cell_type": "markdown",
   "metadata": {},
   "source": [
    "## 使用自定义层训练"
   ]
  },
  {
   "cell_type": "code",
   "execution_count": 28,
   "metadata": {
    "ExecuteTime": {
     "end_time": "2018-01-19T08:21:36.458083Z",
     "start_time": "2018-01-19T08:21:36.440732Z"
    }
   },
   "outputs": [],
   "source": [
    "net2 = gluon.nn.Sequential()\n",
    "with net2.name_scope():\n",
    "    net2.add(gluon.nn.Flatten())\n",
    "    net2.add(MyDense(256, in_units=784))\n",
    "    net2.add(MyDense(256, in_units=256))\n",
    "    net2.add(MyDense(10, in_units=256))\n",
    "net2.collect_params().initialize(ctx=ctx)"
   ]
  },
  {
   "cell_type": "code",
   "execution_count": 29,
   "metadata": {
    "ExecuteTime": {
     "end_time": "2018-01-19T08:21:39.900362Z",
     "start_time": "2018-01-19T08:21:36.463368Z"
    }
   },
   "outputs": [
    {
     "data": {
      "text/plain": [
       "0.093600000000000003"
      ]
     },
     "execution_count": 29,
     "metadata": {},
     "output_type": "execute_result"
    }
   ],
   "source": [
    "utils.evaluate_accuracy_gluon(test_data, net2, ctx)"
   ]
  },
  {
   "cell_type": "code",
   "execution_count": 30,
   "metadata": {
    "ExecuteTime": {
     "end_time": "2018-01-19T08:23:04.957812Z",
     "start_time": "2018-01-19T08:21:39.905177Z"
    }
   },
   "outputs": [
    {
     "name": "stdout",
     "output_type": "stream",
     "text": [
      "Epoch 0, Train loss \n",
      "[ 2.72249746]\n",
      "<NDArray 1 @cpu(0)>, Train acc 0.84815, Test acc 0.8486.\n",
      "Epoch 1, Train loss \n",
      "[ 2.3947711]\n",
      "<NDArray 1 @cpu(0)>, Train acc 0.868483333333, Test acc 0.8666.\n"
     ]
    }
   ],
   "source": [
    "trainer = gluon.Trainer(net2.collect_params(), 'sgd', {'learning_rate': 0.1})\n",
    "\n",
    "epochs = 2\n",
    "num_examples = 60000\n",
    "\n",
    "for epoch in range(epochs):\n",
    "    cumulative_loss = .0\n",
    "    for i, (data, label) in enumerate(train_data):\n",
    "        data = data.as_in_context(ctx)\n",
    "        label = label.as_in_context(ctx)\n",
    "        label_one_hot = nd.one_hot(label, 10)\n",
    "        with autograd.record():\n",
    "            output = net2(data)\n",
    "            loss = utils.softmax_cross_entropy(output, label_one_hot)\n",
    "        loss.backward()\n",
    "        trainer.step(batch_size)\n",
    "        cumulative_loss += nd.sum(loss) # 发现了一个很奇怪的事情，为什么不用asscalar()，acc就会上去，loss也会降下来\n",
    "        \n",
    "    train_acc = utils.evaluate_accuracy_gluon(train_data, net2, ctx)\n",
    "    test_acc = utils.evaluate_accuracy_gluon(test_data, net2, ctx)\n",
    "    print(\"Epoch %s, Train loss %s, Train acc %s, Test acc %s.\" \n",
    "         %(epoch, cumulative_loss / num_examples, train_acc, test_acc))"
   ]
  }
 ],
 "metadata": {
  "kernelspec": {
   "display_name": "Python 3",
   "language": "python",
   "name": "python3"
  },
  "language_info": {
   "codemirror_mode": {
    "name": "ipython",
    "version": 3
   },
   "file_extension": ".py",
   "mimetype": "text/x-python",
   "name": "python",
   "nbconvert_exporter": "python",
   "pygments_lexer": "ipython3",
   "version": "3.5.2"
  },
  "latex_envs": {
   "LaTeX_envs_menu_present": true,
   "autocomplete": true,
   "bibliofile": "biblio.bib",
   "cite_by": "apalike",
   "current_citInitial": 1,
   "eqLabelWithNumbers": true,
   "eqNumInitial": 1,
   "hotkeys": {
    "equation": "Ctrl-E",
    "itemize": "Ctrl-I"
   },
   "labels_anchors": false,
   "latex_user_defs": false,
   "report_style_numbering": false,
   "user_envs_cfg": false
  }
 },
 "nbformat": 4,
 "nbformat_minor": 2
}
