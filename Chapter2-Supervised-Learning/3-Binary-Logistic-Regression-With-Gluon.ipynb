{
 "cells": [
  {
   "cell_type": "markdown",
   "metadata": {},
   "source": [
    "# Binary Classification with Logistic Regression"
   ]
  },
  {
   "cell_type": "code",
   "execution_count": 1,
   "metadata": {
    "ExecuteTime": {
     "end_time": "2018-01-11T12:32:58.316751Z",
     "start_time": "2018-01-11T12:32:57.577148Z"
    }
   },
   "outputs": [],
   "source": [
    "import mxnet as mx\n",
    "from mxnet import nd\n",
    "from mxnet import gluon\n",
    "from mxnet import autograd\n",
    "\n",
    "%matplotlib inline\n",
    "import matplotlib\n",
    "from matplotlib import pyplot as plt"
   ]
  },
  {
   "cell_type": "markdown",
   "metadata": {},
   "source": [
    "## Sigmoid Function\n",
    "\n",
    "$$\\sigma(z) = \\frac{1}{1+e^{-z}}$$"
   ]
  },
  {
   "cell_type": "code",
   "execution_count": 2,
   "metadata": {
    "ExecuteTime": {
     "end_time": "2018-01-11T12:32:58.456790Z",
     "start_time": "2018-01-11T12:32:58.322526Z"
    },
    "scrolled": true
   },
   "outputs": [
    {
     "data": {
      "image/png": "[encoded data removed]",
      "text/plain": [
       "<matplotlib.figure.Figure at 0x7f4a66b45f98>"
      ]
     },
     "metadata": {},
     "output_type": "display_data"
    }
   ],
   "source": [
    "def sigmoid(z):\n",
    "    return 1 / (1+nd.exp(-z))\n",
    "\n",
    "x = nd.arange(-5, 5, 0.01)\n",
    "y = sigmoid(x)\n",
    "plt.plot(x.asnumpy(), y.asnumpy())\n",
    "plt.grid(True, which=\"both\")\n",
    "plt.show()"
   ]
  },
  {
   "cell_type": "markdown",
   "metadata": {},
   "source": [
    "## binary cross-entropy loss function\n",
    "\n",
    "交叉熵损失从这个问题开始，一个很自然的问题是给定训练数据，我们想要最大化其所属真实标签的概率：\n",
    "\n",
    "$$\\max_{\\theta} P_{\\theta}( (y_1, ..., y_n) | \\boldsymbol{x}_1,...,\\boldsymbol{x}_n )$$\n",
    "\n",
    "因为每个样本是相互独立的，且每个标签只与其所属的样本的特征有关，因为我们改写如下：\n",
    "\n",
    "$$\\max_{\\theta} P_{\\theta}(y_1|\\boldsymbol{x}_1)P_{\\theta}(y_2|\\boldsymbol{x}_2) ... P(y_n|\\boldsymbol{x}_n)$$\n",
    "\n",
    "很自然的我们改写为对数形式：\n",
    "\n",
    "$$\\max_{\\theta} \\log P_{\\theta}(y_1|\\boldsymbol{x}_1) + ... + \\log P(y_n|\\boldsymbol{x}_n)$$\n",
    "\n",
    "考虑到优化问题一般求最小值的问题，所以改写如下：\n",
    "\n",
    "$$\\min_{\\theta} \\left(- \\sum_{i=1}^n \\log P_{\\theta}(y_i|\\boldsymbol{x}_i)\\right)$$\n",
    "\n",
    "我们用$\\hat{y_i}$表示第$i$-th个样本属于正类的概率($y_i=1$),很自然的，我们有\n",
    "\n",
    "$$ P_{\\theta}(y_i|\\boldsymbol{x}_i) = \\begin{cases}\n",
    "    \\hat{y}_i, & \\text{if } y_i = 1\\\\\n",
    "    1-\\hat{y}_i, & \\text{if } y_i = 0\n",
    "\\end{cases} $$\n",
    "\n",
    "上式可以写成\n",
    "\n",
    "$$ P_{\\theta}(y_i|\\boldsymbol{x}_i) = \\hat{y}_i^{y_i}(1-\\hat{y}_i)^{1-y_i} $$\n",
    "\n",
    "**最终我们可以将我们的损失函数写成**\n",
    "\n",
    "$$ \\ell (\\boldsymbol{y}, \\boldsymbol{\\hat{y}}) =  - \\sum_{i=1}^n y_i \\log \\hat{y}_i + (1-y_i) \\log (1-\\hat{y}_i).$$"
   ]
  },
  {
   "cell_type": "markdown",
   "metadata": {},
   "source": [
    "## 数据集处理"
   ]
  },
  {
   "cell_type": "code",
   "execution_count": 3,
   "metadata": {
    "ExecuteTime": {
     "end_time": "2018-01-11T12:32:58.471855Z",
     "start_time": "2018-01-11T12:32:58.462368Z"
    }
   },
   "outputs": [],
   "source": [
    "with open('../data/adult/a1a.train') as f:\n",
    "    train = f.read()\n",
    "\n",
    "with open('../data/adult/a1a.test') as f:\n",
    "    test = f.read()"
   ]
  },
  {
   "cell_type": "code",
   "execution_count": 4,
   "metadata": {
    "ExecuteTime": {
     "end_time": "2018-01-11T12:32:58.492706Z",
     "start_time": "2018-01-11T12:32:58.477653Z"
    }
   },
   "outputs": [],
   "source": [
    "# 方法一\n",
    "def process_data(raw_data):\n",
    "    line_train = raw_data.splitlines()\n",
    "    num_examples = len(line_train)\n",
    "    num_features = 123\n",
    "    X = nd.zeros(shape=(num_examples, num_features))\n",
    "    y = nd.zeros(shape=(num_examples,1))\n",
    "    for i, line in enumerate(line_train):\n",
    "        token = line.split()\n",
    "        y[0] = (int(token[0]) + 1) / 2 # 把标签值-1变成0，1变成1\n",
    "        for j, tmp in enumerate(token):\n",
    "            if j >= 1:\n",
    "                X[i, int(tmp.split(\":\")[0])-1] = 1\n",
    "    return X, y"
   ]
  },
  {
   "cell_type": "code",
   "execution_count": 5,
   "metadata": {
    "ExecuteTime": {
     "end_time": "2018-01-11T12:32:58.513344Z",
     "start_time": "2018-01-11T12:32:58.499172Z"
    }
   },
   "outputs": [],
   "source": [
    "# 方法二\n",
    "def process_data(raw_data):\n",
    "    line_train = raw_data.splitlines()\n",
    "    num_examples = len(line_train)\n",
    "    num_feature = 123 \n",
    "    X = nd.zeros(shape=(num_examples, num_feature))\n",
    "    y = nd.zeros(shape=(num_examples, 1))\n",
    "    for i, line in enumerate(line_train):\n",
    "        tokens = line.split()\n",
    "        y[i] = label = (int(tokens[0]) + 1) / 2 # 把标签值-1变成0，1变成1\n",
    "        for token in tokens[1:]: # 注意这里要去除第一个标签\n",
    "            X[i, int(token[:-2]) - 1] = 1\n",
    "    return X, y"
   ]
  },
  {
   "cell_type": "code",
   "execution_count": 6,
   "metadata": {
    "ExecuteTime": {
     "end_time": "2018-01-11T12:33:32.796333Z",
     "start_time": "2018-01-11T12:32:58.519486Z"
    }
   },
   "outputs": [],
   "source": [
    "X_train, y_train = process_data(train)\n",
    "X_test, y_test = process_data(test)"
   ]
  },
  {
   "cell_type": "code",
   "execution_count": 7,
   "metadata": {
    "ExecuteTime": {
     "end_time": "2018-01-11T12:33:32.811758Z",
     "start_time": "2018-01-11T12:33:32.801893Z"
    }
   },
   "outputs": [
    {
     "name": "stdout",
     "output_type": "stream",
     "text": [
      "X_train: (30956, 123)\n",
      "y_train: (30956, 1)\n",
      "X_test: (1605, 123)\n",
      "y_test: (1605, 1)\n"
     ]
    }
   ],
   "source": [
    "print(\"X_train:\", X_train.shape)\n",
    "print(\"y_train:\", y_train.shape)\n",
    "print(\"X_test:\", X_test.shape)\n",
    "print(\"y_test:\",y_test.shape)"
   ]
  },
  {
   "cell_type": "code",
   "execution_count": 8,
   "metadata": {
    "ExecuteTime": {
     "end_time": "2018-01-11T12:33:32.826334Z",
     "start_time": "2018-01-11T12:33:32.817270Z"
    }
   },
   "outputs": [
    {
     "name": "stdout",
     "output_type": "stream",
     "text": [
      "\n",
      "[ 0.24053495]\n",
      "<NDArray 1 @cpu(0)>\n",
      "\n",
      "[ 0.24610592]\n",
      "<NDArray 1 @cpu(0)>\n"
     ]
    }
   ],
   "source": [
    "# 检查均值 以确定我们的训练集和测试集确实是来自同一个分布\n",
    "print(nd.sum(y_train) / len(y_train))\n",
    "print(nd.sum(y_test) / len(y_test))"
   ]
  },
  {
   "cell_type": "markdown",
   "metadata": {},
   "source": [
    "## 使用``gluon``加载数据"
   ]
  },
  {
   "cell_type": "code",
   "execution_count": 9,
   "metadata": {
    "ExecuteTime": {
     "end_time": "2018-01-11T12:33:32.837599Z",
     "start_time": "2018-01-11T12:33:32.831803Z"
    }
   },
   "outputs": [],
   "source": [
    "batch_size = 64\n",
    "train_data = gluon.data.DataLoader(gluon.data.ArrayDataset(X_train, y_train), \n",
    "                                   batch_size=batch_size, shuffle=True)\n",
    "test_data = gluon.data.DataLoader(gluon.data.ArrayDataset(X_test, y_test), \n",
    "                                  batch_size=batch_size, shuffle=True)"
   ]
  },
  {
   "cell_type": "markdown",
   "metadata": {},
   "source": [
    "## 定义模型"
   ]
  },
  {
   "cell_type": "code",
   "execution_count": 10,
   "metadata": {
    "ExecuteTime": {
     "end_time": "2018-01-11T12:33:32.848062Z",
     "start_time": "2018-01-11T12:33:32.843559Z"
    }
   },
   "outputs": [],
   "source": [
    "net = gluon.nn.Sequential()\n",
    "net.add(gluon.nn.Dense(1))"
   ]
  },
  {
   "cell_type": "markdown",
   "metadata": {},
   "source": [
    "## 参数初始化"
   ]
  },
  {
   "cell_type": "code",
   "execution_count": 11,
   "metadata": {
    "ExecuteTime": {
     "end_time": "2018-01-11T12:33:32.858837Z",
     "start_time": "2018-01-11T12:33:32.853246Z"
    }
   },
   "outputs": [],
   "source": [
    "net.collect_params().initialize(mx.init.Normal(sigma=1.))"
   ]
  },
  {
   "cell_type": "markdown",
   "metadata": {},
   "source": [
    "## 定义优化器"
   ]
  },
  {
   "cell_type": "code",
   "execution_count": 12,
   "metadata": {
    "ExecuteTime": {
     "end_time": "2018-01-11T12:33:32.868501Z",
     "start_time": "2018-01-11T12:33:32.864565Z"
    }
   },
   "outputs": [],
   "source": [
    "trainer = gluon.Trainer(net.collect_params(), 'Adam')"
   ]
  },
  {
   "cell_type": "markdown",
   "metadata": {},
   "source": [
    "## 定义交叉熵损失函数\n",
    "\n",
    "$$ \\ell (\\boldsymbol{y}, \\boldsymbol{\\hat{y}}) =  - \\sum_{i=1}^n y_i \\log \\hat{y}_i + (1-y_i) \\log (1-\\hat{y}_i).$$"
   ]
  },
  {
   "cell_type": "code",
   "execution_count": 13,
   "metadata": {
    "ExecuteTime": {
     "end_time": "2018-01-11T12:33:32.879432Z",
     "start_time": "2018-01-11T12:33:32.873806Z"
    }
   },
   "outputs": [],
   "source": [
    "def log_loss(output, y):\n",
    "    yhat = sigmoid(output)\n",
    "    return -nd.sum(y * nd.log(yhat) + (1-y) * nd.log(1 - yhat))"
   ]
  },
  {
   "cell_type": "code",
   "execution_count": 14,
   "metadata": {
    "ExecuteTime": {
     "end_time": "2018-01-11T12:34:20.041145Z",
     "start_time": "2018-01-11T12:33:32.885402Z"
    }
   },
   "outputs": [
    {
     "name": "stdout",
     "output_type": "stream",
     "text": [
      "Epoch 0, Avg loss 0.89525416557.\n",
      "Epoch 1, Avg loss 0.579159844213.\n",
      "Epoch 2, Avg loss 0.453228757061.\n",
      "Epoch 3, Avg loss 0.395693625201.\n",
      "Epoch 4, Avg loss 0.366177118538.\n",
      "Epoch 5, Avg loss 0.350102210757.\n",
      "Epoch 6, Avg loss 0.340846782138.\n",
      "Epoch 7, Avg loss 0.335374269949.\n",
      "Epoch 8, Avg loss 0.332131855062.\n",
      "Epoch 9, Avg loss 0.330033271839.\n",
      "Epoch 10, Avg loss 0.328465388871.\n",
      "Epoch 11, Avg loss 0.327464263343.\n",
      "Epoch 12, Avg loss 0.326741708097.\n",
      "Epoch 13, Avg loss 0.326082158141.\n",
      "Epoch 14, Avg loss 0.325682655849.\n",
      "Epoch 15, Avg loss 0.325375393451.\n",
      "Epoch 16, Avg loss 0.325053291398.\n",
      "Epoch 17, Avg loss 0.324841489101.\n",
      "Epoch 18, Avg loss 0.324588004525.\n",
      "Epoch 19, Avg loss 0.324462798634.\n",
      "Epoch 20, Avg loss 0.3243022567.\n",
      "Epoch 21, Avg loss 0.324150376548.\n",
      "Epoch 22, Avg loss 0.324003499906.\n",
      "Epoch 23, Avg loss 0.323984317315.\n",
      "Epoch 24, Avg loss 0.323923445623.\n",
      "Epoch 25, Avg loss 0.323712996725.\n",
      "Epoch 26, Avg loss 0.323691891706.\n",
      "Epoch 27, Avg loss 0.323626944162.\n",
      "Epoch 28, Avg loss 0.323578722826.\n",
      "Epoch 29, Avg loss 0.323535440935.\n"
     ]
    }
   ],
   "source": [
    "epochs = 30\n",
    "loss_sequences = []\n",
    "num_examples = len(X_train)\n",
    "\n",
    "for epoch in range(epochs):\n",
    "    cumulative_loss = 0.0\n",
    "    for i, (data, label) in enumerate(train_data):\n",
    "        with autograd.record():\n",
    "            output = net(data)\n",
    "            loss = log_loss(output, label)\n",
    "        loss.backward()\n",
    "        trainer.step(batch_size)\n",
    "        cumulative_loss += nd.sum(loss).asscalar()\n",
    "    print(\"Epoch %s, Avg loss %s.\" % (epoch, cumulative_loss / num_examples))\n",
    "    loss_sequences.append(cumulative_loss / num_examples)"
   ]
  },
  {
   "cell_type": "markdown",
   "metadata": {},
   "source": [
    "## 绘制损失函数曲线"
   ]
  },
  {
   "cell_type": "code",
   "execution_count": 15,
   "metadata": {
    "ExecuteTime": {
     "end_time": "2018-01-11T12:34:20.272461Z",
     "start_time": "2018-01-11T12:34:20.046436Z"
    }
   },
   "outputs": [
    {
     "data": {
      "image/png": "[encoded data removed]",
      "text/plain": [
       "<matplotlib.figure.Figure at 0x7f4a5dfd1dd8>"
      ]
     },
     "metadata": {},
     "output_type": "display_data"
    }
   ],
   "source": [
    "plt.figure(num=None, figsize=(10,8))\n",
    "plt.plot(list(range(len(loss_sequences))),loss_sequences, 'r')\n",
    "plt.xlabel(\"epoch\", fontsize=\"14\")\n",
    "plt.ylabel(\"average loss\", fontsize=\"14\")\n",
    "plt.grid(True, which=\"both\")\n",
    "plt.show()"
   ]
  },
  {
   "cell_type": "markdown",
   "metadata": {},
   "source": [
    "## 计算准确率 (accuracy)"
   ]
  },
  {
   "cell_type": "code",
   "execution_count": 16,
   "metadata": {
    "ExecuteTime": {
     "end_time": "2018-01-11T12:34:20.340793Z",
     "start_time": "2018-01-11T12:34:20.277668Z"
    }
   },
   "outputs": [
    {
     "name": "stdout",
     "output_type": "stream",
     "text": [
      "Accuracy 0.842, (1352.0 / 1605)\n"
     ]
    }
   ],
   "source": [
    "num_correct = 0.0\n",
    "num_test_examples = len(X_test)\n",
    "\n",
    "for i, (data, label) in enumerate(test_data):\n",
    "    output = net(data)\n",
    "    prediction = (nd.sign(output) + 1) / 2 # 把标签值-1变成0，1变成1\n",
    "    num_correct += nd.sum(prediction == label)\n",
    "print(\"Accuracy %.3f, (%s / %s)\" % (num_correct.asscalar() / num_test_examples, num_correct.asscalar(), \n",
    "                                    num_test_examples))"
   ]
  }
 ],
 "metadata": {
  "kernelspec": {
   "display_name": "Python 3",
   "language": "python",
   "name": "python3"
  },
  "language_info": {
   "codemirror_mode": {
    "name": "ipython",
    "version": 3
   },
   "file_extension": ".py",
   "mimetype": "text/x-python",
   "name": "python",
   "nbconvert_exporter": "python",
   "pygments_lexer": "ipython3",
   "version": "3.5.2"
  },
  "latex_envs": {
   "LaTeX_envs_menu_present": true,
   "autocomplete": true,
   "bibliofile": "biblio.bib",
   "cite_by": "apalike",
   "current_citInitial": 1,
   "eqLabelWithNumbers": true,
   "eqNumInitial": 1,
   "hotkeys": {
    "equation": "Ctrl-E",
    "itemize": "Ctrl-I"
   },
   "labels_anchors": false,
   "latex_user_defs": false,
   "report_style_numbering": false,
   "user_envs_cfg": false
  }
 },
 "nbformat": 4,
 "nbformat_minor": 2
}
