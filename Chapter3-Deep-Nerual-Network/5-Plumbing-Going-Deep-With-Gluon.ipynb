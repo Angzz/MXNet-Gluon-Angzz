{
 "cells": [
  {
   "cell_type": "markdown",
   "metadata": {},
   "source": [
    "# Plumbing : Going Deep With Gluon\n",
    "\n",
    "创建神经网络的两种方式："
   ]
  },
  {
   "cell_type": "markdown",
   "metadata": {
    "ExecuteTime": {
     "end_time": "2018-01-17T11:27:33.840794Z",
     "start_time": "2018-01-17T11:27:33.831746Z"
    }
   },
   "source": [
    "## 1.使用``gluon.Block``"
   ]
  },
  {
   "cell_type": "code",
   "execution_count": 1,
   "metadata": {
    "ExecuteTime": {
     "end_time": "2018-01-17T12:03:48.732616Z",
     "start_time": "2018-01-17T12:03:48.164631Z"
    }
   },
   "outputs": [],
   "source": [
    "import mxnet as mx\n",
    "\n",
    "from mxnet import nd\n",
    "from mxnet import gluon\n",
    "from mxnet import autograd\n",
    "mx.random.seed(1)\n",
    "\n",
    "import utils\n",
    "\n",
    "ctx = mx.cpu()"
   ]
  },
  {
   "cell_type": "code",
   "execution_count": 2,
   "metadata": {
    "ExecuteTime": {
     "end_time": "2018-01-17T12:03:49.331090Z",
     "start_time": "2018-01-17T12:03:48.738121Z"
    }
   },
   "outputs": [
    {
     "name": "stdout",
     "output_type": "stream",
     "text": [
      "(64, 1, 28, 28)\n"
     ]
    }
   ],
   "source": [
    "batch_size = 64\n",
    "train_data, test_data = utils.load_dataset(batch_size, data_type='mnist')\n",
    "\n",
    "for data, _ in train_data:\n",
    "    data = data.as_in_context(ctx)\n",
    "    print(data.shape)\n",
    "    break"
   ]
  },
  {
   "cell_type": "code",
   "execution_count": 3,
   "metadata": {
    "ExecuteTime": {
     "end_time": "2018-01-17T12:03:49.349974Z",
     "start_time": "2018-01-17T12:03:49.336116Z"
    }
   },
   "outputs": [],
   "source": [
    "class MLP(gluon.Block):\n",
    "    def __init__(self, **kwargs):\n",
    "        super().__init__(**kwargs)\n",
    "        self.dense0 = gluon.nn.Dense(128, activation='relu')\n",
    "        self.dense1 = gluon.nn.Dense(64, activation='relu')\n",
    "        self.dense2 = gluon.nn.Dense(10)\n",
    "        \n",
    "    def forward(self, X):\n",
    "        h1 = self.dense0(X)\n",
    "        h2 = self.dense1(h1)\n",
    "        return self.dense2(h2)"
   ]
  },
  {
   "cell_type": "code",
   "execution_count": 4,
   "metadata": {
    "ExecuteTime": {
     "end_time": "2018-01-17T12:03:49.374482Z",
     "start_time": "2018-01-17T12:03:49.356165Z"
    }
   },
   "outputs": [
    {
     "data": {
      "text/plain": [
       "<bound method Block.collect_params of MLP(\n",
       "  (dense2): Dense(None -> 10, linear)\n",
       "  (dense1): Dense(None -> 64, Activation(relu))\n",
       "  (dense0): Dense(None -> 128, Activation(relu))\n",
       ")>"
      ]
     },
     "execution_count": 4,
     "metadata": {},
     "output_type": "execute_result"
    }
   ],
   "source": [
    "# 此时输入的维度还没有推测出来(shape inference)\n",
    "net1 = MLP()\n",
    "net1.initialize(ctx=ctx)\n",
    "net1.collect_params"
   ]
  },
  {
   "cell_type": "code",
   "execution_count": 5,
   "metadata": {
    "ExecuteTime": {
     "end_time": "2018-01-17T12:03:49.394740Z",
     "start_time": "2018-01-17T12:03:49.379451Z"
    }
   },
   "outputs": [
    {
     "data": {
      "text/plain": [
       "\n",
       "[[ 0.00417079 -0.04057368 -0.01482122  0.02092639 -0.01289647 -0.00897914\n",
       "  -0.02665747 -0.02111475  0.03314075  0.01809338]]\n",
       "<NDArray 1x10 @cpu(0)>"
      ]
     },
     "execution_count": 5,
     "metadata": {},
     "output_type": "execute_result"
    }
   ],
   "source": [
    "net1(data)[:1]"
   ]
  },
  {
   "cell_type": "code",
   "execution_count": 6,
   "metadata": {
    "ExecuteTime": {
     "end_time": "2018-01-17T12:03:49.407682Z",
     "start_time": "2018-01-17T12:03:49.400597Z"
    }
   },
   "outputs": [
    {
     "data": {
      "text/plain": [
       "<bound method Block.collect_params of MLP(\n",
       "  (dense2): Dense(64 -> 10, linear)\n",
       "  (dense1): Dense(128 -> 64, Activation(relu))\n",
       "  (dense0): Dense(784 -> 128, Activation(relu))\n",
       ")>"
      ]
     },
     "execution_count": 6,
     "metadata": {},
     "output_type": "execute_result"
    }
   ],
   "source": [
    "# 直到有数据传递的时候，shape inference才起作用\n",
    "net1.collect_params"
   ]
  },
  {
   "cell_type": "code",
   "execution_count": 7,
   "metadata": {
    "ExecuteTime": {
     "end_time": "2018-01-17T12:03:49.419773Z",
     "start_time": "2018-01-17T12:03:49.411851Z"
    }
   },
   "outputs": [
    {
     "data": {
      "text/plain": [
       "'mlp0'"
      ]
     },
     "execution_count": 7,
     "metadata": {},
     "output_type": "execute_result"
    }
   ],
   "source": [
    "net1.name"
   ]
  },
  {
   "cell_type": "markdown",
   "metadata": {},
   "source": [
    "## 2.使用``gluon.nn.Sequential``"
   ]
  },
  {
   "cell_type": "code",
   "execution_count": 8,
   "metadata": {
    "ExecuteTime": {
     "end_time": "2018-01-17T12:03:49.431896Z",
     "start_time": "2018-01-17T12:03:49.423710Z"
    }
   },
   "outputs": [],
   "source": [
    "net2 = gluon.nn.Sequential()\n",
    "with net2.name_scope():\n",
    "    net2.add(gluon.nn.Dense(128, activation=\"relu\"))\n",
    "    net2.add(gluon.nn.Dense(64, activation=\"relu\"))\n",
    "    net2.add(gluon.nn.Dense(10))"
   ]
  },
  {
   "cell_type": "code",
   "execution_count": 9,
   "metadata": {
    "ExecuteTime": {
     "end_time": "2018-01-17T12:03:49.443736Z",
     "start_time": "2018-01-17T12:03:49.437851Z"
    }
   },
   "outputs": [],
   "source": [
    "net2.collect_params().initialize(ctx=ctx, force_reinit=True)"
   ]
  },
  {
   "cell_type": "code",
   "execution_count": 10,
   "metadata": {
    "ExecuteTime": {
     "end_time": "2018-01-17T12:03:49.456364Z",
     "start_time": "2018-01-17T12:03:49.449569Z"
    }
   },
   "outputs": [
    {
     "data": {
      "text/plain": [
       "<bound method Block.collect_params of Sequential(\n",
       "  (0): Dense(None -> 128, Activation(relu))\n",
       "  (1): Dense(None -> 64, Activation(relu))\n",
       "  (2): Dense(None -> 10, linear)\n",
       ")>"
      ]
     },
     "execution_count": 10,
     "metadata": {},
     "output_type": "execute_result"
    }
   ],
   "source": [
    "net2.collect_params"
   ]
  },
  {
   "cell_type": "markdown",
   "metadata": {},
   "source": [
    "我们可以通过``in_units``来指定输入维度，这样MXNet就不会进行shape inference了"
   ]
  },
  {
   "cell_type": "code",
   "execution_count": 11,
   "metadata": {
    "ExecuteTime": {
     "end_time": "2018-01-17T12:03:49.469254Z",
     "start_time": "2018-01-17T12:03:49.460521Z"
    }
   },
   "outputs": [],
   "source": [
    "net3 = gluon.nn.Sequential()\n",
    "with net3.name_scope():\n",
    "    net3.add(gluon.nn.Dense(128, in_units=784, activation=\"relu\"))\n",
    "    net3.add(gluon.nn.Dense(64, in_units=128, activation=\"relu\"))\n",
    "    net3.add(gluon.nn.Dense(10))"
   ]
  }
 ],
 "metadata": {
  "kernelspec": {
   "display_name": "Python 3",
   "language": "python",
   "name": "python3"
  },
  "language_info": {
   "codemirror_mode": {
    "name": "ipython",
    "version": 3
   },
   "file_extension": ".py",
   "mimetype": "text/x-python",
   "name": "python",
   "nbconvert_exporter": "python",
   "pygments_lexer": "ipython3",
   "version": "3.5.2"
  },
  "latex_envs": {
   "LaTeX_envs_menu_present": true,
   "autocomplete": true,
   "bibliofile": "biblio.bib",
   "cite_by": "apalike",
   "current_citInitial": 1,
   "eqLabelWithNumbers": true,
   "eqNumInitial": 1,
   "hotkeys": {
    "equation": "Ctrl-E",
    "itemize": "Ctrl-I"
   },
   "labels_anchors": false,
   "latex_user_defs": false,
   "report_style_numbering": false,
   "user_envs_cfg": false
  }
 },
 "nbformat": 4,
 "nbformat_minor": 2
}
