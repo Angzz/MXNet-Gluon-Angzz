{
 "cells": [
  {
   "cell_type": "markdown",
   "metadata": {},
   "source": [
    "# 使用``gluon``的梯度下降\n",
    "\n",
    "我们要拟合的式子为：\n",
    "\n",
    "$$Y = 2 \\times X_1 - 3.4 \\times X_2 + 4.2$$\n",
    "\n",
    "下面我们用线性回归的例子来进行梯度下降。"
   ]
  },
  {
   "cell_type": "code",
   "execution_count": 1,
   "metadata": {
    "ExecuteTime": {
     "end_time": "2018-01-27T08:29:48.933453Z",
     "start_time": "2018-01-27T08:29:48.081681Z"
    }
   },
   "outputs": [],
   "source": [
    "import mxnet as mx\n",
    "import numpy as np\n",
    "\n",
    "%matplotlib inline\n",
    "import matplotlib as mlt\n",
    "mlt.rcParams['figure.dpi'] = 120\n",
    "import matplotlib.pyplot as plt\n",
    "\n",
    "\n",
    "from mxnet import nd\n",
    "from mxnet import gluon\n",
    "from mxnet import autograd\n",
    "\n",
    "ctx = mx.cpu()"
   ]
  },
  {
   "cell_type": "code",
   "execution_count": 2,
   "metadata": {
    "ExecuteTime": {
     "end_time": "2018-01-27T08:29:48.961473Z",
     "start_time": "2018-01-27T08:29:48.939004Z"
    }
   },
   "outputs": [],
   "source": [
    "true_w = [2.0, -3.4]\n",
    "true_b = 4.2\n",
    "\n",
    "num_examples = 1000\n",
    "num_outputs = 1\n",
    "num_inputs = 2\n",
    "\n",
    "X = nd.random.normal(shape=(num_examples, num_inputs))\n",
    "y = true_w[0] * X[:, 0] + true_w[1] * X[:, 1] + true_b\n",
    "y += 0.01 * nd.random.normal(shape=num_examples)\n",
    "\n",
    "def get_net():\n",
    "    net = gluon.nn.Sequential()\n",
    "    with net.name_scope():\n",
    "        net.add(gluon.nn.Dense(1))\n",
    "    net.initialize()\n",
    "    return net\n",
    "\n",
    "square_loss = gluon.loss.L2Loss()"
   ]
  },
  {
   "cell_type": "code",
   "execution_count": 3,
   "metadata": {
    "ExecuteTime": {
     "end_time": "2018-01-27T08:29:49.025168Z",
     "start_time": "2018-01-27T08:29:48.967789Z"
    }
   },
   "outputs": [],
   "source": [
    "'''\n",
    "period : 在每个batch_size中每隔period次就往total_loss中加入一次\n",
    "'''\n",
    "def train(batch_size, lr, epochs, period):\n",
    "    assert period >= batch_size and period % batch_size == 0\n",
    "    net = get_net()\n",
    "    trainer = gluon.Trainer(net.collect_params(), 'sgd', {'learning_rate': lr})\n",
    "    # load data\n",
    "    data_iter = gluon.data.DataLoader(gluon.data.ArrayDataset(X, y), batch_size=batch_size, shuffle=True)\n",
    "    \n",
    "    total_loss = [nd.mean(square_loss(net(X), y)).asnumpy()]\n",
    "    for epoch in range(epochs):\n",
    "        if epoch > 2:\n",
    "            trainer.set_learning_rate(train.learning_rate * .1)\n",
    "        for batch_i, (data, label) in enumerate(data_iter):\n",
    "            with autograd.record():\n",
    "                output = net(data)\n",
    "                loss = square_loss(output, label)\n",
    "            loss.backward()\n",
    "            trainer.step(batch_size)\n",
    "            \n",
    "            if not batch_i * batch_size % period:\n",
    "                total_loss.append(nd.mean(square_loss(net(X), y)).asnumpy())\n",
    "                \n",
    "        print(\"Epoch : %d, lr : %d, Train loss : %.5f.\" % (epoch, lr, total_loss[-1]))\n",
    "        print(\"W : %s, b : %s.\" % (net[0].weight.data().asnumpy(), net[0].bias.data().asnumpy()))\n",
    "        \n",
    "    xlabel = np.linspace(0, epochs, len(total_loss), endpoint=True)\n",
    "    plt.semilogy(xlabel, total_loss, color=\"b\")\n",
    "    plt.xlabel('Epoch')\n",
    "    plt.ylabel('Loss')\n",
    "    plt.show()"
   ]
  },
  {
   "cell_type": "code",
   "execution_count": 4,
   "metadata": {
    "ExecuteTime": {
     "end_time": "2018-01-27T08:29:53.330585Z",
     "start_time": "2018-01-27T08:29:49.031359Z"
    }
   },
   "outputs": [
    {
     "name": "stdout",
     "output_type": "stream",
     "text": [
      "Epoch : 0, lr : 0, Train loss : 0.00007.\n",
      "W : [[ 2.00852823 -3.39723754]], b : [ 4.20100069].\n",
      "Epoch : 1, lr : 0, Train loss : 0.00005.\n",
      "W : [[ 2.00406337 -3.40064001]], b : [ 4.19800329].\n",
      "Epoch : 2, lr : 0, Train loss : 0.00005.\n",
      "W : [[ 2.0003159  -3.40089989]], b : [ 4.20104694].\n"
     ]
    },
    {
     "data": {
      "image/png": "[encoded data removed]",
      "text/plain": [
       "<matplotlib.figure.Figure at 0x7fb72d3fae80>"
      ]
     },
     "metadata": {},
     "output_type": "display_data"
    }
   ],
   "source": [
    "train(batch_size=1, lr=0.1, epochs=3, period=10)"
   ]
  },
  {
   "cell_type": "code",
   "execution_count": 5,
   "metadata": {
    "ExecuteTime": {
     "end_time": "2018-01-27T08:29:53.800298Z",
     "start_time": "2018-01-27T08:29:53.336719Z"
    }
   },
   "outputs": [
    {
     "name": "stdout",
     "output_type": "stream",
     "text": [
      "Epoch : 0, lr : 0, Train loss : 0.00609.\n",
      "W : [[ 2.04762292 -3.42867017]], b : [ 4.29388762].\n",
      "Epoch : 1, lr : 0, Train loss : 0.00005.\n",
      "W : [[ 1.99688554 -3.3984828 ]], b : [ 4.20001793].\n",
      "Epoch : 2, lr : 0, Train loss : 0.00005.\n",
      "W : [[ 2.000139   -3.39981198]], b : [ 4.20027208].\n"
     ]
    },
    {
     "data": {
      "image/png": "[encoded data removed]",
      "text/plain": [
       "<matplotlib.figure.Figure at 0x7fb6f830fa20>"
      ]
     },
     "metadata": {},
     "output_type": "display_data"
    }
   ],
   "source": [
    "train(batch_size=1000, lr=0.999, epochs=3, period=1000)"
   ]
  },
  {
   "cell_type": "code",
   "execution_count": 6,
   "metadata": {
    "ExecuteTime": {
     "end_time": "2018-01-27T08:29:54.661434Z",
     "start_time": "2018-01-27T08:29:53.806185Z"
    }
   },
   "outputs": [
    {
     "name": "stdout",
     "output_type": "stream",
     "text": [
      "Epoch : 0, lr : 0, Train loss : 0.00005.\n",
      "W : [[ 2.00211477 -3.40103531]], b : [ 4.20133638].\n",
      "Epoch : 1, lr : 0, Train loss : 0.00005.\n",
      "W : [[ 1.99975622 -3.40137935]], b : [ 4.19817781].\n",
      "Epoch : 2, lr : 0, Train loss : 0.00005.\n",
      "W : [[ 1.99905753 -3.40126777]], b : [ 4.19974709].\n"
     ]
    },
    {
     "data": {
      "image/png": "[encoded data removed]",
      "text/plain": [
       "<matplotlib.figure.Figure at 0x7fb6f82363c8>"
      ]
     },
     "metadata": {},
     "output_type": "display_data"
    }
   ],
   "source": [
    "train(batch_size=10, lr=0.2, epochs=3, period=100)"
   ]
  },
  {
   "cell_type": "code",
   "execution_count": 7,
   "metadata": {
    "ExecuteTime": {
     "end_time": "2018-01-27T08:29:55.441317Z",
     "start_time": "2018-01-27T08:29:54.667114Z"
    }
   },
   "outputs": [
    {
     "name": "stdout",
     "output_type": "stream",
     "text": [
      "Epoch : 0, lr : 5, Train loss : nan.\n",
      "W : [[ nan  nan]], b : [ nan].\n",
      "Epoch : 1, lr : 5, Train loss : nan.\n",
      "W : [[ nan  nan]], b : [ nan].\n",
      "Epoch : 2, lr : 5, Train loss : nan.\n",
      "W : [[ nan  nan]], b : [ nan].\n"
     ]
    },
    {
     "name": "stderr",
     "output_type": "stream",
     "text": [
      "/home/liang/.virtualenvs/liang-jupyter/lib/python3.5/site-packages/matplotlib/scale.py:111: RuntimeWarning: invalid value encountered in less_equal\n",
      "  out[a <= 0] = -1000\n"
     ]
    },
    {
     "data": {
      "image/png": "[encoded data removed]",
      "text/plain": [
       "<matplotlib.figure.Figure at 0x7fb734b36400>"
      ]
     },
     "metadata": {},
     "output_type": "display_data"
    }
   ],
   "source": [
    "train(batch_size=10, lr=5, epochs=3, period=100)"
   ]
  }
 ],
 "metadata": {
  "kernelspec": {
   "display_name": "Python 3",
   "language": "python",
   "name": "python3"
  },
  "language_info": {
   "codemirror_mode": {
    "name": "ipython",
    "version": 3
   },
   "file_extension": ".py",
   "mimetype": "text/x-python",
   "name": "python",
   "nbconvert_exporter": "python",
   "pygments_lexer": "ipython3",
   "version": "3.5.2"
  },
  "latex_envs": {
   "LaTeX_envs_menu_present": true,
   "autocomplete": true,
   "bibliofile": "biblio.bib",
   "cite_by": "apalike",
   "current_citInitial": 1,
   "eqLabelWithNumbers": true,
   "eqNumInitial": 1,
   "hotkeys": {
    "equation": "Ctrl-E",
    "itemize": "Ctrl-I"
   },
   "labels_anchors": false,
   "latex_user_defs": false,
   "report_style_numbering": false,
   "user_envs_cfg": false
  }
 },
 "nbformat": 4,
 "nbformat_minor": 2
}
