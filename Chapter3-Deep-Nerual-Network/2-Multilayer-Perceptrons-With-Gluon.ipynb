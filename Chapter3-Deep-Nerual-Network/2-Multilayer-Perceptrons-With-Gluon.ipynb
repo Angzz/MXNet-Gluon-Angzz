{
 "cells": [
  {
   "cell_type": "markdown",
   "metadata": {},
   "source": [
    "# 使用``gluon``重新看待多层感知机\n",
    "\n",
    "在``gluon``中有两种方式来定义多层神经网络\n",
    "\n",
    "1.使用``gluon.Block``，所有的模块都集成自``block``.\n",
    "\n",
    "2.使用``gluon.nn.Sequential()``来堆叠网络."
   ]
  },
  {
   "cell_type": "code",
   "execution_count": 5,
   "metadata": {
    "ExecuteTime": {
     "end_time": "2018-01-17T08:51:49.351771Z",
     "start_time": "2018-01-17T08:51:49.340907Z"
    }
   },
   "outputs": [],
   "source": [
    "import numpy as np\n",
    "import mxnet as mx\n",
    "\n",
    "from mxnet import nd\n",
    "from mxnet import gluon\n",
    "from mxnet import autograd\n",
    "\n",
    "import utils"
   ]
  },
  {
   "cell_type": "code",
   "execution_count": 6,
   "metadata": {
    "ExecuteTime": {
     "end_time": "2018-01-17T08:51:49.990393Z",
     "start_time": "2018-01-17T08:51:49.983797Z"
    }
   },
   "outputs": [],
   "source": [
    "ctx = mx.cpu()"
   ]
  },
  {
   "cell_type": "code",
   "execution_count": 7,
   "metadata": {
    "ExecuteTime": {
     "end_time": "2018-01-17T08:51:51.530020Z",
     "start_time": "2018-01-17T08:51:50.268781Z"
    }
   },
   "outputs": [],
   "source": [
    "batch_size = 128\n",
    "num_inputs = 784\n",
    "num_outputs = 10\n",
    "num_examples = 60000\n",
    "\n",
    "train_data, test_data = utils.load_dataset(batch_size, data_type=\"fashion_mnist\")"
   ]
  },
  {
   "cell_type": "markdown",
   "metadata": {},
   "source": [
    "## 1.使用``gluon.Block``"
   ]
  },
  {
   "cell_type": "code",
   "execution_count": 8,
   "metadata": {
    "ExecuteTime": {
     "end_time": "2018-01-17T08:51:52.780908Z",
     "start_time": "2018-01-17T08:51:52.746081Z"
    }
   },
   "outputs": [],
   "source": [
    "class MLP(gluon.Block):\n",
    "    def __init__(self, **kwargs):\n",
    "        super(MLP, self).__init__(**kwargs)\n",
    "        self.dense0 = gluon.nn.Dense(64)\n",
    "        self.dense1 = gluon.nn.Dense(64)\n",
    "        self.dense2 = gluon.nn.Dense(10)\n",
    "        \n",
    "    def forward(self, X):\n",
    "        X = self.dense0(X)\n",
    "        print(\"Hidden1 X : \", X.shape)\n",
    "        X = self.dense1(X)\n",
    "        print(\"Hidden2 X : \", X.shape)\n",
    "        X = self.dense2(X)\n",
    "        print(\"Output X : \", X.shape)\n",
    "        return X"
   ]
  },
  {
   "cell_type": "code",
   "execution_count": 9,
   "metadata": {
    "ExecuteTime": {
     "end_time": "2018-01-17T08:51:53.668635Z",
     "start_time": "2018-01-17T08:51:53.655328Z"
    }
   },
   "outputs": [],
   "source": [
    "net = MLP()\n",
    "net.collect_params().initialize(mx.init.Normal(sigma=.01))"
   ]
  },
  {
   "cell_type": "code",
   "execution_count": 10,
   "metadata": {
    "ExecuteTime": {
     "end_time": "2018-01-17T08:51:53.886117Z",
     "start_time": "2018-01-17T08:51:53.838938Z"
    }
   },
   "outputs": [
    {
     "name": "stdout",
     "output_type": "stream",
     "text": [
      "Hidden1 X :  (64, 64)\n",
      "Hidden2 X :  (64, 64)\n",
      "Output X :  (64, 10)\n"
     ]
    },
    {
     "data": {
      "text/plain": [
       "(64, 10)"
      ]
     },
     "execution_count": 10,
     "metadata": {},
     "output_type": "execute_result"
    }
   ],
   "source": [
    "# test shape\n",
    "a = nd.ones((64, 784))\n",
    "output = net(a)\n",
    "output.shape"
   ]
  },
  {
   "cell_type": "markdown",
   "metadata": {},
   "source": [
    "## 2.使用``gluon.nn.Sequential``"
   ]
  },
  {
   "cell_type": "code",
   "execution_count": 11,
   "metadata": {
    "ExecuteTime": {
     "end_time": "2018-01-17T08:51:54.999900Z",
     "start_time": "2018-01-17T08:51:54.977433Z"
    }
   },
   "outputs": [],
   "source": [
    "net = gluon.nn.Sequential()\n",
    "with net.name_scope():\n",
    "    net.add(gluon.nn.Flatten())\n",
    "    net.add(gluon.nn.Dense(256, activation='relu'))\n",
    "    net.add(gluon.nn.Dense(256, activation='relu'))\n",
    "    net.add(gluon.nn.Dense(10))\n",
    "    \n",
    "net.collect_params().initialize(mx.init.Normal(sigma=.01))"
   ]
  },
  {
   "cell_type": "code",
   "execution_count": 12,
   "metadata": {
    "ExecuteTime": {
     "end_time": "2018-01-17T08:51:55.194207Z",
     "start_time": "2018-01-17T08:51:55.183644Z"
    }
   },
   "outputs": [],
   "source": [
    "softmax_cross_entropy = gluon.loss.SoftmaxCrossEntropyLoss()"
   ]
  },
  {
   "cell_type": "code",
   "execution_count": 13,
   "metadata": {
    "ExecuteTime": {
     "end_time": "2018-01-17T08:51:56.033775Z",
     "start_time": "2018-01-17T08:51:56.025052Z"
    }
   },
   "outputs": [],
   "source": [
    "learning_rate = 0.1\n",
    "weight_decay = 0.01\n",
    "trainer = gluon.Trainer(net.collect_params(), 'sgd', {'learning_rate': learning_rate})"
   ]
  },
  {
   "cell_type": "code",
   "execution_count": 14,
   "metadata": {
    "ExecuteTime": {
     "end_time": "2018-01-17T08:52:03.080718Z",
     "start_time": "2018-01-17T08:51:56.176085Z"
    },
    "scrolled": true
   },
   "outputs": [
    {
     "data": {
      "text/plain": [
       "0.1027"
      ]
     },
     "execution_count": 14,
     "metadata": {},
     "output_type": "execute_result"
    }
   ],
   "source": [
    "utils.evaluate_accuracy_gluon(test_data, net, ctx)"
   ]
  },
  {
   "cell_type": "code",
   "execution_count": null,
   "metadata": {
    "ExecuteTime": {
     "start_time": "2018-01-17T08:52:53.256Z"
    }
   },
   "outputs": [
    {
     "name": "stdout",
     "output_type": "stream",
     "text": [
      "Epoch 0, Train loss 1.15925387847, Train acc 0.752133, Test acc 0.7455.\n",
      "Epoch 1, Train loss 0.618777207756, Train acc 0.82075, Test acc 0.8198.\n",
      "Epoch 2, Train loss 0.508218743642, Train acc 0.834683, Test acc 0.8325.\n",
      "Epoch 3, Train loss 0.452119665305, Train acc 0.85165, Test acc 0.8527.\n",
      "Epoch 4, Train loss 0.414959046936, Train acc 0.863767, Test acc 0.859.\n",
      "Epoch 5, Train loss 0.390483329391, Train acc 0.866017, Test acc 0.8569.\n",
      "Epoch 6, Train loss 0.369221753915, Train acc 0.876817, Test acc 0.8703.\n",
      "Epoch 7, Train loss 0.355839974435, Train acc 0.8774, Test acc 0.8686.\n",
      "Epoch 8, Train loss 0.341571791744, Train acc 0.884767, Test acc 0.8754.\n"
     ]
    }
   ],
   "source": [
    "epochs = 10\n",
    "\n",
    "for epoch in range(epochs):\n",
    "    cumulative_loss = .0\n",
    "    for i, (data, label) in enumerate(train_data):\n",
    "        data = data.as_in_context(ctx)\n",
    "        label = label.as_in_context(ctx)\n",
    "        with autograd.record():\n",
    "            output = net(data)   \n",
    "            loss = softmax_cross_entropy(output, label)\n",
    "        loss.backward()\n",
    "        trainer.step(batch_size)\n",
    "        cumulative_loss += nd.sum(loss).asscalar()\n",
    "        \n",
    "    train_acc = utils.evaluate_accuracy_scratch(train_data, net, ctx)\n",
    "    test_acc = utils.evaluate_accuracy_scratch(test_data, net, ctx)\n",
    "    \n",
    "    print(\"Epoch %s, Train loss %s, Train acc %s, Test acc %s.\" \n",
    "          % (epoch, cumulative_loss / num_examples, train_acc, test_acc))"
   ]
  }
 ],
 "metadata": {
  "kernelspec": {
   "display_name": "Python 3",
   "language": "python",
   "name": "python3"
  },
  "language_info": {
   "codemirror_mode": {
    "name": "ipython",
    "version": 3
   },
   "file_extension": ".py",
   "mimetype": "text/x-python",
   "name": "python",
   "nbconvert_exporter": "python",
   "pygments_lexer": "ipython3",
   "version": "3.5.2"
  },
  "latex_envs": {
   "LaTeX_envs_menu_present": true,
   "autocomplete": true,
   "bibliofile": "biblio.bib",
   "cite_by": "apalike",
   "current_citInitial": 1,
   "eqLabelWithNumbers": true,
   "eqNumInitial": 1,
   "hotkeys": {
    "equation": "Ctrl-E",
    "itemize": "Ctrl-I"
   },
   "labels_anchors": false,
   "latex_user_defs": false,
   "report_style_numbering": false,
   "user_envs_cfg": false
  }
 },
 "nbformat": 4,
 "nbformat_minor": 2
}
