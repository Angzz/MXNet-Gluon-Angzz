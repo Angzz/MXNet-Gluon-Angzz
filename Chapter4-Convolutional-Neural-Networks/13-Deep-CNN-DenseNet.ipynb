{
 "cells": [
  {
   "cell_type": "markdown",
   "metadata": {},
   "source": [
    "# Densely Connected Convolutional Networks\n",
    "\n",
    "# 稠密连接的卷积神经网络\n",
    "\n",
    "<img src=\"../img/Chapter4-Convolutional-Neural-Networks/4-15.png\" width=\"450\">\n",
    "\n",
    "## DenseNet在ImageNet上的网络参数\n",
    "\n",
    "<img src=\"../img/Chapter4-Convolutional-Neural-Networks/4-16.png\" width=\"700\">"
   ]
  },
  {
   "cell_type": "code",
   "execution_count": 1,
   "metadata": {
    "ExecuteTime": {
     "end_time": "2018-02-10T10:22:35.171840Z",
     "start_time": "2018-02-10T10:22:34.709948Z"
    }
   },
   "outputs": [],
   "source": [
    "import mxnet as mx\n",
    "\n",
    "from mxnet import nd\n",
    "from mxnet import gluon\n",
    "from mxnet import autograd\n",
    "\n",
    "import sys\n",
    "sys.path.append('..')\n",
    "import utils\n",
    "\n",
    "ctx = mx.gpu()"
   ]
  },
  {
   "cell_type": "code",
   "execution_count": 2,
   "metadata": {
    "ExecuteTime": {
     "end_time": "2018-02-10T10:22:36.829667Z",
     "start_time": "2018-02-10T10:22:36.821474Z"
    }
   },
   "outputs": [],
   "source": [
    "def BN_ReLU_CONV(channels):\n",
    "    net = gluon.nn.Sequential()\n",
    "    with net.name_scope():\n",
    "        net.add(gluon.nn.BatchNorm(axis=1))\n",
    "        net.add(gluon.nn.Activation('relu'))\n",
    "        net.add(gluon.nn.Conv2D(channels, kernel_size=3, padding=1))\n",
    "    return net"
   ]
  },
  {
   "cell_type": "code",
   "execution_count": 3,
   "metadata": {
    "ExecuteTime": {
     "end_time": "2018-02-10T10:22:37.174713Z",
     "start_time": "2018-02-10T10:22:37.161122Z"
    }
   },
   "outputs": [],
   "source": [
    "'''\n",
    "layers : 该DenseBlock有几层\n",
    "growth_rate : 每层有几个输出通道\n",
    "'''\n",
    "class DenseBlock(gluon.Block):\n",
    "    def __init__(self, layers, growth_rate, **kwargs):\n",
    "        super().__init__(**kwargs)\n",
    "        self.net = gluon.nn.Sequential()\n",
    "        for i in range(layers):\n",
    "            self.net.add(BN_ReLU_CONV(growth_rate))\n",
    "            \n",
    "    def forward(self, X):\n",
    "        for blk in self.net:\n",
    "            out = blk(X)\n",
    "            X = nd.concat(X, out, dim=1)\n",
    "        return X"
   ]
  },
  {
   "cell_type": "code",
   "execution_count": null,
   "metadata": {
    "ExecuteTime": {
     "end_time": "2018-02-10T10:23:22.960434Z",
     "start_time": "2018-02-10T10:23:22.876674Z"
    }
   },
   "outputs": [],
   "source": [
    "blk = DenseBlock(6, 12)\n",
    "blk.initialize(ctx=ctx)\n",
    "X = nd.random.uniform(shape=(1, 3, 32, 32), ctx=ctx)\n",
    "blk(X).shape "
   ]
  },
  {
   "cell_type": "code",
   "execution_count": 5,
   "metadata": {
    "ExecuteTime": {
     "end_time": "2018-01-27T02:36:14.686766Z",
     "start_time": "2018-01-27T02:36:14.682099Z"
    }
   },
   "outputs": [],
   "source": [
    "# 过渡层的作用是每次将通道数减半\n",
    "def TransitionLayer(channels):\n",
    "    net = gluon.nn.Sequential()\n",
    "    with net.name_scope():\n",
    "        net.add(gluon.nn.BatchNorm(axis=1))\n",
    "        net.add(gluon.nn.Conv2D(channels, kernel_size=1))\n",
    "        net.add(gluon.nn.AvgPool2D(pool_size=2))\n",
    "    return net"
   ]
  },
  {
   "cell_type": "code",
   "execution_count": 6,
   "metadata": {
    "ExecuteTime": {
     "end_time": "2018-01-27T02:36:14.710544Z",
     "start_time": "2018-01-27T02:36:14.687903Z"
    }
   },
   "outputs": [
    {
     "data": {
      "text/plain": [
       "(1, 12, 28, 28)"
      ]
     },
     "execution_count": 6,
     "metadata": {},
     "output_type": "execute_result"
    }
   ],
   "source": [
    "layer = TransitionLayer(12)\n",
    "layer.initialize(ctx=ctx)\n",
    "Y = nd.random.uniform(shape=(1, 3, 56, 56), ctx=ctx)\n",
    "layer(Y).shape"
   ]
  },
  {
   "cell_type": "code",
   "execution_count": 7,
   "metadata": {
    "ExecuteTime": {
     "end_time": "2018-01-27T02:36:14.758183Z",
     "start_time": "2018-01-27T02:36:14.712982Z"
    }
   },
   "outputs": [],
   "source": [
    "'''\n",
    "num_classes : 分类类别数\n",
    "init_channels : 初始通道数\n",
    "dense_channels : 每个DenseBlock的通道数，是一个list\n",
    "verbose : 输出调试信息\n",
    "'''\n",
    "class DenseNet121(gluon.Block):\n",
    "    def __init__(self, num_classes, dense_blk, init_channels, verbose=True, **kwargs):\n",
    "        super().__init__(**kwargs)\n",
    "        self.verbose = verbose \n",
    "        self.net = gluon.nn.Sequential()\n",
    "        with self.name_scope():\n",
    "            \n",
    "            # Conv Layer \n",
    "            b1 = gluon.nn.Sequential()\n",
    "            b1.add(\n",
    "                gluon.nn.BatchNorm(axis=1),\n",
    "                gluon.nn.Activation('relu'),\n",
    "                gluon.nn.Conv2D(init_channels, kernel_size=7, strides=2, padding=3),\n",
    "                gluon.nn.MaxPool2D(pool_size=3, strides=2, padding=1)\n",
    "            )\n",
    "            self.net.add(b1)\n",
    "            \n",
    "            # DenseNet Layer \n",
    "            for i in range(len(dense_blk)):\n",
    "                blk = gluon.nn.Sequential()\n",
    "                init_channels //= 2\n",
    "                if i != len(dense_blk)-1:\n",
    "                    blk.add(\n",
    "                        DenseBlock(dense_blk[i], growth_rate=32),\n",
    "                        TransitionLayer(init_channels)\n",
    "                    )\n",
    "                else:\n",
    "                     blk.add(DenseBlock(dense_blk[i], growth_rate=32))\n",
    "                self.net.add(blk)\n",
    "                \n",
    "            # classification layer \n",
    "            b2 = gluon.nn.Sequential()\n",
    "            b2.add(\n",
    "                gluon.nn.AvgPool2D(pool_size=7, strides=1),\n",
    "                gluon.nn.Flatten(),\n",
    "                gluon.nn.Dense(num_classes)\n",
    "            )\n",
    "            self.net.add(b2)\n",
    "            \n",
    "    def forward(self, X):\n",
    "        out = X\n",
    "        for i, blk in enumerate(self.net):\n",
    "            out = blk(out)\n",
    "            if self.verbose:\n",
    "                print(\"blk %d : %s\" % (i+1, out.shape))\n",
    "        return out"
   ]
  },
  {
   "cell_type": "code",
   "execution_count": 8,
   "metadata": {
    "ExecuteTime": {
     "end_time": "2018-01-27T02:36:16.411260Z",
     "start_time": "2018-01-27T02:36:14.759413Z"
    }
   },
   "outputs": [
    {
     "name": "stdout",
     "output_type": "stream",
     "text": [
      "blk 1 : (32, 64, 56, 56)\n",
      "blk 2 : (32, 32, 28, 28)\n",
      "blk 3 : (32, 16, 14, 14)\n",
      "blk 4 : (32, 8, 7, 7)\n",
      "blk 5 : (32, 520, 7, 7)\n",
      "blk 6 : (32, 10)\n"
     ]
    }
   ],
   "source": [
    "densenet = DenseNet121(num_classes=10, dense_blk=[6, 12, 24, 16], init_channels=64, verbose=True)\n",
    "densenet.initialize(ctx=ctx)\n",
    "X = nd.random.uniform(shape=(32, 3, 224, 224), ctx=ctx)\n",
    "y = densenet(X)"
   ]
  },
  {
   "cell_type": "code",
   "execution_count": 9,
   "metadata": {
    "ExecuteTime": {
     "end_time": "2018-01-27T04:37:08.718225Z",
     "start_time": "2018-01-27T02:36:16.412372Z"
    }
   },
   "outputs": [
    {
     "name": "stdout",
     "output_type": "stream",
     "text": [
      "Epoch 0, Moving Train Avg loss 1.39727, Train acc 0.45404, Test acc 0.45500, Time consume 363.58925 s.\n",
      "Epoch 1, Moving Train Avg loss 1.12915, Train acc 0.60822, Test acc 0.59510, Time consume 362.88870 s.\n",
      "Epoch 2, Moving Train Avg loss 0.91204, Train acc 0.67750, Test acc 0.66200, Time consume 363.14153 s.\n",
      "Epoch 3, Moving Train Avg loss 0.86925, Train acc 0.73832, Test acc 0.70940, Time consume 362.99581 s.\n",
      "Epoch 4, Moving Train Avg loss 0.73567, Train acc 0.81442, Test acc 0.76830, Time consume 363.15373 s.\n",
      "Epoch 5, Moving Train Avg loss 0.61311, Train acc 0.80320, Test acc 0.75470, Time consume 363.25171 s.\n",
      "Epoch 6, Moving Train Avg loss 0.51046, Train acc 0.84870, Test acc 0.78860, Time consume 363.21021 s.\n",
      "Epoch 7, Moving Train Avg loss 0.52230, Train acc 0.84722, Test acc 0.78430, Time consume 362.94565 s.\n",
      "Epoch 8, Moving Train Avg loss 0.38691, Train acc 0.86562, Test acc 0.79670, Time consume 362.78417 s.\n",
      "Epoch 9, Moving Train Avg loss 0.41949, Train acc 0.87454, Test acc 0.80260, Time consume 362.53351 s.\n",
      "Epoch 10, Moving Train Avg loss 0.41316, Train acc 0.90704, Test acc 0.81640, Time consume 362.18916 s.\n",
      "Epoch 11, Moving Train Avg loss 0.35971, Train acc 0.86744, Test acc 0.78090, Time consume 362.19037 s.\n",
      "Epoch 12, Moving Train Avg loss 0.28128, Train acc 0.93052, Test acc 0.83380, Time consume 362.07119 s.\n",
      "Epoch 13, Moving Train Avg loss 0.20238, Train acc 0.92184, Test acc 0.81800, Time consume 362.01687 s.\n",
      "Epoch 14, Moving Train Avg loss 0.25986, Train acc 0.91380, Test acc 0.80500, Time consume 362.04895 s.\n",
      "Epoch 15, Moving Train Avg loss 0.21598, Train acc 0.93740, Test acc 0.81740, Time consume 361.98436 s.\n",
      "Epoch 16, Moving Train Avg loss 0.24048, Train acc 0.93412, Test acc 0.81310, Time consume 362.10867 s.\n",
      "Epoch 17, Moving Train Avg loss 0.17448, Train acc 0.95992, Test acc 0.82560, Time consume 362.05109 s.\n",
      "Epoch 18, Moving Train Avg loss 0.12862, Train acc 0.95160, Test acc 0.81760, Time consume 362.02780 s.\n",
      "Epoch 19, Moving Train Avg loss 0.18198, Train acc 0.93400, Test acc 0.80200, Time consume 362.25035 s.\n"
     ]
    }
   ],
   "source": [
    "from time import time\n",
    "\n",
    "batch_size = 32\n",
    "train_data, test_data = utils.load_dataset(batch_size, resize=224, data_type='cifar10')\n",
    "\n",
    "densenet = DenseNet121(num_classes=10, dense_blk=[6, 12, 24, 16], init_channels=64, verbose=False)\n",
    "densenet.collect_params().initialize(mx.init.Xavier(), ctx=ctx, force_reinit=True)\n",
    "\n",
    "softmax_cross_entropy = gluon.loss.SoftmaxCrossEntropyLoss()\n",
    "\n",
    "learning_rate = 0.1\n",
    "trainer = gluon.Trainer(densenet.collect_params(), 'sgd', {'learning_rate' : learning_rate})\n",
    "\n",
    "epochs = 20\n",
    "\n",
    "niter = 0\n",
    "moving_loss = 0.0\n",
    "smoothing_constant = 0.9\n",
    "\n",
    "from time import time\n",
    "for epoch in range(epochs):\n",
    "    start = time()\n",
    "    for i, (data, label) in enumerate(train_data):\n",
    "        data = data.as_in_context(ctx)\n",
    "        label = label.as_in_context(ctx)\n",
    "        with autograd.record():\n",
    "            output = densenet(data)\n",
    "            loss = softmax_cross_entropy(output, label)\n",
    "        loss.backward()\n",
    "        trainer.step(batch_size)\n",
    "        \n",
    "        niter += 1\n",
    "        curr_loss = nd.mean(loss).asscalar()\n",
    "        moving_loss = smoothing_constant * moving_loss + (1-smoothing_constant) * curr_loss\n",
    "        estimated_loss = moving_loss / (1 - smoothing_constant**niter)\n",
    "    \n",
    "    if not (epoch+1)%5:\n",
    "        learning_rate /= 10\n",
    "    \n",
    "    train_acc = utils.evaluate_accuracy_gluon(train_data, densenet, ctx)\n",
    "    test_acc = utils.evaluate_accuracy_gluon(test_data, densenet, ctx)\n",
    "    print(\"Epoch %d, Moving Train Avg loss %.5f, Train acc %.5f, Test acc %.5f, Time consume %.5f s.\"\n",
    "         % (epoch, estimated_loss, train_acc, test_acc, time() - start))"
   ]
  }
 ],
 "metadata": {
  "kernelspec": {
   "display_name": "Python 3",
   "language": "python",
   "name": "python3"
  },
  "language_info": {
   "codemirror_mode": {
    "name": "ipython",
    "version": 3
   },
   "file_extension": ".py",
   "mimetype": "text/x-python",
   "name": "python",
   "nbconvert_exporter": "python",
   "pygments_lexer": "ipython3",
   "version": "3.5.2"
  },
  "latex_envs": {
   "LaTeX_envs_menu_present": true,
   "autoclose": false,
   "autocomplete": true,
   "bibliofile": "biblio.bib",
   "cite_by": "apalike",
   "current_citInitial": 1,
   "eqLabelWithNumbers": true,
   "eqNumInitial": 1,
   "hotkeys": {
    "equation": "Ctrl-E",
    "itemize": "Ctrl-I"
   },
   "labels_anchors": false,
   "latex_user_defs": false,
   "report_style_numbering": false,
   "user_envs_cfg": false
  }
 },
 "nbformat": 4,
 "nbformat_minor": 2
}
