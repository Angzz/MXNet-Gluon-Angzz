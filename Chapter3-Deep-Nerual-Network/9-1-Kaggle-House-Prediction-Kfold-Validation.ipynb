{
 "cells": [
  {
   "cell_type": "markdown",
   "metadata": {},
   "source": [
    "# 使用``gluon``预测房价和K折交叉验证 (实战篇)"
   ]
  },
  {
   "cell_type": "code",
   "execution_count": 1,
   "metadata": {
    "ExecuteTime": {
     "end_time": "2018-01-19T02:05:13.041833Z",
     "start_time": "2018-01-19T02:05:12.034909Z"
    }
   },
   "outputs": [],
   "source": [
    "import mxnet as mx\n",
    "import numpy as np\n",
    "import pandas as pd\n",
    "\n",
    "from mxnet import nd\n",
    "from mxnet import gluon\n",
    "from mxnet import autograd\n",
    "mx.random.seed(1)\n",
    "\n",
    "ctx = mx.cpu()\n",
    "\n",
    "%matplotlib inline \n",
    "import matplotlib.pyplot as plt"
   ]
  },
  {
   "cell_type": "markdown",
   "metadata": {},
   "source": [
    "## 加载数据"
   ]
  },
  {
   "cell_type": "code",
   "execution_count": 2,
   "metadata": {
    "ExecuteTime": {
     "end_time": "2018-01-19T02:05:13.108702Z",
     "start_time": "2018-01-19T02:05:13.047560Z"
    }
   },
   "outputs": [],
   "source": [
    "train_data = pd.read_csv('../data/house_prediction/train.csv')\n",
    "test_data = pd.read_csv('../data/house_prediction/test.csv')"
   ]
  },
  {
   "cell_type": "code",
   "execution_count": 3,
   "metadata": {
    "ExecuteTime": {
     "end_time": "2018-01-19T02:05:13.125438Z",
     "start_time": "2018-01-19T02:05:13.114526Z"
    }
   },
   "outputs": [
    {
     "data": {
      "text/plain": [
       "(1460, 81)"
      ]
     },
     "execution_count": 3,
     "metadata": {},
     "output_type": "execute_result"
    }
   ],
   "source": [
    "train_data.shape"
   ]
  },
  {
   "cell_type": "code",
   "execution_count": 4,
   "metadata": {
    "ExecuteTime": {
     "end_time": "2018-01-19T02:05:13.138581Z",
     "start_time": "2018-01-19T02:05:13.131662Z"
    }
   },
   "outputs": [
    {
     "data": {
      "text/plain": [
       "(1459, 80)"
      ]
     },
     "execution_count": 4,
     "metadata": {},
     "output_type": "execute_result"
    }
   ],
   "source": [
    "test_data.shape"
   ]
  },
  {
   "cell_type": "code",
   "execution_count": 5,
   "metadata": {
    "ExecuteTime": {
     "end_time": "2018-01-19T02:05:13.183680Z",
     "start_time": "2018-01-19T02:05:13.144543Z"
    }
   },
   "outputs": [
    {
     "data": {
      "text/html": [
       "<div>\n",
       "<style scoped>\n",
       "    .dataframe tbody tr th:only-of-type {\n",
       "        vertical-align: middle;\n",
       "    }\n",
       "\n",
       "    .dataframe tbody tr th {\n",
       "        vertical-align: top;\n",
       "    }\n",
       "\n",
       "    .dataframe thead th {\n",
       "        text-align: right;\n",
       "    }\n",
       "</style>\n",
       "<table border=\"1\" class=\"dataframe\">\n",
       "  <thead>\n",
       "    <tr style=\"text-align: right;\">\n",
       "      <th></th>\n",
       "      <th>Id</th>\n",
       "      <th>MSSubClass</th>\n",
       "      <th>MSZoning</th>\n",
       "      <th>LotFrontage</th>\n",
       "      <th>LotArea</th>\n",
       "      <th>Street</th>\n",
       "      <th>Alley</th>\n",
       "      <th>LotShape</th>\n",
       "      <th>LandContour</th>\n",
       "      <th>Utilities</th>\n",
       "      <th>...</th>\n",
       "      <th>PoolArea</th>\n",
       "      <th>PoolQC</th>\n",
       "      <th>Fence</th>\n",
       "      <th>MiscFeature</th>\n",
       "      <th>MiscVal</th>\n",
       "      <th>MoSold</th>\n",
       "      <th>YrSold</th>\n",
       "      <th>SaleType</th>\n",
       "      <th>SaleCondition</th>\n",
       "      <th>SalePrice</th>\n",
       "    </tr>\n",
       "  </thead>\n",
       "  <tbody>\n",
       "    <tr>\n",
       "      <th>0</th>\n",
       "      <td>1</td>\n",
       "      <td>60</td>\n",
       "      <td>RL</td>\n",
       "      <td>65.0</td>\n",
       "      <td>8450</td>\n",
       "      <td>Pave</td>\n",
       "      <td>NaN</td>\n",
       "      <td>Reg</td>\n",
       "      <td>Lvl</td>\n",
       "      <td>AllPub</td>\n",
       "      <td>...</td>\n",
       "      <td>0</td>\n",
       "      <td>NaN</td>\n",
       "      <td>NaN</td>\n",
       "      <td>NaN</td>\n",
       "      <td>0</td>\n",
       "      <td>2</td>\n",
       "      <td>2008</td>\n",
       "      <td>WD</td>\n",
       "      <td>Normal</td>\n",
       "      <td>208500</td>\n",
       "    </tr>\n",
       "    <tr>\n",
       "      <th>1</th>\n",
       "      <td>2</td>\n",
       "      <td>20</td>\n",
       "      <td>RL</td>\n",
       "      <td>80.0</td>\n",
       "      <td>9600</td>\n",
       "      <td>Pave</td>\n",
       "      <td>NaN</td>\n",
       "      <td>Reg</td>\n",
       "      <td>Lvl</td>\n",
       "      <td>AllPub</td>\n",
       "      <td>...</td>\n",
       "      <td>0</td>\n",
       "      <td>NaN</td>\n",
       "      <td>NaN</td>\n",
       "      <td>NaN</td>\n",
       "      <td>0</td>\n",
       "      <td>5</td>\n",
       "      <td>2007</td>\n",
       "      <td>WD</td>\n",
       "      <td>Normal</td>\n",
       "      <td>181500</td>\n",
       "    </tr>\n",
       "    <tr>\n",
       "      <th>2</th>\n",
       "      <td>3</td>\n",
       "      <td>60</td>\n",
       "      <td>RL</td>\n",
       "      <td>68.0</td>\n",
       "      <td>11250</td>\n",
       "      <td>Pave</td>\n",
       "      <td>NaN</td>\n",
       "      <td>IR1</td>\n",
       "      <td>Lvl</td>\n",
       "      <td>AllPub</td>\n",
       "      <td>...</td>\n",
       "      <td>0</td>\n",
       "      <td>NaN</td>\n",
       "      <td>NaN</td>\n",
       "      <td>NaN</td>\n",
       "      <td>0</td>\n",
       "      <td>9</td>\n",
       "      <td>2008</td>\n",
       "      <td>WD</td>\n",
       "      <td>Normal</td>\n",
       "      <td>223500</td>\n",
       "    </tr>\n",
       "    <tr>\n",
       "      <th>3</th>\n",
       "      <td>4</td>\n",
       "      <td>70</td>\n",
       "      <td>RL</td>\n",
       "      <td>60.0</td>\n",
       "      <td>9550</td>\n",
       "      <td>Pave</td>\n",
       "      <td>NaN</td>\n",
       "      <td>IR1</td>\n",
       "      <td>Lvl</td>\n",
       "      <td>AllPub</td>\n",
       "      <td>...</td>\n",
       "      <td>0</td>\n",
       "      <td>NaN</td>\n",
       "      <td>NaN</td>\n",
       "      <td>NaN</td>\n",
       "      <td>0</td>\n",
       "      <td>2</td>\n",
       "      <td>2006</td>\n",
       "      <td>WD</td>\n",
       "      <td>Abnorml</td>\n",
       "      <td>140000</td>\n",
       "    </tr>\n",
       "    <tr>\n",
       "      <th>4</th>\n",
       "      <td>5</td>\n",
       "      <td>60</td>\n",
       "      <td>RL</td>\n",
       "      <td>84.0</td>\n",
       "      <td>14260</td>\n",
       "      <td>Pave</td>\n",
       "      <td>NaN</td>\n",
       "      <td>IR1</td>\n",
       "      <td>Lvl</td>\n",
       "      <td>AllPub</td>\n",
       "      <td>...</td>\n",
       "      <td>0</td>\n",
       "      <td>NaN</td>\n",
       "      <td>NaN</td>\n",
       "      <td>NaN</td>\n",
       "      <td>0</td>\n",
       "      <td>12</td>\n",
       "      <td>2008</td>\n",
       "      <td>WD</td>\n",
       "      <td>Normal</td>\n",
       "      <td>250000</td>\n",
       "    </tr>\n",
       "  </tbody>\n",
       "</table>\n",
       "<p>5 rows × 81 columns</p>\n",
       "</div>"
      ],
      "text/plain": [
       "   Id  MSSubClass MSZoning  LotFrontage  LotArea Street Alley LotShape  \\\n",
       "0   1          60       RL         65.0     8450   Pave   NaN      Reg   \n",
       "1   2          20       RL         80.0     9600   Pave   NaN      Reg   \n",
       "2   3          60       RL         68.0    11250   Pave   NaN      IR1   \n",
       "3   4          70       RL         60.0     9550   Pave   NaN      IR1   \n",
       "4   5          60       RL         84.0    14260   Pave   NaN      IR1   \n",
       "\n",
       "  LandContour Utilities    ...     PoolArea PoolQC Fence MiscFeature MiscVal  \\\n",
       "0         Lvl    AllPub    ...            0    NaN   NaN         NaN       0   \n",
       "1         Lvl    AllPub    ...            0    NaN   NaN         NaN       0   \n",
       "2         Lvl    AllPub    ...            0    NaN   NaN         NaN       0   \n",
       "3         Lvl    AllPub    ...            0    NaN   NaN         NaN       0   \n",
       "4         Lvl    AllPub    ...            0    NaN   NaN         NaN       0   \n",
       "\n",
       "  MoSold YrSold  SaleType  SaleCondition  SalePrice  \n",
       "0      2   2008        WD         Normal     208500  \n",
       "1      5   2007        WD         Normal     181500  \n",
       "2      9   2008        WD         Normal     223500  \n",
       "3      2   2006        WD        Abnorml     140000  \n",
       "4     12   2008        WD         Normal     250000  \n",
       "\n",
       "[5 rows x 81 columns]"
      ]
     },
     "execution_count": 5,
     "metadata": {},
     "output_type": "execute_result"
    }
   ],
   "source": [
    "train_data.head()"
   ]
  },
  {
   "cell_type": "code",
   "execution_count": 6,
   "metadata": {
    "ExecuteTime": {
     "end_time": "2018-01-19T02:05:13.198165Z",
     "start_time": "2018-01-19T02:05:13.188867Z"
    }
   },
   "outputs": [
    {
     "data": {
      "text/plain": [
       "Index(['Id', 'MSSubClass', 'MSZoning', 'LotFrontage', 'LotArea', 'Street',\n",
       "       'Alley', 'LotShape', 'LandContour', 'Utilities', 'LotConfig',\n",
       "       'LandSlope', 'Neighborhood', 'Condition1', 'Condition2', 'BldgType',\n",
       "       'HouseStyle', 'OverallQual', 'OverallCond', 'YearBuilt', 'YearRemodAdd',\n",
       "       'RoofStyle', 'RoofMatl', 'Exterior1st', 'Exterior2nd', 'MasVnrType',\n",
       "       'MasVnrArea', 'ExterQual', 'ExterCond', 'Foundation', 'BsmtQual',\n",
       "       'BsmtCond', 'BsmtExposure', 'BsmtFinType1', 'BsmtFinSF1',\n",
       "       'BsmtFinType2', 'BsmtFinSF2', 'BsmtUnfSF', 'TotalBsmtSF', 'Heating',\n",
       "       'HeatingQC', 'CentralAir', 'Electrical', '1stFlrSF', '2ndFlrSF',\n",
       "       'LowQualFinSF', 'GrLivArea', 'BsmtFullBath', 'BsmtHalfBath', 'FullBath',\n",
       "       'HalfBath', 'BedroomAbvGr', 'KitchenAbvGr', 'KitchenQual',\n",
       "       'TotRmsAbvGrd', 'Functional', 'Fireplaces', 'FireplaceQu', 'GarageType',\n",
       "       'GarageYrBlt', 'GarageFinish', 'GarageCars', 'GarageArea', 'GarageQual',\n",
       "       'GarageCond', 'PavedDrive', 'WoodDeckSF', 'OpenPorchSF',\n",
       "       'EnclosedPorch', '3SsnPorch', 'ScreenPorch', 'PoolArea', 'PoolQC',\n",
       "       'Fence', 'MiscFeature', 'MiscVal', 'MoSold', 'YrSold', 'SaleType',\n",
       "       'SaleCondition', 'SalePrice'],\n",
       "      dtype='object')"
      ]
     },
     "execution_count": 6,
     "metadata": {},
     "output_type": "execute_result"
    }
   ],
   "source": [
    "train_data.columns"
   ]
  },
  {
   "cell_type": "code",
   "execution_count": 7,
   "metadata": {
    "ExecuteTime": {
     "end_time": "2018-01-19T02:05:13.212613Z",
     "start_time": "2018-01-19T02:05:13.204150Z"
    }
   },
   "outputs": [
    {
     "data": {
      "text/plain": [
       "Index(['Id', 'MSSubClass', 'MSZoning', 'LotFrontage', 'LotArea', 'Street',\n",
       "       'Alley', 'LotShape', 'LandContour', 'Utilities', 'LotConfig',\n",
       "       'LandSlope', 'Neighborhood', 'Condition1', 'Condition2', 'BldgType',\n",
       "       'HouseStyle', 'OverallQual', 'OverallCond', 'YearBuilt', 'YearRemodAdd',\n",
       "       'RoofStyle', 'RoofMatl', 'Exterior1st', 'Exterior2nd', 'MasVnrType',\n",
       "       'MasVnrArea', 'ExterQual', 'ExterCond', 'Foundation', 'BsmtQual',\n",
       "       'BsmtCond', 'BsmtExposure', 'BsmtFinType1', 'BsmtFinSF1',\n",
       "       'BsmtFinType2', 'BsmtFinSF2', 'BsmtUnfSF', 'TotalBsmtSF', 'Heating',\n",
       "       'HeatingQC', 'CentralAir', 'Electrical', '1stFlrSF', '2ndFlrSF',\n",
       "       'LowQualFinSF', 'GrLivArea', 'BsmtFullBath', 'BsmtHalfBath', 'FullBath',\n",
       "       'HalfBath', 'BedroomAbvGr', 'KitchenAbvGr', 'KitchenQual',\n",
       "       'TotRmsAbvGrd', 'Functional', 'Fireplaces', 'FireplaceQu', 'GarageType',\n",
       "       'GarageYrBlt', 'GarageFinish', 'GarageCars', 'GarageArea', 'GarageQual',\n",
       "       'GarageCond', 'PavedDrive', 'WoodDeckSF', 'OpenPorchSF',\n",
       "       'EnclosedPorch', '3SsnPorch', 'ScreenPorch', 'PoolArea', 'PoolQC',\n",
       "       'Fence', 'MiscFeature', 'MiscVal', 'MoSold', 'YrSold', 'SaleType',\n",
       "       'SaleCondition'],\n",
       "      dtype='object')"
      ]
     },
     "execution_count": 7,
     "metadata": {},
     "output_type": "execute_result"
    }
   ],
   "source": [
    "test_data.columns"
   ]
  },
  {
   "cell_type": "code",
   "execution_count": 8,
   "metadata": {
    "ExecuteTime": {
     "end_time": "2018-01-19T02:05:13.230850Z",
     "start_time": "2018-01-19T02:05:13.217949Z"
    }
   },
   "outputs": [
    {
     "name": "stdout",
     "output_type": "stream",
     "text": [
      "(1460, 79)\n",
      "(1459, 79)\n"
     ]
    }
   ],
   "source": [
    "X_train, X_test = train_data.loc[:, 'MSSubClass':'SaleCondition'], test_data.loc[:, 'MSSubClass':'SaleCondition']\n",
    "print(X_train.shape)\n",
    "print(X_test.shape)"
   ]
  },
  {
   "cell_type": "code",
   "execution_count": 9,
   "metadata": {
    "ExecuteTime": {
     "end_time": "2018-01-19T02:05:13.261656Z",
     "start_time": "2018-01-19T02:05:13.237277Z"
    }
   },
   "outputs": [
    {
     "data": {
      "text/plain": [
       "(2919, 79)"
      ]
     },
     "execution_count": 9,
     "metadata": {},
     "output_type": "execute_result"
    }
   ],
   "source": [
    "all_X = pd.concat([X_train, X_test], axis=0)\n",
    "all_X.shape"
   ]
  },
  {
   "cell_type": "markdown",
   "metadata": {},
   "source": [
    "## 数据预处理"
   ]
  },
  {
   "cell_type": "code",
   "execution_count": 10,
   "metadata": {
    "ExecuteTime": {
     "end_time": "2018-01-19T02:05:13.322283Z",
     "start_time": "2018-01-19T02:05:13.267731Z"
    }
   },
   "outputs": [],
   "source": [
    "# 标准化\n",
    "all_dtypes = all_X.dtypes\n",
    "numeric_feats = all_dtypes[all_dtypes != 'object'].index\n",
    "all_X[numeric_feats] = all_X[numeric_feats].apply(lambda x : (x - x.mean()) / x.std()) # axis默认是0"
   ]
  },
  {
   "cell_type": "code",
   "execution_count": 11,
   "metadata": {
    "ExecuteTime": {
     "end_time": "2018-01-19T02:05:13.388127Z",
     "start_time": "2018-01-19T02:05:13.328270Z"
    }
   },
   "outputs": [],
   "source": [
    "all_X = pd.get_dummies(all_X, dummy_na=True)"
   ]
  },
  {
   "cell_type": "code",
   "execution_count": 12,
   "metadata": {
    "ExecuteTime": {
     "end_time": "2018-01-19T02:05:13.403306Z",
     "start_time": "2018-01-19T02:05:13.394737Z"
    }
   },
   "outputs": [
    {
     "data": {
      "text/plain": [
       "(2919, 331)"
      ]
     },
     "execution_count": 12,
     "metadata": {},
     "output_type": "execute_result"
    }
   ],
   "source": [
    "all_X.shape"
   ]
  },
  {
   "cell_type": "code",
   "execution_count": 13,
   "metadata": {
    "ExecuteTime": {
     "end_time": "2018-01-19T02:05:13.500576Z",
     "start_time": "2018-01-19T02:05:13.408007Z"
    }
   },
   "outputs": [],
   "source": [
    "all_X = all_X.fillna(value=all_X.mean(), axis=0)"
   ]
  },
  {
   "cell_type": "code",
   "execution_count": 14,
   "metadata": {
    "ExecuteTime": {
     "end_time": "2018-01-19T02:05:13.515429Z",
     "start_time": "2018-01-19T02:05:13.506896Z"
    }
   },
   "outputs": [
    {
     "data": {
      "text/plain": [
       "(2919, 331)"
      ]
     },
     "execution_count": 14,
     "metadata": {},
     "output_type": "execute_result"
    }
   ],
   "source": [
    "all_X.shape"
   ]
  },
  {
   "cell_type": "code",
   "execution_count": 15,
   "metadata": {
    "ExecuteTime": {
     "end_time": "2018-01-19T02:05:13.528756Z",
     "start_time": "2018-01-19T02:05:13.520213Z"
    }
   },
   "outputs": [],
   "source": [
    "num_train = X_train.shape[0]\n",
    "X_train = all_X[:num_train]\n",
    "X_test = all_X[num_train:]\n",
    "y_train = train_data['SalePrice']"
   ]
  },
  {
   "cell_type": "code",
   "execution_count": 16,
   "metadata": {
    "ExecuteTime": {
     "end_time": "2018-01-19T02:05:13.543830Z",
     "start_time": "2018-01-19T02:05:13.534837Z"
    }
   },
   "outputs": [
    {
     "name": "stdout",
     "output_type": "stream",
     "text": [
      "(1460, 331)\n",
      "(1460,)\n",
      "(1459, 331)\n"
     ]
    }
   ],
   "source": [
    "print(X_train.shape)\n",
    "print(y_train.shape)\n",
    "print(X_test.shape)"
   ]
  },
  {
   "cell_type": "markdown",
   "metadata": {},
   "source": [
    "## 转换为``NDArray``"
   ]
  },
  {
   "cell_type": "code",
   "execution_count": 17,
   "metadata": {
    "ExecuteTime": {
     "end_time": "2018-01-19T02:05:13.572804Z",
     "start_time": "2018-01-19T02:05:13.549521Z"
    }
   },
   "outputs": [
    {
     "name": "stdout",
     "output_type": "stream",
     "text": [
      "(1460, 331)\n",
      "(1459, 331)\n",
      "(1460, 1)\n"
     ]
    }
   ],
   "source": [
    "X_train = nd.array(X_train, ctx=ctx)\n",
    "X_test = nd.array(X_test, ctx=ctx)\n",
    "y_train = nd.array(y_train, ctx=ctx).reshape((num_train, 1))\n",
    "print(X_train.shape)\n",
    "print(X_test.shape)\n",
    "print(y_train.shape)"
   ]
  },
  {
   "cell_type": "markdown",
   "metadata": {
    "ExecuteTime": {
     "end_time": "2018-01-18T08:02:31.421133Z",
     "start_time": "2018-01-18T08:02:31.411712Z"
    }
   },
   "source": [
    "## 定义评估函数\n",
    "\n",
    "[Wikipedia](https://en.wikipedia.org/wiki/Root-mean-square_deviation)\n",
    "\n",
    "<img src=\"https://wikimedia.org/api/rest_v1/media/math/render/svg/197385368628b8495a746f7bd490d3d1cc83e86c\">"
   ]
  },
  {
   "cell_type": "code",
   "execution_count": 18,
   "metadata": {
    "ExecuteTime": {
     "end_time": "2018-01-19T02:05:13.587391Z",
     "start_time": "2018-01-19T02:05:13.579403Z"
    }
   },
   "outputs": [],
   "source": [
    "square_loss = gluon.loss.L2Loss()\n",
    "\n",
    "def get_rmsd_log(net, X, y):\n",
    "    clipped_predict = nd.clip(net(X), 1, float('inf'))\n",
    "    return np.sqrt(2 * nd.sum(square_loss(nd.log(clipped_predict), nd.log(y))).asscalar() / X.shape[0])"
   ]
  },
  {
   "cell_type": "code",
   "execution_count": 19,
   "metadata": {
    "ExecuteTime": {
     "end_time": "2018-01-19T02:05:13.604451Z",
     "start_time": "2018-01-19T02:05:13.593447Z"
    }
   },
   "outputs": [],
   "source": [
    "import random\n",
    "\n",
    "def data_iter(batch_size):\n",
    "    num = X_train.shape[0]\n",
    "    idx = list(range(num))\n",
    "    random.shuffle(idx)\n",
    "    for i in range(0, num, batch_size):\n",
    "        j = nd.array(idx[i:min(i+batch_size, num)])\n",
    "        yield X_train.take(j), y_train.take(j)"
   ]
  },
  {
   "cell_type": "code",
   "execution_count": 20,
   "metadata": {
    "ExecuteTime": {
     "end_time": "2018-01-19T02:05:13.623004Z",
     "start_time": "2018-01-19T02:05:13.611303Z"
    }
   },
   "outputs": [
    {
     "name": "stdout",
     "output_type": "stream",
     "text": [
      "(5, 331)\n",
      "(5, 1)\n"
     ]
    }
   ],
   "source": [
    "for (x, y) in data_iter(5):\n",
    "    print(x.shape)\n",
    "    print(y.shape)\n",
    "    break"
   ]
  },
  {
   "cell_type": "markdown",
   "metadata": {},
   "source": [
    "## 训练函数"
   ]
  },
  {
   "cell_type": "code",
   "execution_count": 21,
   "metadata": {
    "ExecuteTime": {
     "end_time": "2018-01-19T02:05:13.777426Z",
     "start_time": "2018-01-19T02:05:13.628601Z"
    }
   },
   "outputs": [],
   "source": [
    "def get_net():\n",
    "    net = gluon.nn.Sequential()\n",
    "    with net.name_scope():\n",
    "        net.add(gluon.nn.Flatten())\n",
    "        net.add(gluon.nn.Dense(1024, activation=\"relu\"))\n",
    "        net.add(gluon.nn.Dropout(0.5))\n",
    "        net.add(gluon.nn.Dense(1))\n",
    "    return net\n",
    "\n",
    "def train(net, X_train, y_train, X_test, y_test, epochs, verbose_epoch, batch_size, learning_rate, weight_decay, ctx):    \n",
    "    net.collect_params().initialize(mx.init.Xavier(magnitude=2.24), \n",
    "                                    ctx=ctx, force_reinit=True)\n",
    "    trainer = gluon.Trainer(net.collect_params(), 'adam', \n",
    "                            {'learning_rate':learning_rate, 'wd': weight_decay})\n",
    "    \n",
    "    train_loss = []\n",
    "    if X_test is not None:\n",
    "        test_loss = []\n",
    "    \n",
    "    # train\n",
    "    for epoch in range(epochs):\n",
    "        cumulative_loss = .0\n",
    "        for (data, label) in data_iter(batch_size):\n",
    "            data = data.as_in_context(ctx)\n",
    "            label = label.as_in_context(ctx)\n",
    "            with autograd.record():\n",
    "                output = net(data)\n",
    "                loss = square_loss(output, label)\n",
    "            loss.backward()\n",
    "            trainer.step(batch_size)\n",
    "            cumulative_loss += nd.sum(loss).asscalar()\n",
    "        \n",
    "        cur_train_loss = get_rmsd_log(net, X_train, y_train)\n",
    "        train_loss.append(cur_train_loss)\n",
    "        if X_test is not None:\n",
    "            cur_test_loss = get_rmsd_log(net, X_test, y_test)\n",
    "            test_loss.append(cur_test_loss)\n",
    "              \n",
    "        if epoch > verbose_epoch:\n",
    "            if X_test is not None:\n",
    "                print(\"Epoch %s, Train RMSE loss %s, Test RMSE loss %s.\" \n",
    "                      % (epoch, cur_train_loss, cur_test_loss))\n",
    "            else:\n",
    "                print(\"Epoch %s, Train RMSE loss %s.\" % (epoch, cur_train_loss))\n",
    "                \n",
    "    plt.figure(figsize=(8, 6))\n",
    "    plt.plot(list(range(len(train_loss))), train_loss)\n",
    "    plt.legend(['train_loss'])\n",
    "    if X_test is not None:\n",
    "        plt.plot(list(range(len(test_loss))), test_loss)\n",
    "        plt.legend(['train_loss', 'test_loss'])\n",
    "    plt.show()\n",
    "    \n",
    "    if X_test is not None:\n",
    "        return train_loss[-1], test_loss[-1]\n",
    "    else:\n",
    "        return train_loss[-1]"
   ]
  },
  {
   "cell_type": "markdown",
   "metadata": {
    "ExecuteTime": {
     "end_time": "2018-01-18T09:38:40.684379Z",
     "start_time": "2018-01-18T09:38:40.677139Z"
    }
   },
   "source": [
    "## K折交叉验证"
   ]
  },
  {
   "cell_type": "code",
   "execution_count": 22,
   "metadata": {
    "ExecuteTime": {
     "end_time": "2018-01-19T02:05:13.836732Z",
     "start_time": "2018-01-19T02:05:13.784431Z"
    }
   },
   "outputs": [],
   "source": [
    "def k_fold_validation(k, X_train, y_train, epochs, verbose_epoch, batch_size, learning_rate, weight_decay, ctx): # \n",
    "    patch = num_train // k\n",
    "    train_loss = .0\n",
    "    test_loss = .0\n",
    "    for test_i in range(k):\n",
    "        cur_val_X = X_train[test_i*patch : min((test_i+1)*patch, num_train)]\n",
    "        cur_val_y = y_train[test_i*patch : min((test_i+1)*patch, num_train)]\n",
    "        train_created = False\n",
    "        for i in range(k):\n",
    "            if i != test_i:\n",
    "                tmp_train_X = X_train[i*patch : min((i+1)*patch, num_train)]\n",
    "                tmp_train_y = y_train[i*patch : min((i+1)*patch, num_train)]\n",
    "                if not train_created:\n",
    "                    cur_train_X = tmp_train_X\n",
    "                    cur_train_y = tmp_train_y\n",
    "                    train_created = True\n",
    "                else:\n",
    "                    cur_train_X = nd.concat(cur_train_X, tmp_train_X, dim=0)\n",
    "                    cur_train_y = nd.concat(cur_train_y, tmp_train_y, dim=0)\n",
    "                    \n",
    "        net = get_net()\n",
    "        print(\"------------------%s fold-------------------\" % (test_i))\n",
    "        cur_train_loss, cur_test_loss = train(net, cur_train_X, cur_train_y, cur_val_X, cur_val_y, \n",
    "                                epochs, verbose_epoch, batch_size, learning_rate, weight_decay, ctx)\n",
    "        train_loss += cur_train_loss\n",
    "        test_loss += cur_test_loss\n",
    "    print(\"%s-fold-validation, Avg Train Loss %s, Avg Test loss %s.\" % (k, train_loss / k, test_loss / k))\n",
    "    return train_loss / k, test_loss / k"
   ]
  },
  {
   "cell_type": "code",
   "execution_count": 23,
   "metadata": {
    "ExecuteTime": {
     "end_time": "2018-01-19T02:06:12.258167Z",
     "start_time": "2018-01-19T02:05:13.843580Z"
    }
   },
   "outputs": [
    {
     "name": "stdout",
     "output_type": "stream",
     "text": [
      "------------------0 fold-------------------\n",
      "Epoch 46, Train RMSE loss 0.107121188566, Test RMSE loss 0.0987069572887.\n",
      "Epoch 47, Train RMSE loss 0.106940438845, Test RMSE loss 0.0978040731245.\n",
      "Epoch 48, Train RMSE loss 0.106790311196, Test RMSE loss 0.0977448487421.\n",
      "Epoch 49, Train RMSE loss 0.106361727409, Test RMSE loss 0.0980106684346.\n"
     ]
    },
    {
     "data": {
      "image/png": "[encoded data removed]",
      "text/plain": [
       "<matplotlib.figure.Figure at 0x7fad89393470>"
      ]
     },
     "metadata": {},
     "output_type": "display_data"
    },
    {
     "name": "stdout",
     "output_type": "stream",
     "text": [
      "------------------1 fold-------------------\n",
      "Epoch 46, Train RMSE loss 0.101428925896, Test RMSE loss 0.112766583332.\n",
      "Epoch 47, Train RMSE loss 0.101748542302, Test RMSE loss 0.113718223452.\n",
      "Epoch 48, Train RMSE loss 0.100588969324, Test RMSE loss 0.112590639769.\n",
      "Epoch 49, Train RMSE loss 0.100302917904, Test RMSE loss 0.110263448463.\n"
     ]
    },
    {
     "data": {
      "image/png": "[encoded data removed]",
      "text/plain": [
       "<matplotlib.figure.Figure at 0x7fad892aa358>"
      ]
     },
     "metadata": {},
     "output_type": "display_data"
    },
    {
     "name": "stdout",
     "output_type": "stream",
     "text": [
      "------------------2 fold-------------------\n",
      "Epoch 46, Train RMSE loss 0.105471509862, Test RMSE loss 0.106024402415.\n",
      "Epoch 47, Train RMSE loss 0.106707000174, Test RMSE loss 0.105534247233.\n",
      "Epoch 48, Train RMSE loss 0.103915273495, Test RMSE loss 0.103901467158.\n",
      "Epoch 49, Train RMSE loss 0.104813657161, Test RMSE loss 0.107190273207.\n"
     ]
    },
    {
     "data": {
      "image/png": "[encoded data removed]",
      "text/plain": [
       "<matplotlib.figure.Figure at 0x7fad8922d320>"
      ]
     },
     "metadata": {},
     "output_type": "display_data"
    },
    {
     "name": "stdout",
     "output_type": "stream",
     "text": [
      "------------------3 fold-------------------\n",
      "Epoch 46, Train RMSE loss 0.107519578029, Test RMSE loss 0.0934632676168.\n",
      "Epoch 47, Train RMSE loss 0.109571176465, Test RMSE loss 0.100180933679.\n",
      "Epoch 48, Train RMSE loss 0.107276272463, Test RMSE loss 0.096703732885.\n",
      "Epoch 49, Train RMSE loss 0.105681743799, Test RMSE loss 0.0947469714369.\n"
     ]
    },
    {
     "data": {
      "image/png": "[encoded data removed]",
      "text/plain": [
       "<matplotlib.figure.Figure at 0x7fad89393cf8>"
      ]
     },
     "metadata": {},
     "output_type": "display_data"
    },
    {
     "name": "stdout",
     "output_type": "stream",
     "text": [
      "------------------4 fold-------------------\n",
      "Epoch 46, Train RMSE loss 0.103521367099, Test RMSE loss 0.112357879819.\n",
      "Epoch 47, Train RMSE loss 0.102932543679, Test RMSE loss 0.111525379398.\n",
      "Epoch 48, Train RMSE loss 0.102985482794, Test RMSE loss 0.111250237959.\n",
      "Epoch 49, Train RMSE loss 0.103930079676, Test RMSE loss 0.111667989803.\n"
     ]
    },
    {
     "data": {
      "image/png": "[encoded data removed]",
      "text/plain": [
       "<matplotlib.figure.Figure at 0x7fad89293438>"
      ]
     },
     "metadata": {},
     "output_type": "display_data"
    },
    {
     "name": "stdout",
     "output_type": "stream",
     "text": [
      "5-fold-validation, Avg Train Loss 0.10421802519, Avg Test loss 0.104375870269.\n"
     ]
    },
    {
     "data": {
      "text/plain": [
       "(0.10421802518990857, 0.10437587026897185)"
      ]
     },
     "execution_count": 23,
     "metadata": {},
     "output_type": "execute_result"
    }
   ],
   "source": [
    "epochs = 50\n",
    "verbose_epoch = 45\n",
    "batch_size = 100\n",
    "learning_rate = 0.05\n",
    "weight_decay = 170\n",
    "\n",
    "k_fold_validation(5, X_train, y_train, epochs, verbose_epoch, batch_size, \n",
    "                  learning_rate, weight_decay, ctx=ctx)"
   ]
  },
  {
   "cell_type": "code",
   "execution_count": 24,
   "metadata": {
    "ExecuteTime": {
     "end_time": "2018-01-19T02:06:23.591873Z",
     "start_time": "2018-01-19T02:06:12.262401Z"
    }
   },
   "outputs": [
    {
     "name": "stdout",
     "output_type": "stream",
     "text": [
      "Epoch 46, Train RMSE loss 0.105695472863.\n",
      "Epoch 47, Train RMSE loss 0.104410264663.\n",
      "Epoch 48, Train RMSE loss 0.105933728909.\n",
      "Epoch 49, Train RMSE loss 0.105265059433.\n"
     ]
    },
    {
     "data": {
      "image/png": "[encoded data removed]",
      "text/plain": [
       "<matplotlib.figure.Figure at 0x7fad8922dfd0>"
      ]
     },
     "metadata": {},
     "output_type": "display_data"
    },
    {
     "name": "stdout",
     "output_type": "stream",
     "text": [
      "(1459, 1)\n"
     ]
    }
   ],
   "source": [
    "def predict(epochs, verbose_epoch, batch_size, learning_rate, weight_decay, ctx):\n",
    "    net = get_net()\n",
    "    train(net, X_train, y_train, None, None, epochs, verbose_epoch, batch_size, \n",
    "          learning_rate, weight_decay, ctx)\n",
    "    predict = net(X_test).asnumpy()\n",
    "    submission = pd.DataFrame()\n",
    "    submission['Id'] = test_data['Id']\n",
    "    submission['SalePrice'] = pd.Series(predict.reshape((1, -1))[0])\n",
    "    submission.to_csv('submission.csv', index=False)\n",
    "    \n",
    "predict(epochs, verbose_epoch, batch_size, learning_rate, weight_decay, ctx)"
   ]
  }
 ],
 "metadata": {
  "kernelspec": {
   "display_name": "Python 3",
   "language": "python",
   "name": "python3"
  },
  "language_info": {
   "codemirror_mode": {
    "name": "ipython",
    "version": 3
   },
   "file_extension": ".py",
   "mimetype": "text/x-python",
   "name": "python",
   "nbconvert_exporter": "python",
   "pygments_lexer": "ipython3",
   "version": "3.5.2"
  },
  "latex_envs": {
   "LaTeX_envs_menu_present": true,
   "autocomplete": true,
   "bibliofile": "biblio.bib",
   "cite_by": "apalike",
   "current_citInitial": 1,
   "eqLabelWithNumbers": true,
   "eqNumInitial": 1,
   "hotkeys": {
    "equation": "Ctrl-E",
    "itemize": "Ctrl-I"
   },
   "labels_anchors": false,
   "latex_user_defs": false,
   "report_style_numbering": false,
   "user_envs_cfg": false
  }
 },
 "nbformat": 4,
 "nbformat_minor": 2
}
