{
 "cells": [
  {
   "cell_type": "markdown",
   "metadata": {},
   "source": [
    "# 使用GPU来加速运算"
   ]
  },
  {
   "cell_type": "code",
   "execution_count": 1,
   "metadata": {
    "ExecuteTime": {
     "end_time": "2018-01-19T07:58:39.973606Z",
     "start_time": "2018-01-19T07:58:39.812826Z"
    }
   },
   "outputs": [
    {
     "name": "stdout",
     "output_type": "stream",
     "text": [
      "Fri Jan 19 15:58:39 2018       \r\n",
      "+-----------------------------------------------------------------------------+\r\n",
      "| NVIDIA-SMI 381.22                 Driver Version: 381.22                    |\r\n",
      "|-------------------------------+----------------------+----------------------+\r\n",
      "| GPU  Name        Persistence-M| Bus-Id        Disp.A | Volatile Uncorr. ECC |\r\n",
      "| Fan  Temp  Perf  Pwr:Usage/Cap|         Memory-Usage | GPU-Util  Compute M. |\r\n",
      "|===============================+======================+======================|\r\n",
      "|   0  GeForce GTX 108...  Off  | 0000:01:00.0      On |                  N/A |\r\n",
      "| 29%   35C    P8    18W / 250W |    207MiB / 11171MiB |     28%      Default |\r\n",
      "+-------------------------------+----------------------+----------------------+\r\n",
      "                                                                               \r\n",
      "+-----------------------------------------------------------------------------+\r\n",
      "| Processes:                                                       GPU Memory |\r\n",
      "|  GPU       PID  Type  Process name                               Usage      |\r\n",
      "|=============================================================================|\r\n",
      "|    0      1076    G   /usr/lib/xorg/Xorg                             108MiB |\r\n",
      "|    0      1657    G   compiz                                          75MiB |\r\n",
      "|    0      8100    G   /opt/teamviewer/tv_bin/TeamViewer               20MiB |\r\n",
      "+-----------------------------------------------------------------------------+\r\n"
     ]
    }
   ],
   "source": [
    "!nvidia-smi"
   ]
  },
  {
   "cell_type": "code",
   "execution_count": 2,
   "metadata": {
    "ExecuteTime": {
     "end_time": "2018-01-19T07:58:40.282563Z",
     "start_time": "2018-01-19T07:58:39.978583Z"
    }
   },
   "outputs": [
    {
     "name": "stdout",
     "output_type": "stream",
     "text": [
      "Name: mxnet-cu80\n",
      "Version: 1.0.1b20180105\n",
      "Summary: MXNet is an ultra-scalable deep learning framework. This version uses CUDA-8.0.\n",
      "Home-page: https://github.com/apache/incubator-mxnet\n",
      "Author: UNKNOWN\n",
      "Author-email: UNKNOWN\n",
      "License: Apache 2.0\n",
      "Location: /liang-jupyter/lib/python3.5/site-packages\n",
      "Requires: requests, numpy, graphviz\n"
     ]
    }
   ],
   "source": [
    "import pip\n",
    "for pkg in ['mxnet', 'mxnet-cu75', 'mxnet-cu80']:\n",
    "    pip.main(['show', pkg])"
   ]
  },
  {
   "cell_type": "markdown",
   "metadata": {},
   "source": [
    "## Context\n",
    "\n",
    "MXNet使用Context来指定使用哪个设备来存储和计算。默认会将数据开在主内存，然后利用CPU来计算，这个由mx.cpu()来表示。GPU则由mx.gpu()来表示。注意mx.cpu()表示所有的物理CPU和内存，意味着计算上会尽量使用多有的CPU核。但mx.gpu()只代表一块显卡和其对应的显卡内存。如果有多块GPU，我们用mx.gpu(i)来表示第i块GPU（i从0开始）"
   ]
  },
  {
   "cell_type": "code",
   "execution_count": 3,
   "metadata": {
    "ExecuteTime": {
     "end_time": "2018-01-19T07:58:40.815825Z",
     "start_time": "2018-01-19T07:58:40.284342Z"
    }
   },
   "outputs": [
    {
     "data": {
      "text/plain": [
       "[cpu(0), gpu(0)]"
      ]
     },
     "execution_count": 3,
     "metadata": {},
     "output_type": "execute_result"
    }
   ],
   "source": [
    "import mxnet as mx\n",
    "[mx.cpu(), mx.gpu()]"
   ]
  },
  {
   "cell_type": "markdown",
   "metadata": {},
   "source": [
    "如果我们有不指定ctx,数据默认会创建在cpu上"
   ]
  },
  {
   "cell_type": "code",
   "execution_count": 4,
   "metadata": {
    "ExecuteTime": {
     "end_time": "2018-01-19T07:58:40.820913Z",
     "start_time": "2018-01-19T07:58:40.817034Z"
    }
   },
   "outputs": [
    {
     "data": {
      "text/plain": [
       "cpu(0)"
      ]
     },
     "execution_count": 4,
     "metadata": {},
     "output_type": "execute_result"
    }
   ],
   "source": [
    "from mxnet import nd\n",
    "a = nd.array([1,2,3])\n",
    "a.context"
   ]
  },
  {
   "cell_type": "markdown",
   "metadata": {},
   "source": [
    "## GPU上创建内存"
   ]
  },
  {
   "cell_type": "code",
   "execution_count": 5,
   "metadata": {
    "ExecuteTime": {
     "end_time": "2018-01-19T07:58:42.059015Z",
     "start_time": "2018-01-19T07:58:40.821995Z"
    }
   },
   "outputs": [
    {
     "data": {
      "text/plain": [
       "(\n",
       " [ 1.  2.  3.]\n",
       " <NDArray 3 @gpu(0)>, \n",
       " [[ 1.  1.]\n",
       "  [ 1.  1.]\n",
       "  [ 1.  1.]]\n",
       " <NDArray 3x2 @gpu(0)>, \n",
       " [[-1.32045507  0.68232244 -0.98583829  0.01992839]\n",
       "  [ 0.78424042  0.50066984 -1.02834916  0.98445743]\n",
       "  [ 0.23791966  0.56752419  0.416008    1.2724396 ]]\n",
       " <NDArray 3x4 @gpu(0)>)"
      ]
     },
     "execution_count": 5,
     "metadata": {},
     "output_type": "execute_result"
    }
   ],
   "source": [
    "a = nd.array([1,2,3], ctx=mx.gpu())\n",
    "b = nd.ones(shape=(3,2), ctx=mx.gpu())\n",
    "c = nd.random.normal(shape=(3,4), ctx=mx.gpu())\n",
    "(a,b,c)"
   ]
  },
  {
   "cell_type": "markdown",
   "metadata": {},
   "source": [
    "如果只有一块GPU，那么下面的代码会报错\n",
    "\n",
    "```\n",
    "import sys\n",
    "try:\n",
    "    nd.random.normal(shape=(3,4), ctx=mx.gpu(1))\n",
    "except mx.MXNetError as err:\n",
    "    sys.stderr.write(str(err))\n",
    "```"
   ]
  },
  {
   "cell_type": "markdown",
   "metadata": {},
   "source": [
    "我们使用``copyto``或者``as_in_context``来进行不同设备之间的数据传输，我们应该尽量使用``as_in_context``，因为当源和目标一致时，``as_in_context``不会开辟一块新的内存。"
   ]
  },
  {
   "cell_type": "code",
   "execution_count": 10,
   "metadata": {
    "ExecuteTime": {
     "end_time": "2018-01-19T08:03:12.040258Z",
     "start_time": "2018-01-19T08:03:12.006309Z"
    }
   },
   "outputs": [
    {
     "name": "stdout",
     "output_type": "stream",
     "text": [
      "\n",
      "[ 1.  2.  3.]\n",
      "<NDArray 3 @gpu(0)>\n",
      "\n",
      "[ 1.  2.  3.]\n",
      "<NDArray 3 @gpu(0)>\n",
      "\n",
      "[ 1.  2.  3.]\n",
      "<NDArray 3 @cpu(0)>\n"
     ]
    }
   ],
   "source": [
    "a = nd.array([1,2,3], ctx=mx.gpu())\n",
    "b = a.copyto(mx.gpu())\n",
    "c = a.as_in_context(mx.gpu())\n",
    "d = a.as_in_context(mx.cpu())\n",
    "print(b)\n",
    "print(c)\n",
    "print(d) "
   ]
  },
  {
   "cell_type": "markdown",
   "metadata": {},
   "source": [
    "**如果我们想使用GPU做运算，我们必须事先将数据开辟在GPU上，之后的计算结果会自动保存在GPU上**"
   ]
  },
  {
   "cell_type": "code",
   "execution_count": 12,
   "metadata": {
    "ExecuteTime": {
     "end_time": "2018-01-19T08:05:58.800341Z",
     "start_time": "2018-01-19T08:05:58.333621Z"
    }
   },
   "outputs": [
    {
     "data": {
      "text/plain": [
       "\n",
       "[ 3.  4.  5.]\n",
       "<NDArray 3 @gpu(0)>"
      ]
     },
     "execution_count": 12,
     "metadata": {},
     "output_type": "execute_result"
    }
   ],
   "source": [
    "a = nd.array([1,2,3], ctx=mx.gpu())\n",
    "a + 2"
   ]
  },
  {
   "cell_type": "markdown",
   "metadata": {},
   "source": [
    "注意所有计算要求输入数据在同一个设备上。不一致的时候系统不进行自动复制。这个设计的目的是因为设备之间的数据交互通常比较昂贵，我们希望用户确切的知道数据放在哪里，而不是隐藏这个细节。下面代码尝试将CPU上x和GPU上的y做运算。"
   ]
  },
  {
   "cell_type": "code",
   "execution_count": 14,
   "metadata": {
    "ExecuteTime": {
     "end_time": "2018-01-19T08:07:48.850868Z",
     "start_time": "2018-01-19T08:07:48.829371Z"
    }
   },
   "outputs": [
    {
     "name": "stderr",
     "output_type": "stream",
     "text": [
      "[16:07:48] src/imperative/./imperative_utils.h:55: Check failed: inputs[i]->ctx().dev_mask() == ctx.dev_mask() (1 vs. 2) Operator broadcast_add require all inputs live on the same context. But the first argument is on gpu(0) while the 2-th argument is on cpu(0)\n",
      "\n",
      "Stack trace returned 10 entries:\n",
      "[bt] (0) /liang-jupyter/lib/python3.5/site-packages/mxnet/libmxnet.so(+0x2a4992) [0x7fd2d59b1992]\n",
      "[bt] (1) /liang-jupyter/lib/python3.5/site-packages/mxnet/libmxnet.so(+0x2a4f88) [0x7fd2d59b1f88]\n",
      "[bt] (2) /liang-jupyter/lib/python3.5/site-packages/mxnet/libmxnet.so(+0x250880c) [0x7fd2d7c1580c]\n",
      "[bt] (3) /liang-jupyter/lib/python3.5/site-packages/mxnet/libmxnet.so(+0x24f9bde) [0x7fd2d7c06bde]\n",
      "[bt] (4) /liang-jupyter/lib/python3.5/site-packages/mxnet/libmxnet.so(+0x24399fb) [0x7fd2d7b469fb]\n",
      "[bt] (5) /liang-jupyter/lib/python3.5/site-packages/mxnet/libmxnet.so(MXImperativeInvokeEx+0x63) [0x7fd2d7b46f63]\n",
      "[bt] (6) /liang-jupyter/lib/python3.5/lib-dynload/_ctypes.cpython-35m-x86_64-linux-gnu.so(ffi_call_unix64+0x4c) [0x7fd31fd72e20]\n",
      "[bt] (7) /liang-jupyter/lib/python3.5/lib-dynload/_ctypes.cpython-35m-x86_64-linux-gnu.so(ffi_call+0x2eb) [0x7fd31fd7288b]\n",
      "[bt] (8) /liang-jupyter/lib/python3.5/lib-dynload/_ctypes.cpython-35m-x86_64-linux-gnu.so(_ctypes_callproc+0x49a) [0x7fd31fd6d01a]\n",
      "[bt] (9) /liang-jupyter/lib/python3.5/lib-dynload/_ctypes.cpython-35m-x86_64-linux-gnu.so(+0x9fcb) [0x7fd31fd60fcb]\n",
      "\n"
     ]
    }
   ],
   "source": [
    "import sys\n",
    "\n",
    "x = nd.array([1,2,3], ctx=mx.gpu())\n",
    "y = nd.array([4,5,6], ctx=mx.cpu())\n",
    "try:\n",
    "    x + y\n",
    "except mx.MXNetError as err:\n",
    "    sys.stderr.write(str(err))"
   ]
  },
  {
   "cell_type": "code",
   "execution_count": 15,
   "metadata": {
    "ExecuteTime": {
     "end_time": "2018-01-19T08:08:05.283682Z",
     "start_time": "2018-01-19T08:08:05.273411Z"
    }
   },
   "outputs": [
    {
     "data": {
      "text/plain": [
       "\n",
       "[ 1.  2.  3.]\n",
       "<NDArray 3 @gpu(0)>"
      ]
     },
     "execution_count": 15,
     "metadata": {},
     "output_type": "execute_result"
    }
   ],
   "source": [
    "x"
   ]
  },
  {
   "cell_type": "markdown",
   "metadata": {},
   "source": [
    "如果某个操作需要将NDArray里面的内容转出来，例如打印或变成numpy格式，如果需要的话系统会自动将数据copy到主内存。"
   ]
  },
  {
   "cell_type": "code",
   "execution_count": 19,
   "metadata": {
    "ExecuteTime": {
     "end_time": "2018-01-19T08:09:39.676838Z",
     "start_time": "2018-01-19T08:09:39.667375Z"
    }
   },
   "outputs": [
    {
     "data": {
      "text/plain": [
       "array([ 1.,  2.,  3.], dtype=float32)"
      ]
     },
     "execution_count": 19,
     "metadata": {},
     "output_type": "execute_result"
    }
   ],
   "source": [
    "x.asnumpy()"
   ]
  },
  {
   "cell_type": "code",
   "execution_count": 22,
   "metadata": {
    "ExecuteTime": {
     "end_time": "2018-01-19T08:10:14.919219Z",
     "start_time": "2018-01-19T08:10:14.911255Z"
    }
   },
   "outputs": [
    {
     "name": "stdout",
     "output_type": "stream",
     "text": [
      "6.0\n"
     ]
    }
   ],
   "source": [
    "print(x.sum().asscalar())"
   ]
  },
  {
   "cell_type": "markdown",
   "metadata": {},
   "source": [
    "## 使用``gluon``在GPU上定义模型并计算\n",
    "\n",
    "我们只需要指定ctx参数即可"
   ]
  },
  {
   "cell_type": "code",
   "execution_count": 43,
   "metadata": {
    "ExecuteTime": {
     "end_time": "2018-01-19T08:24:26.551786Z",
     "start_time": "2018-01-19T08:24:26.535902Z"
    }
   },
   "outputs": [],
   "source": [
    "from mxnet import gluon\n",
    "\n",
    "net = gluon.nn.Sequential()\n",
    "with net.name_scope():\n",
    "    net.add(gluon.nn.Dense(4))\n",
    "net.collect_params().initialize(ctx=mx.gpu())"
   ]
  },
  {
   "cell_type": "code",
   "execution_count": 44,
   "metadata": {
    "ExecuteTime": {
     "end_time": "2018-01-19T08:24:27.421263Z",
     "start_time": "2018-01-19T08:24:27.402601Z"
    }
   },
   "outputs": [
    {
     "data": {
      "text/plain": [
       "\n",
       "[[ 0.01748613 -0.02448209  0.0320908  -0.00031306]\n",
       " [-0.00010406 -0.02248663 -0.01203028 -0.03666325]]\n",
       "<NDArray 2x4 @gpu(0)>"
      ]
     },
     "execution_count": 44,
     "metadata": {},
     "output_type": "execute_result"
    }
   ],
   "source": [
    "x = nd.random.normal(shape=(2,3), ctx=mx.gpu())\n",
    "net(x)"
   ]
  },
  {
   "cell_type": "code",
   "execution_count": 45,
   "metadata": {
    "ExecuteTime": {
     "end_time": "2018-01-19T08:24:29.270730Z",
     "start_time": "2018-01-19T08:24:29.259804Z"
    }
   },
   "outputs": [
    {
     "data": {
      "text/plain": [
       "sequential3_ (\n",
       "  Parameter sequential3_dense0_weight (shape=(4, 3), dtype=<class 'numpy.float32'>)\n",
       "  Parameter sequential3_dense0_bias (shape=(4,), dtype=<class 'numpy.float32'>)\n",
       ")"
      ]
     },
     "execution_count": 45,
     "metadata": {},
     "output_type": "execute_result"
    }
   ],
   "source": [
    "net.collect_params()"
   ]
  },
  {
   "cell_type": "code",
   "execution_count": 40,
   "metadata": {
    "ExecuteTime": {
     "end_time": "2018-01-19T08:19:58.533360Z",
     "start_time": "2018-01-19T08:19:58.521783Z"
    }
   },
   "outputs": [
    {
     "data": {
      "text/plain": [
       "Parameter sequential2_dense0_weight (shape=(4, 10), dtype=<class 'numpy.float32'>)"
      ]
     },
     "execution_count": 40,
     "metadata": {},
     "output_type": "execute_result"
    }
   ],
   "source": [
    "net[0].weight"
   ]
  },
  {
   "cell_type": "code",
   "execution_count": 32,
   "metadata": {
    "ExecuteTime": {
     "end_time": "2018-01-19T08:16:57.480281Z",
     "start_time": "2018-01-19T08:16:57.470570Z"
    }
   },
   "outputs": [
    {
     "data": {
      "text/plain": [
       "\n",
       "[ 0.  0.  0.  0.]\n",
       "<NDArray 4 @gpu(0)>"
      ]
     },
     "execution_count": 32,
     "metadata": {},
     "output_type": "execute_result"
    }
   ],
   "source": [
    "net[0].bias.data()"
   ]
  },
  {
   "cell_type": "code",
   "execution_count": 35,
   "metadata": {
    "ExecuteTime": {
     "end_time": "2018-01-19T08:17:08.357808Z",
     "start_time": "2018-01-19T08:17:08.348629Z"
    }
   },
   "outputs": [
    {
     "data": {
      "text/plain": [
       "Dense(10 -> 4, linear)"
      ]
     },
     "execution_count": 35,
     "metadata": {},
     "output_type": "execute_result"
    }
   ],
   "source": [
    "net[0]"
   ]
  }
 ],
 "metadata": {
  "kernelspec": {
   "display_name": "Python 3",
   "language": "python",
   "name": "python3"
  },
  "language_info": {
   "codemirror_mode": {
    "name": "ipython",
    "version": 3
   },
   "file_extension": ".py",
   "mimetype": "text/x-python",
   "name": "python",
   "nbconvert_exporter": "python",
   "pygments_lexer": "ipython3",
   "version": "3.5.2"
  }
 },
 "nbformat": 4,
 "nbformat_minor": 2
}
